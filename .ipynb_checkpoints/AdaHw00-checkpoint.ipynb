{
 "cells": [
  {
   "cell_type": "code",
   "execution_count": 98,
   "metadata": {},
   "outputs": [
    {
     "name": "stdout",
     "output_type": "stream",
     "text": [
      "total number of deaths : 33599\n",
      "total number of suicides : 21058\n",
      "percentage of suicides :  62.6744843597 %\n",
      "Male suicides percentage : 86.2475068857 %\n",
      "Male suicides older 45  22.1103618577 %\n",
      "homocides victimes: 34.8998482098 %\n",
      "black victimes of homocides 15.2737506396 %\n"
     ]
    }
   ],
   "source": [
    "import json\n",
    "import pandas as pd\n",
    "\n",
    "\n",
    "data_path = './interactive_data.csv'\n",
    "\n",
    "df = pd.read_csv(data_path)\n",
    "\n",
    "def get_stats(df,intent = \"None selected\",gender = \"None selected\",age = \"None selected\",race= \"None selected\"):\n",
    "    df = df.loc[(df.Intent==intent)&(df.Gender==gender) &(df.Age==age) & (df.Race == race) ]\n",
    "    return df\n",
    "\n",
    "\n",
    "total_deaths = get_stats(df)['Deaths'].values[0]\n",
    "total_sucides = get_stats(df,intent=\"Suicide\")['Deaths'].values[0]\n",
    "\n",
    "male_suicides = get_stats(df,intent=\"Suicide\",gender=\"Male\")['Deaths'].values[0]\n",
    "\n",
    "\n",
    "male_suicides_older = get_stats(df,intent=\"Suicide\",gender=\"Male\",age=\"65+\")['Deaths'].values[0]\n",
    "\n",
    "homicides = get_stats(df, intent = \"Homicide\")['Deaths'].values[0]\n",
    "\n",
    "homicides_black = get_stats(df, intent=\"Homicide\",race=\"Black\")['Deaths'].values[0]\n",
    "\n",
    "homicides_female = get_stats(df,intent=\"Homicide\",gender =\"Female\")['Deaths'].values[0]\n",
    "\n",
    "\n",
    "print(\"total number of deaths :\",total_deaths)\n",
    "print(\"total number of suicides :\", total_sucides)\n",
    "print(\"percentage of suicides : \", total_sucides/total_deaths*(1.0) * 100, \"%\")\n",
    "print(\"Male suicides percentage :\", male_suicides/total_sucides *(1.0) * 100, \"%\")\n",
    "print(\"Male suicides older 45 \", male_suicides_older/total_sucides*(1.0) * 100,\"%\")\n",
    "print(\"homocides victimes:\" ,homicides/total_deaths * 100,\"%\")\n",
    "print(\"black victimes of homocides\",homicides_female/homicides * 100,\"%\")\n",
    "\n",
    "\n",
    "\n",
    "\n",
    "\n",
    "\n",
    "\n"
   ]
  },
  {
   "cell_type": "code",
   "execution_count": 178,
   "metadata": {},
   "outputs": [
    {
     "name": "stdout",
     "output_type": "stream",
     "text": [
      "1\n",
      "'\"Intent\"'\n",
      "'\"Intent\"'\n"
     ]
    }
   ],
   "source": [
    "import numpy as np\n",
    "\n",
    "\"\"\"Parsing in native python i guess....\"\"\"\n",
    "\n",
    "\n",
    "def get_column(column,keyword):\n",
    "    return column.index(keyword)\n",
    "    \n",
    "data_path = './interactive_data.csv'\n",
    "\n",
    "data = open(data_path,\"r\")\n",
    "\n",
    "data_array = []\n",
    "for line in data :\n",
    "    l = line.split(\",\")\n",
    "    data_array.append(l)\n",
    "\n",
    "\n",
    "data = data_array\n",
    "\n",
    "print(get_column(data[0],'\"Intent\"'))\n",
    "\n",
    "\n",
    "\n",
    "\n",
    "print('\\'\"Intent\"\\'')\n",
    "\n",
    "def get_stats(data):\n",
    "    \n",
    "    col = get_column(data)\n",
    "\n",
    "\n",
    "\n",
    "\n"
   ]
  },
  {
   "cell_type": "code",
   "execution_count": null,
   "metadata": {},
   "outputs": [],
   "source": []
  }
 ],
 "metadata": {
  "anaconda-cloud": {},
  "kernelspec": {
   "display_name": "Python [conda root]",
   "language": "python",
   "name": "conda-root-py"
  },
  "language_info": {
   "codemirror_mode": {
    "name": "ipython",
    "version": 3
   },
   "file_extension": ".py",
   "mimetype": "text/x-python",
   "name": "python",
   "nbconvert_exporter": "python",
   "pygments_lexer": "ipython3",
   "version": "3.5.2"
  }
 },
 "nbformat": 4,
 "nbformat_minor": 2
}
