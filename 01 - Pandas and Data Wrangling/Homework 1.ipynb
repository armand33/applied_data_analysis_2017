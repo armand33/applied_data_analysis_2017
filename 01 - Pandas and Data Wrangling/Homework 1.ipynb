{
 "cells": [
  {
   "cell_type": "markdown",
   "metadata": {},
   "source": [
    "# Table of Contents\n",
    " <p><div class=\"lev1\"><a href=\"#Task-1.-Compiling-Ebola-Data\"><span class=\"toc-item-num\">Task 1.&nbsp;&nbsp;</span>Compiling Ebola Data</a></div>\n",
    " <div class=\"lev1\"><a href=\"#Task-2.-RNA-Sequences\"><span class=\"toc-item-num\">Task 2.&nbsp;&nbsp;</span>RNA Sequences</a></div>\n",
    " <div class=\"lev1\"><a href=\"#Task-3.-Class-War-in-Titanic\"><span class=\"toc-item-num\">Task 3.&nbsp;&nbsp;</span>Class War in Titanic</a></div></p>"
   ]
  },
  {
   "cell_type": "code",
   "execution_count": 23,
   "metadata": {},
   "outputs": [],
   "source": [
    "DATA_FOLDER = './Data' # Use the data folder provided in Tutorial 02 - Intro to Pandas."
   ]
  },
  {
   "cell_type": "markdown",
   "metadata": {},
   "source": [
    "## Task 1. Compiling Ebola Data\n",
    "\n",
    "The `DATA_FOLDER/ebola` folder contains summarized reports of Ebola cases from three countries (Guinea, Liberia and Sierra Leone) during the recent outbreak of the disease in West Africa. For each country, there are daily reports that contain various information about the outbreak in several cities in each country.\n",
    "\n",
    "Use pandas to import these data files into a single `Dataframe`.\n",
    "Using this `DataFrame`, calculate for *each country*, the *daily average per month* of *new cases* and *deaths*.\n",
    "Make sure you handle all the different expressions for *new cases* and *deaths* that are used in the reports."
   ]
  },
  {
   "cell_type": "code",
   "execution_count": 284,
   "metadata": {},
   "outputs": [
    {
     "data": {
      "text/html": [
       "<div>\n",
       "<style>\n",
       "    .dataframe thead tr:only-child th {\n",
       "        text-align: right;\n",
       "    }\n",
       "\n",
       "    .dataframe thead th {\n",
       "        text-align: left;\n",
       "    }\n",
       "\n",
       "    .dataframe tbody tr th {\n",
       "        vertical-align: top;\n",
       "    }\n",
       "</style>\n",
       "<table border=\"1\" class=\"dataframe\">\n",
       "  <thead>\n",
       "    <tr style=\"text-align: right;\">\n",
       "      <th></th>\n",
       "      <th>Cases</th>\n",
       "      <th>Country</th>\n",
       "      <th>Date</th>\n",
       "      <th>Deaths</th>\n",
       "    </tr>\n",
       "  </thead>\n",
       "  <tbody>\n",
       "    <tr>\n",
       "      <th>11</th>\n",
       "      <td>1287.0</td>\n",
       "      <td>sl</td>\n",
       "      <td>2014-09-07</td>\n",
       "      <td>428.0</td>\n",
       "    </tr>\n",
       "    <tr>\n",
       "      <th>11</th>\n",
       "      <td>3841.0</td>\n",
       "      <td>sl</td>\n",
       "      <td>2014-10-30</td>\n",
       "      <td>1064.0</td>\n",
       "    </tr>\n",
       "    <tr>\n",
       "      <th>11</th>\n",
       "      <td>3223.0</td>\n",
       "      <td>sl</td>\n",
       "      <td>2014-10-19</td>\n",
       "      <td>986.0</td>\n",
       "    </tr>\n",
       "    <tr>\n",
       "      <th>11</th>\n",
       "      <td>3936.0</td>\n",
       "      <td>sl</td>\n",
       "      <td>2014-10-31</td>\n",
       "      <td>1070.0</td>\n",
       "    </tr>\n",
       "    <tr>\n",
       "      <th>11</th>\n",
       "      <td>3154.0</td>\n",
       "      <td>sl</td>\n",
       "      <td>2014-10-18</td>\n",
       "      <td>973.0</td>\n",
       "    </tr>\n",
       "  </tbody>\n",
       "</table>\n",
       "</div>"
      ],
      "text/plain": [
       "     Cases Country        Date  Deaths\n",
       "11  1287.0      sl  2014-09-07   428.0\n",
       "11  3841.0      sl  2014-10-30  1064.0\n",
       "11  3223.0      sl  2014-10-19   986.0\n",
       "11  3936.0      sl  2014-10-31  1070.0\n",
       "11  3154.0      sl  2014-10-18   973.0"
      ]
     },
     "execution_count": 284,
     "metadata": {},
     "output_type": "execute_result"
    }
   ],
   "source": [
    "# Write your answer here\n",
    "# Dataframe importing \n",
    "# Colums: country, month, averagy, new cases, death\n",
    "\n",
    "import glob\n",
    "\n",
    "# column names and interesting variables for each country\n",
    "col_date={\"liberia\": \"Date\",\n",
    "        \"guinea\" : \"Date\",\n",
    "        \"sl\" : \"date\"} # descriptor column title\n",
    "\n",
    "col_name={\"liberia\": \"Variable\",\n",
    "        \"guinea\" : \"Description\",\n",
    "        \"sl\" : \"variable\"} # descriptor column title\n",
    "\n",
    "# TODO total vs new deaths / cases\n",
    "col_total={\"guinea\":\"Totals\",\n",
    "         \"liberia\":\"National\",\n",
    "         \"sl\": \"National\"} # name of the column in each file where the national totals are stored\n",
    "# TODO sum counties if no national data availble\n",
    "# TODO total for the day or cumulative over the moth?\n",
    "\n",
    "variables={\"liberia\": [\"Total death/s in confirmed cases\",\"New case/s (confirmed)\"],\n",
    "           \"guinea\" : [\"Total deaths of confirmed\",\"New cases of confirmed\"],\n",
    "           \"sl\":[\"death_confirmed\",\"cum_confirmed\"]} # relevant rows in col_name[country]\n",
    "\n",
    "\n",
    "\n",
    "for c in ['sl']:#'guinea','liberia',\n",
    "    dfs=[]\n",
    "    for file in glob.glob(DATA_FOLDER+\"/ebola/\"+c+\"_data/*.csv\"):\n",
    "        df = pd.read_csv(file,index_col=None)\n",
    "        \n",
    "        new = df[df[col_name[c]].isin(variables[c])]\n",
    "        \n",
    "        \n",
    "        new = new[[col_date[c],col_name[c],col_total[c]]]\n",
    "        #print(new[0:1][col_total[c]].values[0])\n",
    "        cases=float((str(new[0:1][col_total[c]].values[0]).replace(',','')))\n",
    "    \n",
    "        deaths=float(new[1:2][col_total[c]]) # TODO if there are several rows, take sum\n",
    "\n",
    "        date=new[1:2][col_date[c]]\n",
    "        newdf=pd.DataFrame({\"Country\":c,\"Date\":date,\"Deaths\":deaths,\"Cases\":cases},index=None)\n",
    "        dfs.append(newdf)\n",
    "        \n",
    "for i in range(len(dfs)-1):\n",
    "   dfs[0] = pd.concat([dfs[0],dfs[i+1]])\n",
    "\n",
    "dfs[0].head()\n"
   ]
  },
  {
   "cell_type": "code",
   "execution_count": null,
   "metadata": {},
   "outputs": [],
   "source": []
  },
  {
   "cell_type": "markdown",
   "metadata": {},
   "source": [
    "## Task 2. RNA Sequences\n",
    "\n",
    "In the `DATA_FOLDER/microbiome` subdirectory, there are 9 spreadsheets of microbiome data that was acquired from high-throughput RNA sequencing procedures, along with a 10<sup>th</sup> file that describes the content of each. \n",
    "\n",
    "Use pandas to import the first 9 spreadsheets into a single `DataFrame`.\n",
    "Then, add the metadata information from the 10<sup>th</sup> spreadsheet as columns in the combined `DataFrame`.\n",
    "Make sure that the final `DataFrame` has a unique index and all the `NaN` values have been replaced by the tag `unknown`."
   ]
  },
  {
   "cell_type": "code",
   "execution_count": 3,
   "metadata": {},
   "outputs": [
    {
     "data": {
      "text/html": [
       "<div>\n",
       "<style>\n",
       "    .dataframe thead tr:only-child th {\n",
       "        text-align: right;\n",
       "    }\n",
       "\n",
       "    .dataframe thead th {\n",
       "        text-align: left;\n",
       "    }\n",
       "\n",
       "    .dataframe tbody tr th {\n",
       "        vertical-align: top;\n",
       "    }\n",
       "</style>\n",
       "<table border=\"1\" class=\"dataframe\">\n",
       "  <thead>\n",
       "    <tr style=\"text-align: right;\">\n",
       "      <th></th>\n",
       "      <th></th>\n",
       "      <th>GROUP</th>\n",
       "      <th>SAMPLE</th>\n",
       "      <th>Count</th>\n",
       "    </tr>\n",
       "    <tr>\n",
       "      <th>Species</th>\n",
       "      <th>BARCODE</th>\n",
       "      <th></th>\n",
       "      <th></th>\n",
       "      <th></th>\n",
       "    </tr>\n",
       "  </thead>\n",
       "  <tbody>\n",
       "    <tr>\n",
       "      <th>Archaea \"Crenarchaeota\" Thermoprotei Desulfurococcales Desulfurococcaceae Ignisphaera</th>\n",
       "      <th>MID1</th>\n",
       "      <td>EXTRACTION CONTROL</td>\n",
       "      <td>unknown</td>\n",
       "      <td>7</td>\n",
       "    </tr>\n",
       "    <tr>\n",
       "      <th>Archaea \"Crenarchaeota\" Thermoprotei Desulfurococcales Pyrodictiaceae Pyrolobus</th>\n",
       "      <th>MID1</th>\n",
       "      <td>EXTRACTION CONTROL</td>\n",
       "      <td>unknown</td>\n",
       "      <td>2</td>\n",
       "    </tr>\n",
       "    <tr>\n",
       "      <th>Archaea \"Crenarchaeota\" Thermoprotei Sulfolobales Sulfolobaceae Stygiolobus</th>\n",
       "      <th>MID1</th>\n",
       "      <td>EXTRACTION CONTROL</td>\n",
       "      <td>unknown</td>\n",
       "      <td>3</td>\n",
       "    </tr>\n",
       "    <tr>\n",
       "      <th>Archaea \"Crenarchaeota\" Thermoprotei Thermoproteales Thermofilaceae Thermofilum</th>\n",
       "      <th>MID1</th>\n",
       "      <td>EXTRACTION CONTROL</td>\n",
       "      <td>unknown</td>\n",
       "      <td>3</td>\n",
       "    </tr>\n",
       "    <tr>\n",
       "      <th>Archaea \"Euryarchaeota\" \"Methanomicrobia\" Methanocellales Methanocellaceae Methanocella</th>\n",
       "      <th>MID1</th>\n",
       "      <td>EXTRACTION CONTROL</td>\n",
       "      <td>unknown</td>\n",
       "      <td>7</td>\n",
       "    </tr>\n",
       "  </tbody>\n",
       "</table>\n",
       "</div>"
      ],
      "text/plain": [
       "                                                                         GROUP  \\\n",
       "Species                                            BARCODE                       \n",
       "Archaea \"Crenarchaeota\" Thermoprotei Desulfuroc... MID1     EXTRACTION CONTROL   \n",
       "Archaea \"Crenarchaeota\" Thermoprotei Desulfuroc... MID1     EXTRACTION CONTROL   \n",
       "Archaea \"Crenarchaeota\" Thermoprotei Sulfolobal... MID1     EXTRACTION CONTROL   \n",
       "Archaea \"Crenarchaeota\" Thermoprotei Thermoprot... MID1     EXTRACTION CONTROL   \n",
       "Archaea \"Euryarchaeota\" \"Methanomicrobia\" Metha... MID1     EXTRACTION CONTROL   \n",
       "\n",
       "                                                             SAMPLE  Count  \n",
       "Species                                            BARCODE                  \n",
       "Archaea \"Crenarchaeota\" Thermoprotei Desulfuroc... MID1     unknown      7  \n",
       "Archaea \"Crenarchaeota\" Thermoprotei Desulfuroc... MID1     unknown      2  \n",
       "Archaea \"Crenarchaeota\" Thermoprotei Sulfolobal... MID1     unknown      3  \n",
       "Archaea \"Crenarchaeota\" Thermoprotei Thermoprot... MID1     unknown      3  \n",
       "Archaea \"Euryarchaeota\" \"Methanomicrobia\" Metha... MID1     unknown      7  "
      ]
     },
     "execution_count": 3,
     "metadata": {},
     "output_type": "execute_result"
    }
   ],
   "source": [
    "# Write your answer here\n",
    "import pandas as pd\n",
    "\n",
    "# Read in Excel files, concatenate them and add file name (MID1...9) for later merging\n",
    "i=1\n",
    "MID = pd.read_excel(DATA_FOLDER+'/microbiome/MID'+str(i)+'.xls', sheetname='Sheet 1', header=None,index_col=0)\n",
    "MID.columns=['Count']\n",
    "MID['BARCODE'] = \"MID1\" # add column with file name\n",
    "for i in range(2,10):\n",
    "    MID_tmp=pd.read_excel(DATA_FOLDER+'/microbiome/MID'+str(i)+'.xls', sheetname='Sheet 1', header=None,index_col=0)\n",
    "    MID_tmp.columns=['Count']\n",
    "    MID_tmp['BARCODE'] = \"MID\"+str(i)  # add column with file name\n",
    "    MID=pd.concat([MID, MID_tmp], axis=0)\n",
    "# read metadata\n",
    "\n",
    "MID.index.name=\"Species\"\n",
    "MID.head()\n",
    "metadata = pd.read_excel(DATA_FOLDER+'/microbiome/metadata.xls', sheetname='Sheet1',index_col=0)\n",
    "\n",
    "# merge metadata and files\n",
    "MID_merged = pd.merge(metadata, MID, left_index=True, right_on='BARCODE')\n",
    "MID_merged=MID_merged.reset_index().set_index(['Species','BARCODE']) # new index\n",
    "# print(MID_merged.index.is_unique) # True\n",
    "MID_merged=MID_merged.fillna(\"unknown\")\n",
    "MID_merged.head()"
   ]
  },
  {
   "cell_type": "markdown",
   "metadata": {},
   "source": [
    "## Task 3. Class War in Titanic\n",
    "\n",
    "Use pandas to import the data file `Data/titanic.xls`. It contains data on all the passengers that travelled on the Titanic."
   ]
  },
  {
   "cell_type": "code",
   "execution_count": null,
   "metadata": {},
   "outputs": [],
   "source": [
    "from IPython.core.display import HTML\n",
    "HTML(filename=DATA_FOLDER+'/titanic.html')"
   ]
  },
  {
   "cell_type": "markdown",
   "metadata": {},
   "source": [
    "For each of the following questions state clearly your assumptions and discuss your findings:\n",
    "1. Describe the *type* and the *value range* of each attribute. Indicate and transform the attributes that can be `Categorical`. \n",
    "2. Plot histograms for the *travel class*, *embarkation port*, *sex* and *age* attributes. For the latter one, use *discrete decade intervals*. \n",
    "3. Calculate the proportion of passengers by *cabin floor*. Present your results in a *pie chart*.\n",
    "4. For each *travel class*, calculate the proportion of the passengers that survived. Present your results in *pie charts*.\n",
    "5. Calculate the proportion of the passengers that survived by *travel class* and *sex*. Present your results in *a single histogram*.\n",
    "6. Create 2 equally populated *age categories* and calculate survival proportions by *age category*, *travel class* and *sex*. Present your results in a `DataFrame` with unique index."
   ]
  },
  {
   "cell_type": "code",
   "execution_count": null,
   "metadata": {
    "collapsed": true
   },
   "outputs": [],
   "source": [
    "# Write your answer here"
   ]
  }
 ],
 "metadata": {
  "kernelspec": {
   "display_name": "Python 3",
   "language": "python",
   "name": "python3"
  },
  "language_info": {
   "codemirror_mode": {
    "name": "ipython",
    "version": 3
   },
   "file_extension": ".py",
   "mimetype": "text/x-python",
   "name": "python",
   "nbconvert_exporter": "python",
   "pygments_lexer": "ipython3",
   "version": "3.6.1"
  }
 },
 "nbformat": 4,
 "nbformat_minor": 2
}
