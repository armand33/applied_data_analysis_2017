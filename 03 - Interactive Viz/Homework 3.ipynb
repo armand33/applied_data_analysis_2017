{
 "cells": [
  {
   "cell_type": "markdown",
   "metadata": {},
   "source": [
    "# 03 - Interactive Viz\n",
    "\n",
    "## Important\n",
    "In order to see the rendered maps, you can follow this [link](https://nbviewer.jupyter.org/github/armand33/applied_data_analysis_2017/blob/master/03%20-%20Interactive%20Viz/Homework%203.ipynb?flush_cache=true) to an online notebook viewer.\n",
    "\n",
    "If link is dead, and to make sure you read the latest version of render, you can also go on the [notebook viewer website](https://nbviewer.jupyter.org/) and paste the github [link](https://github.com/armand33/applied_data_analysis_2017/blob/master/03%20-%20Interactive%20Viz/Homework%203.ipynb) of our notebook.\n"
   ]
  },
  {
   "cell_type": "code",
   "execution_count": 1,
   "metadata": {},
   "outputs": [],
   "source": [
    "import pandas as pd\n",
    "import numpy as np\n",
    "import branca.colormap as bcm\n",
    "import folium\n",
    "import json\n",
    "import geopandas as gpd\n",
    "import codecs\n",
    "import matplotlib.pyplot as plt\n",
    "from matplotlib.pyplot import cm\n",
    "\n",
    "from geopandas import GeoSeries, GeoDataFrame\n",
    "from folium.plugins import MarkerCluster"
   ]
  },
  {
   "cell_type": "markdown",
   "metadata": {},
   "source": [
    "### General choices:\n",
    "\n",
    "In all this homework, we chose the rates over the last quarter (for Europe). For Switzerland, we downloaded the unemployment numbers for September 2017 to reproduce the numbers mentioned in the report. We could have averaged over the last calendar year (that would have canceled some eventual season effects) but it would also have taken into account outdated data. **We generally chose to work on the latest data available.**"
   ]
  },
  {
   "cell_type": "markdown",
   "metadata": {},
   "source": [
    "# 1) European unemployment\n",
    "\n",
    "Go to the [eurostat](http://ec.europa.eu/eurostat/data/database) website and try to find a dataset that includes the european unemployment rates at a recent date.\n",
    "\n",
    "   Use this data to build a [Choropleth map](https://en.wikipedia.org/wiki/Choropleth_map) which shows the unemployment rate in Europe at a country level. Think about [the colors you use](https://carto.com/academy/courses/intermediate-design/choose-colors-1/), how you decided to [split the intervals into data classes](http://gisgeography.com/choropleth-maps-data-classification/) or which interactions you could add in order to make the visualization intuitive and expressive. Compare Switzerland's unemployment rate to that of the rest of Europe."
   ]
  },
  {
   "cell_type": "markdown",
   "metadata": {},
   "source": [
    "#### Paths"
   ]
  },
  {
   "cell_type": "code",
   "execution_count": 2,
   "metadata": {},
   "outputs": [],
   "source": [
    "europe_csv = 'data/lfsq_urgan_1_Data.csv'\n",
    "topo_path = r'topojson/europe.topojson.json'"
   ]
  },
  {
   "cell_type": "code",
   "execution_count": 3,
   "metadata": {},
   "outputs": [],
   "source": [
    "topo_data = json.load(open(topo_path))"
   ]
  },
  {
   "cell_type": "markdown",
   "metadata": {},
   "source": [
    "#### Extracting unemployment rates\n",
    "\n",
    "We use the unemployement rates of the second quarter of 2017. These are the most recent rates found on the eurostat website."
   ]
  },
  {
   "cell_type": "code",
   "execution_count": 4,
   "metadata": {
    "scrolled": true
   },
   "outputs": [
    {
     "data": {
      "text/html": [
       "<div>\n",
       "<style>\n",
       "    .dataframe thead tr:only-child th {\n",
       "        text-align: right;\n",
       "    }\n",
       "\n",
       "    .dataframe thead th {\n",
       "        text-align: left;\n",
       "    }\n",
       "\n",
       "    .dataframe tbody tr th {\n",
       "        vertical-align: top;\n",
       "    }\n",
       "</style>\n",
       "<table border=\"1\" class=\"dataframe\">\n",
       "  <thead>\n",
       "    <tr style=\"text-align: right;\">\n",
       "      <th></th>\n",
       "      <th>country</th>\n",
       "      <th>rate</th>\n",
       "    </tr>\n",
       "  </thead>\n",
       "  <tbody>\n",
       "    <tr>\n",
       "      <th>0</th>\n",
       "      <td>Belgium</td>\n",
       "      <td>7.0</td>\n",
       "    </tr>\n",
       "    <tr>\n",
       "      <th>1</th>\n",
       "      <td>Bulgaria</td>\n",
       "      <td>6.3</td>\n",
       "    </tr>\n",
       "    <tr>\n",
       "      <th>2</th>\n",
       "      <td>Czech Republic</td>\n",
       "      <td>3.0</td>\n",
       "    </tr>\n",
       "    <tr>\n",
       "      <th>3</th>\n",
       "      <td>Denmark</td>\n",
       "      <td>5.5</td>\n",
       "    </tr>\n",
       "    <tr>\n",
       "      <th>4</th>\n",
       "      <td>Germany (until 1990 former territory of the FRG)</td>\n",
       "      <td>3.8</td>\n",
       "    </tr>\n",
       "  </tbody>\n",
       "</table>\n",
       "</div>"
      ],
      "text/plain": [
       "                                            country  rate\n",
       "0                                           Belgium   7.0\n",
       "1                                          Bulgaria   6.3\n",
       "2                                    Czech Republic   3.0\n",
       "3                                           Denmark   5.5\n",
       "4  Germany (until 1990 former territory of the FRG)   3.8"
      ]
     },
     "execution_count": 4,
     "metadata": {},
     "output_type": "execute_result"
    }
   ],
   "source": [
    "df = pd.read_csv(europe_csv)\n",
    "df = df.loc[df.TIME == '2017Q2'].loc[df.SEX == 'Total'].loc[:, ['GEO', 'Value']]\n",
    "df.columns = ['country', 'rate']\n",
    "df = df[6:].reset_index(drop=True)\n",
    "df.head()"
   ]
  },
  {
   "cell_type": "markdown",
   "metadata": {},
   "source": [
    "Changing some names to simplify later displying and merging."
   ]
  },
  {
   "cell_type": "code",
   "execution_count": 5,
   "metadata": {},
   "outputs": [],
   "source": [
    "df.loc[df.country == 'Germany (until 1990 former territory of the FRG)', 'country'] = 'Germany'\n",
    "df.loc[df.country == 'Former Yugoslav Republic of Macedonia, the', 'country'] = 'The former Yugoslav Republic of Macedonia'"
   ]
  },
  {
   "cell_type": "markdown",
   "metadata": {},
   "source": [
    "#### Retrieving the two-letter country codes for each country. \n",
    "\n",
    "These codes are contained in the topojson file provided. They will be useful in order to build the map."
   ]
  },
  {
   "cell_type": "code",
   "execution_count": 6,
   "metadata": {},
   "outputs": [],
   "source": [
    "countries = {}\n",
    "for d in topo_data['objects']['europe']['geometries']:\n",
    "    countries[d['properties']['NAME']] = d['id']"
   ]
  },
  {
   "cell_type": "markdown",
   "metadata": {},
   "source": [
    "#### Entering those codes in the dataframe"
   ]
  },
  {
   "cell_type": "code",
   "execution_count": 7,
   "metadata": {},
   "outputs": [],
   "source": [
    "for i in df.index:\n",
    "    df.loc[i, 'code'] = countries[df.loc[i, 'country']]"
   ]
  },
  {
   "cell_type": "code",
   "execution_count": 8,
   "metadata": {},
   "outputs": [
    {
     "data": {
      "text/html": [
       "<div>\n",
       "<style>\n",
       "    .dataframe thead tr:only-child th {\n",
       "        text-align: right;\n",
       "    }\n",
       "\n",
       "    .dataframe thead th {\n",
       "        text-align: left;\n",
       "    }\n",
       "\n",
       "    .dataframe tbody tr th {\n",
       "        vertical-align: top;\n",
       "    }\n",
       "</style>\n",
       "<table border=\"1\" class=\"dataframe\">\n",
       "  <thead>\n",
       "    <tr style=\"text-align: right;\">\n",
       "      <th></th>\n",
       "      <th>country</th>\n",
       "      <th>rate</th>\n",
       "      <th>code</th>\n",
       "    </tr>\n",
       "  </thead>\n",
       "  <tbody>\n",
       "    <tr>\n",
       "      <th>0</th>\n",
       "      <td>Czech Republic</td>\n",
       "      <td>3.0</td>\n",
       "      <td>CZ</td>\n",
       "    </tr>\n",
       "    <tr>\n",
       "      <th>1</th>\n",
       "      <td>Iceland</td>\n",
       "      <td>3.4</td>\n",
       "      <td>IS</td>\n",
       "    </tr>\n",
       "    <tr>\n",
       "      <th>2</th>\n",
       "      <td>Germany</td>\n",
       "      <td>3.8</td>\n",
       "      <td>DE</td>\n",
       "    </tr>\n",
       "    <tr>\n",
       "      <th>3</th>\n",
       "      <td>Malta</td>\n",
       "      <td>4.1</td>\n",
       "      <td>MT</td>\n",
       "    </tr>\n",
       "    <tr>\n",
       "      <th>4</th>\n",
       "      <td>United Kingdom</td>\n",
       "      <td>4.3</td>\n",
       "      <td>GB</td>\n",
       "    </tr>\n",
       "  </tbody>\n",
       "</table>\n",
       "</div>"
      ],
      "text/plain": [
       "          country  rate code\n",
       "0  Czech Republic   3.0   CZ\n",
       "1         Iceland   3.4   IS\n",
       "2         Germany   3.8   DE\n",
       "3           Malta   4.1   MT\n",
       "4  United Kingdom   4.3   GB"
      ]
     },
     "execution_count": 8,
     "metadata": {},
     "output_type": "execute_result"
    }
   ],
   "source": [
    "df = df.sort_values('rate').reset_index(drop=True)\n",
    "df.head()"
   ]
  },
  {
   "cell_type": "markdown",
   "metadata": {},
   "source": [
    "#### Choosing intervals for colors :\n",
    "\n",
    "We use 5 classes:\n",
    "* 1 for outliers (Spaine, Greece and Macedonia)\n",
    "* 4 for the other countries using quantile classification "
   ]
  },
  {
   "cell_type": "code",
   "execution_count": 9,
   "metadata": {
    "scrolled": true
   },
   "outputs": [],
   "source": [
    "df.loc[:len(df)-3, 'class'] = pd.qcut(df.rate[:len(df)-3], 4, labels = [i for i in range(1,5)])\n",
    "df.loc[len(df)-3:, 'class'] = 5"
   ]
  },
  {
   "cell_type": "markdown",
   "metadata": {},
   "source": [
    "Here is the number of countries for which the unemployment rate is in each interval."
   ]
  },
  {
   "cell_type": "code",
   "execution_count": 10,
   "metadata": {},
   "outputs": [
    {
     "data": {
      "text/plain": [
       "4.0    8\n",
       "1.0    8\n",
       "3.0    7\n",
       "2.0    7\n",
       "5.0    3\n",
       "Name: class, dtype: int64"
      ]
     },
     "execution_count": 10,
     "metadata": {},
     "output_type": "execute_result"
    }
   ],
   "source": [
    "df['class'].value_counts()"
   ]
  },
  {
   "cell_type": "markdown",
   "metadata": {},
   "source": [
    "The interval bounds are the following:"
   ]
  },
  {
   "cell_type": "code",
   "execution_count": 11,
   "metadata": {},
   "outputs": [
    {
     "data": {
      "text/plain": [
       "[3.0,\n",
       " 4.4000000000000004,\n",
       " 6.2999999999999998,\n",
       " 8.0999999999999996,\n",
       " 11.0,\n",
       " 22.600000000000001]"
      ]
     },
     "execution_count": 11,
     "metadata": {},
     "output_type": "execute_result"
    }
   ],
   "source": [
    "t = [min(df['rate'])]\n",
    "for i in range(1,6):\n",
    "    tmp = df.loc[df['class'] == i]['rate'].values\n",
    "    t.append(max(tmp))\n",
    "    \n",
    "t"
   ]
  },
  {
   "cell_type": "markdown",
   "metadata": {},
   "source": [
    "#### Building the map"
   ]
  },
  {
   "cell_type": "markdown",
   "metadata": {},
   "source": [
    "#### Chloropleth\n",
    "\n",
    "We add a cholorpleth for the present data. First, we define a meaningful colormap:"
   ]
  },
  {
   "cell_type": "markdown",
   "metadata": {},
   "source": [
    "We will show the colormap in quantiles according to the rates, in order to account show more differences in the values:"
   ]
  },
  {
   "cell_type": "code",
   "execution_count": 12,
   "metadata": {},
   "outputs": [
    {
     "ename": "NameError",
     "evalue": "name 'bcolormap' is not defined",
     "output_type": "error",
     "traceback": [
      "\u001b[0;31m---------------------------------------------------------------------------\u001b[0m",
      "\u001b[0;31mNameError\u001b[0m                                 Traceback (most recent call last)",
      "\u001b[0;32m<ipython-input-12-9e0634c7ef33>\u001b[0m in \u001b[0;36m<module>\u001b[0;34m()\u001b[0m\n\u001b[0;32m----> 1\u001b[0;31m \u001b[0mcm1\u001b[0m \u001b[0;34m=\u001b[0m \u001b[0mbcolormap\u001b[0m\u001b[0;34m.\u001b[0m\u001b[0mlinear\u001b[0m\u001b[0;34m.\u001b[0m\u001b[0mYlOrRd\u001b[0m\u001b[0;34m\u001b[0m\u001b[0m\n\u001b[0m\u001b[1;32m      2\u001b[0m \u001b[0;34m\u001b[0m\u001b[0m\n\u001b[1;32m      3\u001b[0m cm1 = cm1.to_step(7,\n\u001b[1;32m      4\u001b[0m                \u001b[0mdata\u001b[0m\u001b[0;34m=\u001b[0m\u001b[0mdf\u001b[0m\u001b[0;34m[\u001b[0m\u001b[0;34m'rate'\u001b[0m\u001b[0;34m]\u001b[0m\u001b[0;34m,\u001b[0m\u001b[0;34m\u001b[0m\u001b[0m\n\u001b[1;32m      5\u001b[0m                method='quantiles')\n",
      "\u001b[0;31mNameError\u001b[0m: name 'bcolormap' is not defined"
     ]
    }
   ],
   "source": [
    "cm1 = bcm.linear.YlOrRd\n",
    "\n",
    "cm1 = cm1.to_step(7,\n",
    "               data=df['rate'],\n",
    "               method='quantiles')\n",
    "\n",
    "cm1.caption = 'Unemployment rate [%]'\n",
    "cm1"
   ]
  },
  {
   "cell_type": "markdown",
   "metadata": {},
   "source": [
    "**Yellow** indicates good (low) worklessness rates, **Red** indicates bad (high) worklessness rates. Missing countries in the Eurostat statistics will be colored **black**."
   ]
  },
  {
   "cell_type": "code",
   "execution_count": null,
   "metadata": {},
   "outputs": [],
   "source": [
    "def my_color_function(feature, field, cm):\n",
    "    \"\"\"Maps low values to green and hugh values to red.\"\"\"\n",
    "\n",
    "    rate = df[df['code'] == feature['id']][field]\n",
    "    if len(rate)>0: # check if the country is in the dataframe\n",
    "        rate = float(np.asarray(df[df['code'] == feature['id']][field])\n",
    ")\n",
    "        return cm(rate)\n",
    "    else:\n",
    "        return '#f000000'"
   ]
  },
  {
   "cell_type": "code",
   "execution_count": null,
   "metadata": {
    "scrolled": true
   },
   "outputs": [],
   "source": [
    "m1 = folium.Map(location=[50, 10], zoom_start=4, tiles='cartodbpositron')\n",
    "\n",
    "folium.TopoJson(\n",
    "    topo_data,\n",
    "    'objects.europe',\n",
    "    name='topojson',\n",
    "    style_function=lambda feature: {\n",
    "        'fillColor': my_color_function(feature,'rate', cm1),\n",
    "        'fillOpacity':.7,\n",
    "        'color' : 'black',\n",
    "        'weight' : .7,\n",
    "        'dashArray' : '2, 2'\n",
    "        }\n",
    ").add_to(m1)\n",
    "m1.add_child(cm1)\n",
    "% clear # avoid printing output"
   ]
  },
  {
   "cell_type": "markdown",
   "metadata": {},
   "source": [
    "#### Adding interactivity\n",
    "\n",
    "We want to add some markers on each country in order to get the exact value of unemployement rate by clicking on it.\n",
    "To do that we use a data set called `country_centroids_primary` that provides the coordinates of centroids of countries. This data set comes from [Gotos]('http://gothos.info/resources/')."
   ]
  },
  {
   "cell_type": "code",
   "execution_count": null,
   "metadata": {},
   "outputs": [],
   "source": [
    "centro = pd.read_csv('data/country_centroids_primary.csv', sep=('\\t')).loc[:, ['LAT', 'LONG', 'SHORT_NAME']]\n",
    "centro.columns = ['lat', 'long', 'name']\n",
    "centro.head()"
   ]
  },
  {
   "cell_type": "markdown",
   "metadata": {},
   "source": [
    "Now for each country of europe, we add the marker on the centroid. By clicking on the marker, one get the required value."
   ]
  },
  {
   "cell_type": "code",
   "execution_count": null,
   "metadata": {},
   "outputs": [],
   "source": [
    "m_c = MarkerCluster().add_to(m1)\n",
    "\n",
    "for i in df.index:\n",
    "    n = df.loc[i, 'country']\n",
    "    p = df.loc[i, 'rate']\n",
    "    if n == 'The former Yugoslav Republic of Macedonia':\n",
    "        n = 'Macedonia'\n",
    "    long, lat = centro.loc[centro.name == n, 'long'].values[0], centro.loc[centro.name == n, 'lat'].values[0]\n",
    "    folium.Marker([lat, long], popup='{} : {}%'.format(n, p) , icon=folium.Icon(color='green')).add_to(m_c)"
   ]
  },
  {
   "cell_type": "code",
   "execution_count": null,
   "metadata": {},
   "outputs": [],
   "source": [
    "m1.save('maps/m1.html')\n",
    "m1"
   ]
  },
  {
   "cell_type": "markdown",
   "metadata": {},
   "source": [
    "This is the final map. Black countries are countries for which there is no data."
   ]
  },
  {
   "cell_type": "markdown",
   "metadata": {},
   "source": [
    "#### Comparing to the rate in Switzerland\n",
    "\n",
    "We choose to plot countries that have lower unemployement rates in purple to blue and others on the same color scale as before (Yellow-Orange-Red)."
   ]
  },
  {
   "cell_type": "code",
   "execution_count": null,
   "metadata": {
    "scrolled": true
   },
   "outputs": [],
   "source": [
    "df['diff'] = df['rate'] - df.loc[df.country == 'Switzerland', 'rate'].values\n",
    "df['diff'] = df['diff'].astype(float).round(1)"
   ]
  },
  {
   "cell_type": "markdown",
   "metadata": {},
   "source": [
    "### Map Difference CH - Europe\n",
    "This time we want to build a \"bi-polar\" chloropleth to show two sides: positive (green) = countries with lower or similar unemployment rates, negative (red) = countries with higher unemployment rates."
   ]
  },
  {
   "cell_type": "code",
   "execution_count": null,
   "metadata": {},
   "outputs": [],
   "source": [
    "cm11 = bcolormap.LinearColormap(['green', 'yellow','red'])\n",
    "\n",
    "cm11 = cm11.to_step(10,\n",
    "               data=df['diff'],\n",
    "               method='quantiles')\n",
    "\n",
    "cm11.caption = 'Unemployment rate [%]'\n",
    "cm11"
   ]
  },
  {
   "cell_type": "code",
   "execution_count": null,
   "metadata": {},
   "outputs": [],
   "source": [
    "m11 = folium.Map(location=[50, 10], zoom_start=4, tiles='cartodbpositron')\n",
    "\n",
    "folium.TopoJson(\n",
    "    topo_data,\n",
    "    'objects.europe',\n",
    "    name='topojson',\n",
    "    style_function=lambda feature: {\n",
    "        'fillColor': my_color_function(feature, 'diff',cm11),\n",
    "        'fillOpacity':.7,\n",
    "        'color' : 'black',\n",
    "        'weight' : .7,\n",
    "        'dashArray' : '2, 2'\n",
    "        }\n",
    ").add_to(m11)\n",
    "m11.add_child(cm11)\n",
    "\n",
    "# Adding the markers\n",
    "m_c = MarkerCluster().add_to(m11)\n",
    "\n",
    "for i in df.index:\n",
    "    n = df.loc[i, 'country']\n",
    "    p = df.loc[i, 'diff']\n",
    "    if n == 'The former Yugoslav Republic of Macedonia':\n",
    "        n = 'Macedonia'\n",
    "    long, lat = centro.loc[centro.name == n, 'long'].values[0], centro.loc[centro.name == n, 'lat'].values[0]\n",
    "    folium.Marker([lat, long], popup='{} : {}%'.format(n, p) , icon=folium.Icon(color='green')).add_to(m_c)\n",
    "    \n",
    "\n",
    "m11.save('maps/m11.html')\n",
    "m11"
   ]
  },
  {
   "cell_type": "markdown",
   "metadata": {},
   "source": [
    "Note that Norway is still in white as it has the same rate as Switzerland.\n",
    "\n",
    "We note that most of countries in Europe have higher unemployement rate that swizerland.\n",
    "\n",
    "Countries that are really different from Switzerland are darker than others (Norway is in white as noted above)."
   ]
  },
  {
   "cell_type": "markdown",
   "metadata": {},
   "source": [
    "# 2) Suisse\n",
    "\n",
    "Go to the [amstat](https://www.amstat.ch) website to find a dataset that includes the unemployment rates in Switzerland at a recent date.\n",
    "\n",
    "   > *HINT* Go to the `details` tab to find the raw data you need. If you do not speak French, German or Italian, think of using free translation services to navigate your way through. \n",
    "\n",
    "   Use this data to build another Choropleth map, this time showing the unemployment rate at the level of swiss cantons. Again, try to make the map as expressive as possible, and comment on the trends you observe.\n",
    "\n",
    "   The Swiss Confederation defines the rates you have just plotted as the number of people looking for a job divided by the size of the active population (scaled by 100). This is surely a valid choice, but as we discussed one could argue for a different categorization.\n",
    "\n",
    "   Copy the map you have just created, but this time don't count in your statistics people who already have a job and are looking for a new one. How do your observations change ? You can repeat this with different choices of categories to see how selecting different metrics can lead to different interpretations of the same data."
   ]
  },
  {
   "cell_type": "markdown",
   "metadata": {},
   "source": [
    "#### The assumptions\n",
    "\n",
    "- When we import the data the unemployement rate that we get in the beginning is equals to the way the Swiss Confederation defines unemloyement\n",
    "- We retrieve our data from the amstat website under '2.1 Arbeitlosenquoten' \n",
    "- We choose the german version of the data due to the fact that the topojson file has most of the country names in german. Therefore, we need the codes of these countries.\n",
    "- Since Switzerland defines unemployment as the registered_jobseekers/active_population, we categorize the registered jobseekers into 2 groups : registered unemployed and registered non-unemployed.\n",
    "\n"
   ]
  },
  {
   "cell_type": "markdown",
   "metadata": {},
   "source": [
    "#### Data loading and cleaning"
   ]
  },
  {
   "cell_type": "code",
   "execution_count": null,
   "metadata": {},
   "outputs": [],
   "source": [
    "#Read the data\n",
    "df = pd.read_excel('data/unemployment.xlsx')\n",
    "\n",
    "# drop useless columns\n",
    "df = df.drop(['Gesamt','Gesamt.1','Gesamt.2','Gesamt.3'],axis = 1)\n",
    "\n",
    "# drop first and last rows\n",
    "df = df.drop(df.index[0])\n",
    "df = df.drop(df.index[len(df)-1])\n",
    "\n",
    "# rename the columns \n",
    "df.columns = ['canton','Rate','Registered unemployed','Registered jobseeker','Registered non-unemployed jobseeker']\n",
    "\n",
    "df = df.reset_index(drop=True)"
   ]
  },
  {
   "cell_type": "markdown",
   "metadata": {},
   "source": [
    "We convert the these respective columns which are of type string into numbers (float and int)"
   ]
  },
  {
   "cell_type": "code",
   "execution_count": null,
   "metadata": {},
   "outputs": [],
   "source": [
    "df['Rate'] = df['Rate'].astype(float)\n",
    "df['Registered unemployed'] = df['Registered unemployed'].astype(int)\n",
    "df['Registered jobseeker'] =  df['Registered jobseeker'].astype(int)\n",
    "df['Registered non-unemployed jobseeker'] = df['Registered non-unemployed jobseeker'].astype(int)"
   ]
  },
  {
   "cell_type": "code",
   "execution_count": null,
   "metadata": {
    "scrolled": true
   },
   "outputs": [],
   "source": [
    "#Cleaned data\n",
    "df.head()"
   ]
  },
  {
   "cell_type": "markdown",
   "metadata": {},
   "source": [
    "#### TopoJson setup"
   ]
  },
  {
   "cell_type": "markdown",
   "metadata": {},
   "source": [
    "Now we want to attach the codes of each canton to our dataframe. Given a topojson file, we traverse this datastructure each time retrieving the canton and its code.\n",
    "\n",
    "However we must state that there are some incoherences with the names of cantons in the topojson file and our read data from amstat. We solve these incoherences by choosing a common name between the 2 datasets."
   ]
  },
  {
   "cell_type": "code",
   "execution_count": null,
   "metadata": {},
   "outputs": [],
   "source": [
    "# load topo json file\n",
    "canton_geo_path = r'./topojson/ch-cantons.topojson.json'\n",
    "with codecs.open(canton_geo_path, \"r\", encoding='utf-8', errors='ignore') as topo_data:\n",
    "    topo_data = json.load(topo_data)"
   ]
  },
  {
   "cell_type": "code",
   "execution_count": null,
   "metadata": {},
   "outputs": [],
   "source": [
    "#we create a dictionary which has as a keys the cities and as values the codes \n",
    "canton_code = dict([(cantons['properties']['name'],cantons['id']) for cantons in topo_data['objects']['cantons']['geometries'] ])\n",
    "    \n",
    "#name incoherencies\n",
    "old_code = ['Bern/Berne', 'Fribourg', 'Genève', 'Graubünden/Grigioni', 'Neuchâtel', 'Ticino', 'Valais/Wallis', 'Vaud']\n",
    "new_code = ['Bern', 'Freiburg', 'Genf', 'Graubünden', 'Neuenburg', 'Tessin', 'Wallis', 'Waadt']\n",
    "\n",
    "#we rename the old_code with the new code\n",
    "for (old, new) in zip(old_code, new_code) :\n",
    "    canton_code[new] = canton_code.pop(old)"
   ]
  },
  {
   "cell_type": "markdown",
   "metadata": {},
   "source": [
    "We now finally combine the area codes with the our dataframe"
   ]
  },
  {
   "cell_type": "code",
   "execution_count": null,
   "metadata": {},
   "outputs": [],
   "source": [
    "codes = pd.Series(canton_code).reset_index().drop('index',axis = 1)\n",
    "codes.columns= ['code']\n",
    "df['code'] = codes"
   ]
  },
  {
   "cell_type": "code",
   "execution_count": null,
   "metadata": {
    "scrolled": true
   },
   "outputs": [],
   "source": [
    "df.head()"
   ]
  },
  {
   "cell_type": "markdown",
   "metadata": {},
   "source": [
    "#### Display the data on a map"
   ]
  },
  {
   "cell_type": "markdown",
   "metadata": {},
   "source": [
    "Let's build a chloropeth map displaying the unemployment rates of the cantons in Switzerland. Each canton will have a marker indicating its unemployement rate. \n",
    "The map is of course interactable"
   ]
  },
  {
   "cell_type": "code",
   "execution_count": null,
   "metadata": {},
   "outputs": [],
   "source": [
    "def makemap(topo_data, df, field, coordinates=[46.801111, 8.226667], legend='Unemployment rate (%)', t_min = None, t_max = None): \n",
    "    \"\"\"\n",
    "    This function is meant to build a cholorpleth.\n",
    "    \n",
    "    topo_data = data from the TopoJson file\n",
    "    df = pandas DataFrame containing the rates\n",
    "    field = field of df we which to display on the cholorpleth\n",
    "    coordinates = in order to center the map\n",
    "    legend = title of the legend\n",
    "    \"\"\"\n",
    "\n",
    "    \n",
    "    # get the range of the values\n",
    "    if t_min is None and t_max is None:\n",
    "        t_min = np.min(df[field].values.min())\n",
    "        t_max = np.max(df[field].values.max())\n",
    "    \n",
    "    # intervals for the cholorpleth (by default we choose 6 intervals)\n",
    "    t = list(np.linspace(t_min, t_max, 6))\n",
    "     \n",
    "    # create map\n",
    "    m = folium.Map(location=coordinates, zoom_start=8, tiles='cartodbpositron')\n",
    "    m.choropleth(geo_data=topo_data, data=df,\n",
    "                 columns=['code', field], topojson='objects.cantons',\n",
    "                 key_on='feature.id',\n",
    "                 fill_color='YlOrRd', fill_opacity=0.7, line_opacity=0.2,\n",
    "                 legend_name=legend, threshold_scale = t, name='unemployment layer',highlight=True)\n",
    "\n",
    "    # add markers\n",
    "    m_c = MarkerCluster().add_to(m)\n",
    "    for i in df.index:\n",
    "        n = df.loc[i, 'canton']\n",
    "        p = df.loc[i, field]\n",
    "        long, lat = df.loc[df.canton == n, 'lon'].values[0], df.loc[df.canton == n, 'lat'].values[0]\n",
    "        folium.Marker([lat, long], popup='{} : {}%'.format(n, p) , icon=folium.Icon(color='green')).add_to(m_c)\n",
    "    return m"
   ]
  },
  {
   "cell_type": "markdown",
   "metadata": {},
   "source": [
    "#### Obtain centroids for cantons\n",
    "- Municipality data are obtained on the [OpenData](https://opendata.swiss/en/dataset/gemeindetypologie-are) platform, which provides a link to official data of the Confederation on commune boarders. They contain a field KT_KZ which is the code of the canton (Kanton-Kennzeichen). We need to dissolve this shapefile to obtain geometries for each canton.\n",
    "- [Stackoverflow thread for dissolving geometries](https://gis.stackexchange.com/questions/149959/dissolving-polygons-based-on-attributes-with-python-shapely-fiona)\n",
    "- Finally, we obtain the centroids by using the geopandas library, which allows getting the centroid of Shapefile geometries."
   ]
  },
  {
   "cell_type": "code",
   "execution_count": null,
   "metadata": {},
   "outputs": [],
   "source": [
    "def dissolve_geometries():\n",
    "    # define your directories and file names\n",
    "    name_in = 'data/ARE_GemTyp00_9.shp'\n",
    "    name_out = 'data/cantons_dissolved.shp'\n",
    "\n",
    "    # create a dictionary\n",
    "    states = {}\n",
    "    # open your file with geopandas\n",
    "    counties = GeoDataFrame.from_file(name_in, crs = {'init' :'epsg:21781'})\n",
    "    for i in range(len(counties)):\n",
    "        state_id = counties.at[i, 'KT_KZ']\n",
    "        county_geometry = counties.at[i, 'geometry']\n",
    "        # if the feature's state doesn't yet exist, create it and assign a list\n",
    "        if state_id not in states:\n",
    "            states[state_id] = []\n",
    "        # append the feature to the list of features\n",
    "        states[state_id].append(county_geometry)\n",
    "\n",
    "    # create a geopandas geodataframe, with columns for state and geometry\n",
    "    states_dissolved = GeoDataFrame(columns=['state', 'geometry'], crs=counties.crs)\n",
    "    # iterate your dictionary\n",
    "    for state, county_list in states.items():\n",
    "        # create a geoseries from the list of features\n",
    "        geometry = GeoSeries(county_list)\n",
    "        # use unary_union to join them, thus returning polygon or multi-polygon\n",
    "        geometry = geometry.unary_union\n",
    "        # set your state and geometry values\n",
    "        states_dissolved.set_value(state, 'state', state)\n",
    "        states_dissolved.set_value(state, 'geometry', geometry)\n",
    "\n",
    "    # save to file\n",
    "    states_dissolved.to_file(name_out, driver=\"ESRI Shapefile\")\n",
    "    return states_dissolved"
   ]
  },
  {
   "cell_type": "code",
   "execution_count": null,
   "metadata": {},
   "outputs": [],
   "source": [
    "states_dissolved = dissolve_geometries()"
   ]
  },
  {
   "cell_type": "markdown",
   "metadata": {},
   "source": [
    "We now inverse the `canton_code` dictionnary to retrieve the names of cantons in the disolved centroids list."
   ]
  },
  {
   "cell_type": "code",
   "execution_count": null,
   "metadata": {},
   "outputs": [],
   "source": [
    "#Reverse canton code dictionary previously defined\n",
    "reversed_cantons_code = {v: k for k, v in canton_code.items()}"
   ]
  },
  {
   "cell_type": "markdown",
   "metadata": {},
   "source": [
    "Now we extract the coordinates of the centroid of each canton."
   ]
  },
  {
   "cell_type": "code",
   "execution_count": null,
   "metadata": {},
   "outputs": [],
   "source": [
    "# Each value of this dictionnary is a Point object. Attributes x and y are its coordinates.\n",
    "gdf = states_dissolved.centroid.to_crs({'init': 'epsg:4326'})\n",
    "\n",
    "# retrieving x values\n",
    "x = np.asarray(gdf.centroid.map(lambda p: p.x))\n",
    "# retrieving y values\n",
    "y = np.asarray(gdf.centroid.map(lambda p: p.y))\n",
    "\n",
    "# array of the canton codes\n",
    "cantons_c = np.array(states_dissolved['state'])\n",
    "\n",
    "#we build our centroid datastructure\n",
    "centroids = []\n",
    "for i in range(len(cantons_c)):\n",
    "    centroids.append([x[i],y[i], cantons_c[i], reversed_cantons_code[cantons_c[i]]])\n",
    "    \n",
    "# build a DataFrame\n",
    "canton_centroids = pd.DataFrame(centroids,columns=['lon', 'lat', 'code', 'canton'])\n",
    "canton_centroids = canton_centroids.sort_values('canton').reset_index(drop=True)\n",
    "canton_centroids.head()"
   ]
  },
  {
   "cell_type": "markdown",
   "metadata": {},
   "source": [
    "#### Merging centroid coordinates in global data frame"
   ]
  },
  {
   "cell_type": "code",
   "execution_count": null,
   "metadata": {},
   "outputs": [],
   "source": [
    "df = pd.merge(df, canton_centroids)"
   ]
  },
  {
   "cell_type": "code",
   "execution_count": null,
   "metadata": {},
   "outputs": [],
   "source": [
    "df.head()"
   ]
  },
  {
   "cell_type": "markdown",
   "metadata": {},
   "source": [
    "### We plot the map"
   ]
  },
  {
   "cell_type": "code",
   "execution_count": null,
   "metadata": {},
   "outputs": [],
   "source": [
    "swiss_coordinates = [46.801111, 8.226667]"
   ]
  },
  {
   "cell_type": "markdown",
   "metadata": {},
   "source": [
    "Here we display the chlorpeth map of the unemployments per swiss cantons"
   ]
  },
  {
   "cell_type": "code",
   "execution_count": null,
   "metadata": {
    "scrolled": false
   },
   "outputs": [],
   "source": [
    "m2 = makemap(topo_data, df, 'Rate', swiss_coordinates, 'Swiss confederation unemployment rates')\n",
    "m2.save('maps/m2.html')\n",
    "m2"
   ]
  },
  {
   "cell_type": "markdown",
   "metadata": {},
   "source": [
    "This map displays the Swiss confederation unemployment rate. As explained earlier, unemployment in switzerland is defined by the num\n",
    "of registered job seekers divided by the active populuation. \n",
    "\n",
    "As we can see, this map doesn't distinguish between the people who are simply registered unemployed and the people who are registered non-unemployed\n",
    "So we can see that these values are high compared to the the categorization we will show later on."
   ]
  },
  {
   "cell_type": "markdown",
   "metadata": {},
   "source": [
    "Here we derive formulas to calculate the rate of registered unemployed and the registered non-unemployed\n",
    "\n",
    "- $i \\in \\{registered\\_unemployed, registered\\_non\\_unemployed\\}$\n",
    "- $rate=\\frac{N_{registered\\_jobseeker}}{N_{active\\_people}} \\implies N_{active\\_people}=\\frac{N_{registered\\_jobseeker}}{rate}$\n",
    "- $  rate_i= \\frac{N_i}{N_{active\\_people}} = \\frac{rate\\times N_i}{N_{registered\\_jobseeker}}$"
   ]
  },
  {
   "cell_type": "markdown",
   "metadata": {},
   "source": [
    "This function takes the data frame in argument and returns another dataframe containing the rate computed using either registered unemployed or registered non unemployed (defined in argument `category`)."
   ]
  },
  {
   "cell_type": "code",
   "execution_count": null,
   "metadata": {},
   "outputs": [],
   "source": [
    "def stats_on_different_category(data, category):\n",
    "    \"\"\"\n",
    "    Function that computes \n",
    "    \"\"\"\n",
    "    # compute rate corresponding to category (either registered unemployed and registered non_unemployed)\n",
    "    data['Rate'] = (data[category] * data['Rate'])/data['Registered jobseeker']\n",
    "    data['Rate'] = data['Rate'].round(1)\n",
    "    # drop other columns\n",
    "    data = data.drop(['Registered unemployed', 'Registered jobseeker','Registered non-unemployed jobseeker'], axis=1)\n",
    "    \n",
    "    # return data frame with just interresting values\n",
    "    return data"
   ]
  },
  {
   "cell_type": "markdown",
   "metadata": {},
   "source": [
    "#### Same scale\n",
    "\n",
    "In ordre to build the maps of unemployement for both registered unemployed and non registered unemployed, we will use the same color scale. It will make in easier to compare."
   ]
  },
  {
   "cell_type": "code",
   "execution_count": null,
   "metadata": {},
   "outputs": [],
   "source": [
    "registered_unemployed_rate = stats_on_different_category(df,'Registered unemployed')\n",
    "register_non_unemployed_js = stats_on_different_category(df, 'Registered non-unemployed jobseeker')"
   ]
  },
  {
   "cell_type": "code",
   "execution_count": null,
   "metadata": {},
   "outputs": [],
   "source": [
    "t_min = np.min([registered_unemployed_rate.Rate.values.min(),register_non_unemployed_js.Rate.values.min()])\n",
    "t_max = np.max([registered_unemployed_rate.Rate.values.max(),register_non_unemployed_js.Rate.values.max()])"
   ]
  },
  {
   "cell_type": "markdown",
   "metadata": {},
   "source": [
    "#### Registered Unemployed category"
   ]
  },
  {
   "cell_type": "markdown",
   "metadata": {},
   "source": [
    "In this section, we only take into account the people who are registered unemployed in the equation and we will attempt to see how our map changes. Since these values are the ones which represents the most unemployed.  "
   ]
  },
  {
   "cell_type": "markdown",
   "metadata": {},
   "source": [
    "We plot the registered unemployed"
   ]
  },
  {
   "cell_type": "code",
   "execution_count": null,
   "metadata": {
    "scrolled": false
   },
   "outputs": [],
   "source": [
    "m3 = makemap(topo_data, registered_unemployed_rate, 'Rate', swiss_coordinates, 'Rate for the unemployed (%)', \n",
    "        t_min=t_min, t_max=t_max)\n",
    "m3.save('maps/m3.html')\n",
    "m3"
   ]
  },
  {
   "cell_type": "markdown",
   "metadata": {},
   "source": [
    "We can see that since these values seems to decrease due to us only taking into account the number of registered unemployed. Geneva still has the highest unemployement rate for this category with 4.1"
   ]
  },
  {
   "cell_type": "markdown",
   "metadata": {},
   "source": [
    "#### Registered non unemployed\n",
    "Finally we only take into account the number registered non unemployed. Basically these are people who might have an intermediate job and are seeking for a new one or the people who are jobless but haven't declared that they are unemployed.\n"
   ]
  },
  {
   "cell_type": "code",
   "execution_count": null,
   "metadata": {},
   "outputs": [],
   "source": []
  },
  {
   "cell_type": "code",
   "execution_count": null,
   "metadata": {
    "scrolled": false
   },
   "outputs": [],
   "source": [
    "m4 = makemap(topo_data, register_non_unemployed_js, 'Rate', swiss_coordinates, 'Rate for non-unemployed jobseekers (%)',\n",
    "       t_min=np.min(register_non_unemployed_js[\"Rate\"]), t_max=np.max(register_non_unemployed_js[\"Rate\"]))\n",
    "m4.save('maps/m4.html')\n",
    "m4"
   ]
  },
  {
   "cell_type": "markdown",
   "metadata": {},
   "source": [
    "Again, we see a lead in unemployment rates in the French-speaking regions of switzerland as well as in the southern cantons (Wallis, Tessin)"
   ]
  },
  {
   "cell_type": "markdown",
   "metadata": {},
   "source": [
    "# 3) Swiss and foreign workers\n",
    "\n",
    "_Use the [amstat](https://www.amstat.ch) website again to find a dataset that includes the unemployment rates in Switzerland at recent date, this time making a distinction between *Swiss* and *foreign* workers._\n",
    "\n",
    "_The Economic Secretary (SECO) releases [a monthly report](https://www.seco.admin.ch/seco/fr/home/Arbeit/Arbeitslosenversicherung/arbeitslosenzahlen.html) on the state of the employment market. In the latest report (September 2017), it is noted that there is a discrepancy between the unemployment rates for *foreign* (`5.1%`) and *Swiss* (`2.2%`) workers._\n",
    "\n",
    "_Show the difference in unemployment rates between the two categories in each canton on a Choropleth map (*hint* The easy way is to show two separate maps, but can you think of something better?). Where are the differences most visible ? Why do you think that is ?_\n",
    "\n",
    "_Now let's refine the analysis by adding the differences between age groups. As you may have guessed it is nearly impossible to plot so many variables on a map. Make a bar plot, which is a better suited visualization tool for this type of multivariate data._"
   ]
  },
  {
   "cell_type": "markdown",
   "metadata": {},
   "source": [
    "#### Assumptions\n",
    "- We download the website from the category \"2.1 Arbeitslosenquote (worklessness rates)\".\n",
    "- We select data for September 2017, the month in which the latest SECO employment market report was released, to try to reproduce and validate their numbers as closely as possible.\n",
    "- First, we have to do some cleanup, which is done below. The final dataframe will have a column per canton, two columns for worklessness rates in percentage per nationality (Swiss / foreigner), and two columns for the absolute number of registered worklessness people (Swiss / foreigners)."
   ]
  },
  {
   "cell_type": "markdown",
   "metadata": {},
   "source": [
    "### Data Preparation"
   ]
  },
  {
   "cell_type": "markdown",
   "metadata": {},
   "source": [
    "#### Data Import and Cleaning"
   ]
  },
  {
   "cell_type": "markdown",
   "metadata": {},
   "source": [
    "First, we import and preprocess the downloaded data."
   ]
  },
  {
   "cell_type": "code",
   "execution_count": null,
   "metadata": {},
   "outputs": [],
   "source": [
    "worklessness_data = 'data/worklessness_ch_for_2017_09.xlsx'\n",
    "df = pd.read_excel(worklessness_data)\n",
    "df.head()"
   ]
  },
  {
   "cell_type": "markdown",
   "metadata": {},
   "source": [
    "There are some data on canton, nationality, month (`NaN`), worklessness quote and number as well as a category, which we will not consider. First, we rearrange the data in a new dataframe, saving worklessness quotes and numbers for foreigners and Swiss people in separate columns."
   ]
  },
  {
   "cell_type": "markdown",
   "metadata": {},
   "source": [
    "Let's note that the total `Gesamt` is not differenciated according to the nationality."
   ]
  },
  {
   "cell_type": "code",
   "execution_count": null,
   "metadata": {},
   "outputs": [],
   "source": [
    "# delete duplicate / useless columns\n",
    "df = df.drop([\"Monat\",\"Gesamt\",\"Gesamt.1\",\"Gesamt.2\",\"September 2017.1\"],axis=1)\n",
    "\n",
    "# delete first row\n",
    "df = df.drop(df.index[0]) \n",
    "\n",
    "# rename the columns\n",
    "df.columns = (['canton', 'nationality', 'unemployment_rate', 'workless_registered'])\n",
    "\n",
    "# casting columns to right type\n",
    "df.workless_registered = df.workless_registered.astype(int)\n",
    "df.unemployment_rate = df.unemployment_rate.astype(float)\n",
    "\n",
    "df.head()"
   ]
  },
  {
   "cell_type": "code",
   "execution_count": null,
   "metadata": {},
   "outputs": [],
   "source": [
    "# extracting unemployment rate for both Swiss citizens and foreigners\n",
    "unemp_ch = np.asarray(df[df['nationality']=='Schweizer'].unemployment_rate)\n",
    "unemp_for = np.asarray(df[df['nationality']=='Ausländer'].unemployment_rate)\n",
    "\n",
    "# taking the difference in rates\n",
    "diff_unemp_ch_for = unemp_for - unemp_ch\n",
    "\n",
    "# extracting number of registered workless people for both Swiss citizens and foreigners\n",
    "unemp_ch_reg = np.asarray(df[df['nationality'] == 'Schweizer'].workless_registered)\n",
    "unemp_for_reg = np.asarray(df[df['nationality'] == 'Ausländer'].workless_registered)\n",
    "\n",
    "# getting the list of cantons\n",
    "cantons = list(np.unique(df[df.canton != 'Gesamt'].canton))\n",
    "\n",
    "# put data in new, clean dataframe\n",
    "df = pd.DataFrame({'canton':cantons,\n",
    "                       'unemp_ch': unemp_ch,\n",
    "                       'unemp_for': unemp_for,\n",
    "                       'unemp_ch_reg': unemp_ch_reg,\n",
    "                       'unemp_for_reg': unemp_for_reg,\n",
    "                  'diff_unemp_ch_for': diff_unemp_ch_for})\n",
    "\n",
    "df.tail()"
   ]
  },
  {
   "cell_type": "markdown",
   "metadata": {},
   "source": [
    "The data above shows the relevant data extracted for September 2017: the name of the canton, the umemployment rate for Swiss people (`umemp_ch_reg`), foreigners (`unemp_for_reg`), as well as total number of registered workless people (`unemp_ch_reg` and `unemp_for_reg`). The difference between the foreign unemployed and Swiss workless quote per canton was derived and saved in `diff_unemp_ch_for`."
   ]
  },
  {
   "cell_type": "markdown",
   "metadata": {},
   "source": [
    "#### Checking the claim of the SECO on the difference between Swiss people and foreigners."
   ]
  },
  {
   "cell_type": "markdown",
   "metadata": {},
   "source": [
    "In this data set we don't have national rates both for foreigners and Swiss people, we just have a total general rate. We are looking for the unemployement rates for foreign people and swiss people on national scale..\n",
    "\n",
    "We cannot just take the mean of the rates for each canton as all the cantons are not populated the same way.\n",
    "\n",
    "In order to compute unemployement rates for foreigners and Swissmen, we will compute the weighted mean (weights are based on the population of each canton)."
   ]
  },
  {
   "cell_type": "markdown",
   "metadata": {},
   "source": [
    "This is first the unweighted mean of the rates. We will be able to compare it to the more precise approach."
   ]
  },
  {
   "cell_type": "code",
   "execution_count": null,
   "metadata": {},
   "outputs": [],
   "source": [
    "df[['unemp_ch', 'unemp_for']].mean().round(2)"
   ]
  },
  {
   "cell_type": "markdown",
   "metadata": {},
   "source": [
    "First we have to find the total number of unemployed people in Switzerland.\n",
    "\n"
   ]
  },
  {
   "cell_type": "markdown",
   "metadata": {},
   "source": [
    "To find out the total number of unemployed people in Switzerland, we can ponder the percentage by the number of unemployed people (which gives us information on the total number of people living in the canton). We calculate the unemployment quote for Switzerland by calculating first the total Nulation:\n",
    "\n",
    "$r_{unemployement,canton,swiss\\_people}=\\frac{N_{unemployed,canton,swiss\\_people}}{N_{canton,swiss\\_people}} \\implies N_{canton,swiss\\_people}=\\frac{N_{unemployed,canton,swiss\\_people}}{r_{unemployement,canton,swiss\\_people}}$\n",
    "\n",
    "$r_{unemplyement,canton,foreigners}=\\frac{N_{unemployed,canton,foreigners}}{N_{canton,foreigners}} \\implies N_{canton,foreigners}=\\frac{N_{unemployed,canton,foreigners}}{r_{unemplyement,canton,foreigners}}$\n",
    "\n",
    "Then, we compute nation rates of unemployement for swiss people and foreigners like in this formula:\n",
    "\n",
    "\n",
    "$r_{unemployement, switzerland, Swiss\\_people} = \\frac{\\sum N_{unemployed,canton,Swiss\\_people}}{\\sum N_{canton,Swiss\\_people}}$\n",
    "\n",
    "$r_{unemployement, switzerland, foreigners} = \\frac{\\sum N_{unemployed,canton,foreigners}}{\\sum N_{canton,foreigners}}$"
   ]
  },
  {
   "cell_type": "markdown",
   "metadata": {},
   "source": [
    "Get total populations of Swiss people and foreigners for each canton."
   ]
  },
  {
   "cell_type": "code",
   "execution_count": null,
   "metadata": {},
   "outputs": [],
   "source": [
    "# total numbers of foreigners for each canton\n",
    "df['pop_tot_for'] = np.round(df['unemp_for_reg'] / df['unemp_for']*100)\n",
    "df['pop_tot_for'] = df['pop_tot_for'].astype(int)\n",
    "\n",
    "# total numbers of Swiss people for each canton\n",
    "df['pop_tot_ch'] = np.round(df['unemp_ch_reg']/df['unemp_ch']*100)\n",
    "df['pop_tot_ch'] = df['pop_tot_ch'].astype(int)"
   ]
  },
  {
   "cell_type": "code",
   "execution_count": null,
   "metadata": {},
   "outputs": [],
   "source": [
    "df.head()"
   ]
  },
  {
   "cell_type": "code",
   "execution_count": null,
   "metadata": {},
   "outputs": [],
   "source": [
    "# get weighted worklessness rates\n",
    "mean_unemp_ch = np.sum(df['unemp_ch_reg']) / np.sum(df['pop_tot_ch'])\n",
    "mean_unemp_for = np.sum(df['unemp_for_reg']) / np.sum(df['pop_tot_for'])\n",
    "print('unemployment rate for foreigners: ' + str(np.round(mean_unemp_for * 100,1))+ '%')\n",
    "print('unemployment rate for Swiss people: ' + str(np.round(mean_unemp_ch * 100,1))+ '%')"
   ]
  },
  {
   "cell_type": "markdown",
   "metadata": {},
   "source": [
    "**Note**: We now get exactly the numbers that were mentioned in the report (`5.1%` for foreigners and `2.2%` for Swiss people)!"
   ]
  },
  {
   "cell_type": "markdown",
   "metadata": {},
   "source": [
    "## Show Map of Switzerland\n",
    "We first show a chloropleth map of Swiss and foreign worklessness rates for each canton. First, we show separate maps for foreigner and Swiss worklessness rates, then, we show the difference in worklessness rates between foreigners and Swiss."
   ]
  },
  {
   "cell_type": "markdown",
   "metadata": {},
   "source": [
    "We add the canton codes (such a BE for Bern) to the dataframe for later fusion with other datasources (latitude and longitude of centroids) and ease of use in mapping. We use the dictionnary defined in previous question."
   ]
  },
  {
   "cell_type": "code",
   "execution_count": null,
   "metadata": {},
   "outputs": [],
   "source": [
    "df['code'] = codes"
   ]
  },
  {
   "cell_type": "markdown",
   "metadata": {},
   "source": [
    "The code field is now added:"
   ]
  },
  {
   "cell_type": "code",
   "execution_count": null,
   "metadata": {},
   "outputs": [],
   "source": [
    "df.head()"
   ]
  },
  {
   "cell_type": "markdown",
   "metadata": {},
   "source": [
    "#### Centroids of cantons\n",
    "\n",
    "We use again the centroid coordinates that we computed in the previous question."
   ]
  },
  {
   "cell_type": "code",
   "execution_count": null,
   "metadata": {},
   "outputs": [],
   "source": [
    "df = pd.merge(canton_centroids, df)"
   ]
  },
  {
   "cell_type": "markdown",
   "metadata": {},
   "source": [
    "\n",
    "Now that the centroid coordinates have been added, we can show a chloropleth map and a label at the centroids of each canton with the unemployment rates (unfortunately, Folium, doesn't offer too many visualization options, so printing labels on the areas is tedious and not very elegant...)\n"
   ]
  },
  {
   "cell_type": "markdown",
   "metadata": {},
   "source": [
    "#### Color scale"
   ]
  },
  {
   "cell_type": "markdown",
   "metadata": {},
   "source": [
    "In order to build the maps of unemployement for Swiss people and foreigners, we will use the same color scales (to be able to compare them more easily)."
   ]
  },
  {
   "cell_type": "code",
   "execution_count": null,
   "metadata": {},
   "outputs": [],
   "source": [
    "t_min = np.min([df.unemp_ch.values.min(),df.unemp_for.values.min()])\n",
    "t_max = np.max([df.unemp_ch.values.max(),df.unemp_for.values.max()])"
   ]
  },
  {
   "cell_type": "markdown",
   "metadata": {},
   "source": [
    "### Swiss worklessness rates by canton"
   ]
  },
  {
   "cell_type": "code",
   "execution_count": null,
   "metadata": {},
   "outputs": [],
   "source": [
    "m5 = makemap(topo_data, df, field='unemp_ch', legend='Unemployement rate for swiss people (%)', \n",
    "            t_min=t_min, t_max=t_max)\n",
    "m5.save('maps/m5.html')\n",
    "m5"
   ]
  },
  {
   "cell_type": "markdown",
   "metadata": {},
   "source": [
    "### Foreigner worklessness rates by canton"
   ]
  },
  {
   "cell_type": "code",
   "execution_count": null,
   "metadata": {},
   "outputs": [],
   "source": [
    "m6 = makemap(topo_data, df, field = 'unemp_for', legend='Unemployement rate for foreigners (%)',\n",
    "            t_min=t_min, t_max=t_max)\n",
    "m6.save('maps/m6.html')\n",
    "m6"
   ]
  },
  {
   "cell_type": "markdown",
   "metadata": {},
   "source": [
    "\n",
    "The colors above (same scale) visually make it clear that worklessness is higher for foreigners than for Swiss people."
   ]
  },
  {
   "cell_type": "markdown",
   "metadata": {},
   "source": [
    "### Difference between foreigner and Swiss worklessness rates\n",
    "Finally, we can show the difference in rates between foreigners and Swiss people. A positive rate indicates higher foreigner worklessness rates, a negative value a higher Swiss worklessness rate."
   ]
  },
  {
   "cell_type": "code",
   "execution_count": null,
   "metadata": {
    "scrolled": false
   },
   "outputs": [],
   "source": [
    "m7 = makemap(topo_data, df, field = 'diff_unemp_ch_for')\n",
    "m7.save('maps/m7.html')\n",
    "m7"
   ]
  },
  {
   "cell_type": "markdown",
   "metadata": {},
   "source": [
    "Interestingly, the difference in worklessness between foreigners and Swiss people is highest in the canton of Zurich, implying that there are much more workless foreigners living in Zurich percentage-wise that Swiss workless people. Maybe this is due to the fact that Zurich is a much more international environment, attracting foreigners who however lack the job requirements.\n",
    "\n",
    "Also, there is not a single canton in which the worklessness is not higher for foreigners than for Swiss people."
   ]
  },
  {
   "cell_type": "markdown",
   "metadata": {},
   "source": [
    "### Difference in age category\n",
    "_Now let's refine the analysis by adding the differences between age groups. As you may have guessed it is nearly impossible to plot so many variables on a map. Make a bar plot, which is a better suited visualization tool for this type of multivariate data._"
   ]
  },
  {
   "cell_type": "markdown",
   "metadata": {},
   "source": [
    "First, we import the new dataset, since the online tool didn't allow to download foreigner and age category information at once:"
   ]
  },
  {
   "cell_type": "code",
   "execution_count": null,
   "metadata": {},
   "outputs": [],
   "source": [
    "worklessness_data = 'data/worklessness_ch_agecat_2017_09.xlsx'\n",
    "\n",
    "df = pd.read_excel(worklessness_data)\n",
    "df.head()"
   ]
  },
  {
   "cell_type": "code",
   "execution_count": null,
   "metadata": {},
   "outputs": [],
   "source": [
    "# delete duplicate / useless columns\n",
    "df = df.drop(['Monat','Gesamt','Gesamt.1','September 2017.1'],axis=1)\n",
    "\n",
    "# delete first row\n",
    "df = df.drop(df.index[0]) \n",
    "\n",
    "# rename the columns\n",
    "df.columns = (['canton', 'age cat', 'unemployment rate'])\n",
    "\n",
    "# casting columns to right type\n",
    "df['unemployment rate'] = df['unemployment rate'].astype(float)\n",
    "df['age cat'] = df['age cat'].astype('category') # age category as categorical\n",
    "df['age cat'] = df['age cat'].cat.rename_categories(['15-24 years','25-49 years','50+ years'])\n",
    "\n",
    "# showing an overview of the clean data\n",
    "df.head()"
   ]
  },
  {
   "cell_type": "code",
   "execution_count": null,
   "metadata": {},
   "outputs": [],
   "source": [
    "df.boxplot(column = 'unemployment rate', by=['age cat'], figsize=(6, 6))\n",
    "plt.show()"
   ]
  },
  {
   "cell_type": "markdown",
   "metadata": {},
   "source": [
    "Next, we can show the difference in unemployment rates for each canton."
   ]
  },
  {
   "cell_type": "code",
   "execution_count": null,
   "metadata": {},
   "outputs": [],
   "source": [
    "df_mean = df.groupby(\"canton\").mean().round(2).sort_values(by='unemployment rate', ascending=False)\n",
    "df_mean = df_mean.reset_index()"
   ]
  },
  {
   "cell_type": "code",
   "execution_count": null,
   "metadata": {},
   "outputs": [],
   "source": [
    "cantons_sorted_by_mean = df_mean.values[:,0]"
   ]
  },
  {
   "cell_type": "code",
   "execution_count": null,
   "metadata": {},
   "outputs": [],
   "source": [
    "# Create the dictionary that defines the order for sorting\n",
    "sorterIndex = dict(zip(cantons_sorted_by_mean,range(len(cantons_sorted_by_mean))))\n",
    "\n",
    "# Generate a rank column that will be used to sort the dataframe numerically\n",
    "df['canton_rank'] = df['canton'].map(sorterIndex)"
   ]
  },
  {
   "cell_type": "code",
   "execution_count": null,
   "metadata": {},
   "outputs": [],
   "source": [
    "df_cat1 = df[df[\"age cat\"]==\"15-24 years\"].sort_values(by='canton_rank', ascending=False)\n",
    "df_cat2 = df[df[\"age cat\"]==\"25-49 years\"].sort_values(by='canton_rank', ascending=False)\n",
    "df_cat3 = df[df[\"age cat\"]==\"50+ years\"].sort_values(by='canton_rank', ascending=False)"
   ]
  },
  {
   "cell_type": "markdown",
   "metadata": {},
   "source": [
    "We can clearly see that the mean unemployment rate is higher for low age categories, but the variance is also stronger."
   ]
  },
  {
   "cell_type": "code",
   "execution_count": null,
   "metadata": {},
   "outputs": [],
   "source": [
    "fig, ax = plt.subplots()\n",
    "fig.set_size_inches(8, 15)\n",
    "df[df[\"age cat\"]==\"50+ years\"]\n",
    "\n",
    "plt.grid()\n",
    "\n",
    "color = iter(cm.RdGy(np.linspace(0, 1, 4)))\n",
    "\n",
    "width = .25\n",
    "y = df_cat1['unemployment rate'].values\n",
    "x = np.arange(len(y))\n",
    "cantons = df_cat1.values[:,0]\n",
    "ax.barh(x+width, y, width, align='center', tick_label=cantons, color=next(color))\n",
    "\n",
    "y2 = df_cat2['unemployment rate'].values\n",
    "ax.barh(x, y2, width, align='center', tick_label=cantons, color=next(color))\n",
    "\n",
    "y3 = df_cat3['unemployment rate'].values\n",
    "ax.barh(x-width, y3, width, align='center', tick_label=cantons, color=next(color))\n",
    "\n",
    "plt.legend([\"15-24 years\",\"25-49 years\",\"50+ years\"],bbox_to_anchor=(0., 1.02, 1., .102), loc=3,\n",
    "           ncol=3, mode=\"expand\", borderaxespad=0.)\n",
    "\n",
    "\n",
    "plt.show()\n"
   ]
  },
  {
   "cell_type": "markdown",
   "metadata": {},
   "source": [
    "Again, we can visually confirm that unemployment rates are higher for young people in almost all cantons, with a less pronounced differece in the more rural cantons where unemployment rates are lower (Uri, Obwalden Apenzell Innerrhoden)."
   ]
  },
  {
   "cell_type": "markdown",
   "metadata": {},
   "source": [
    "# 4) Bonus: \n",
    "\n",
    "*BONUS*: using the map you have just built, and the geographical information contained in it, could you give a *rough estimate* of the difference in unemployment rates between the areas divided by the [Röstigraben](https://en.wikipedia.org/wiki/R%C3%B6stigraben)?"
   ]
  },
  {
   "cell_type": "markdown",
   "metadata": {},
   "source": [
    "We can already see from the visualizations above that the French-speaking part of Switzerland has higher worklessness rates. To confirm this, we will calculate the mean worklessness rates in the cantons correponding to the language regions of Switzerland, similar as done before for foreigners / Swiss people. We will suppose that bilingual cantons belong to the region of the majority language group."
   ]
  },
  {
   "cell_type": "markdown",
   "metadata": {},
   "source": [
    "On the Amstat website, it is possible to add a field corresponding the the speaking region (it adds the speaking region which the canton belongs to): German-speaking Switzerland, Western Switzerland (French) and Tessin (Italian)."
   ]
  },
  {
   "cell_type": "code",
   "execution_count": null,
   "metadata": {},
   "outputs": [],
   "source": [
    "df = pd.read_excel('data/bonus.xlsx')\n",
    "df.head()"
   ]
  },
  {
   "cell_type": "code",
   "execution_count": null,
   "metadata": {},
   "outputs": [],
   "source": [
    "# delete first row\n",
    "df = df.drop([df.index[0], df.index[len(df)-1]]) \n",
    "\n",
    "# select interesting columns\n",
    "df = df.drop(['Monat','September 2017','September 2017.1'],axis=1)\n",
    "\n",
    "df.columns = ['language_region', 'canton', 'rate', 'registered']\n",
    "df['registered'] = df['registered'].astype(int)\n",
    "df['rate'] = df['rate'].astype(float)\n",
    "\n",
    "df = df.reset_index(drop=True)\n",
    "df.head()"
   ]
  },
  {
   "cell_type": "markdown",
   "metadata": {},
   "source": [
    "We will compute the number of active people in each canton ($N_{active} = \\frac{rate}{N_{registered}}$).\n",
    "\n",
    "Then we will compute the unemployement rate of the region as the number of registered jobseekers divided by the number of active people in the region."
   ]
  },
  {
   "cell_type": "code",
   "execution_count": null,
   "metadata": {},
   "outputs": [],
   "source": [
    "df['canton_active_pop'] = df['registered'] / df['rate']"
   ]
  },
  {
   "cell_type": "code",
   "execution_count": null,
   "metadata": {},
   "outputs": [],
   "source": [
    "german_rate = df.loc[df.language_region == 'Deutsche Schweiz', 'registered'].sum() / df.loc[df.language_region == 'Deutsche Schweiz', 'canton_active_pop'].sum()\n",
    "roman_rate = df.loc[df.language_region == 'Westschweiz und Tessin', 'registered'].sum() / df.loc[df.language_region == 'Westschweiz und Tessin', 'canton_active_pop'].sum()"
   ]
  },
  {
   "cell_type": "code",
   "execution_count": null,
   "metadata": {},
   "outputs": [],
   "source": [
    "print('Unemployement rates are {} for German Switzerland and {} for West Switzerland.'.format(german_rate.round(1), roman_rate.round(1)))"
   ]
  },
  {
   "cell_type": "markdown",
   "metadata": {},
   "source": [
    "We note that it is true that the rate of unemployement is higher in the French-speaking part of Switzerland than in the German-speaking part of Switzerland."
   ]
  },
  {
   "cell_type": "code",
   "execution_count": null,
   "metadata": {},
   "outputs": [],
   "source": []
  }
 ],
 "metadata": {
  "kernelspec": {
   "display_name": "Python 3",
   "language": "python",
   "name": "python3"
  },
  "language_info": {
   "codemirror_mode": {
    "name": "ipython",
    "version": 3
   },
   "file_extension": ".py",
   "mimetype": "text/x-python",
   "name": "python",
   "nbconvert_exporter": "python",
   "pygments_lexer": "ipython3",
   "version": "3.6.1"
  }
 },
 "nbformat": 4,
 "nbformat_minor": 2
}
