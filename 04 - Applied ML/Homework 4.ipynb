{
 "cells": [
  {
   "cell_type": "markdown",
   "metadata": {},
   "source": [
    "# Homework 3"
   ]
  },
  {
   "cell_type": "markdown",
   "metadata": {},
   "source": [
    "## Question 1: Propensity score matching\n",
    "\n",
    "In this exercise, you will apply [propensity score matching](http://www.stewartschultz.com/statistics/books/Design%20of%20observational%20studies.pdf), which we discussed in lecture 5 (\"Observational studies\"), in order to draw conclusions from an observational study.\n",
    "\n",
    "We will work with a by-now classic dataset from Robert LaLonde's study \"[Evaluating the Econometric Evaluations of Training Programs](http://people.hbs.edu/nashraf/LaLonde_1986.pdf)\" (1986).\n",
    "The study investigated the effect of a job training program (\"National Supported Work Demonstration\") on the real earnings of an individual, a couple of years after completion of the program.\n",
    "Your task is to determine the effectiveness of the \"treatment\" represented by the job training program.\n",
    "\n",
    "#### Dataset description\n",
    "\n",
    "- `treat`: 1 if the subject participated in the job training program, 0 otherwise\n",
    "- `age`: the subject's age\n",
    "- `educ`: years of education\n",
    "- `race`: categorical variable with three possible values: Black, Hispanic, or White\n",
    "- `married`: 1 if the subject was married at the time of the training program, 0 otherwise\n",
    "- `nodegree`: 1 if the subject has earned no school degree, 0 otherwise\n",
    "- `re74`: real earnings in 1974 (pre-treatment)\n",
    "- `re75`: real earnings in 1975 (pre-treatment)\n",
    "- `re78`: real earnings in 1978 (outcome)\n",
    "\n",
    "If you want to brush up your knowledge on propensity scores and observational studies, we highly recommend Rosenbaum's excellent book on the [\"Design of Observational Studies\"](http://www.stewartschultz.com/statistics/books/Design%20of%20observational%20studies.pdf). Even just reading the first chapter (18 pages) will help you a lot."
   ]
  },
  {
   "cell_type": "code",
   "execution_count": 1,
   "metadata": {},
   "outputs": [],
   "source": [
    "import pandas as pd\n",
    "import matplotlib.pyplot as plt\n",
    "import numpy as np\n",
    "import seaborn as sns\n",
    "\n",
    "from operator import itemgetter\n",
    "\n",
    "%matplotlib inline "
   ]
  },
  {
   "cell_type": "code",
   "execution_count": 45,
   "metadata": {},
   "outputs": [],
   "source": [
    "df = pd.read_csv('lalonde.csv').set_index('id')"
   ]
  },
  {
   "cell_type": "code",
   "execution_count": 46,
   "metadata": {},
   "outputs": [
    {
     "data": {
      "text/html": [
       "<div>\n",
       "<style scoped>\n",
       "    .dataframe tbody tr th:only-of-type {\n",
       "        vertical-align: middle;\n",
       "    }\n",
       "\n",
       "    .dataframe tbody tr th {\n",
       "        vertical-align: top;\n",
       "    }\n",
       "\n",
       "    .dataframe thead th {\n",
       "        text-align: right;\n",
       "    }\n",
       "</style>\n",
       "<table border=\"1\" class=\"dataframe\">\n",
       "  <thead>\n",
       "    <tr style=\"text-align: right;\">\n",
       "      <th></th>\n",
       "      <th>treat</th>\n",
       "      <th>age</th>\n",
       "      <th>educ</th>\n",
       "      <th>black</th>\n",
       "      <th>hispan</th>\n",
       "      <th>married</th>\n",
       "      <th>nodegree</th>\n",
       "      <th>re74</th>\n",
       "      <th>re75</th>\n",
       "      <th>re78</th>\n",
       "    </tr>\n",
       "    <tr>\n",
       "      <th>id</th>\n",
       "      <th></th>\n",
       "      <th></th>\n",
       "      <th></th>\n",
       "      <th></th>\n",
       "      <th></th>\n",
       "      <th></th>\n",
       "      <th></th>\n",
       "      <th></th>\n",
       "      <th></th>\n",
       "      <th></th>\n",
       "    </tr>\n",
       "  </thead>\n",
       "  <tbody>\n",
       "    <tr>\n",
       "      <th>NSW1</th>\n",
       "      <td>1</td>\n",
       "      <td>37</td>\n",
       "      <td>11</td>\n",
       "      <td>1</td>\n",
       "      <td>0</td>\n",
       "      <td>1</td>\n",
       "      <td>1</td>\n",
       "      <td>0.0</td>\n",
       "      <td>0.0</td>\n",
       "      <td>9930.0460</td>\n",
       "    </tr>\n",
       "    <tr>\n",
       "      <th>NSW2</th>\n",
       "      <td>1</td>\n",
       "      <td>22</td>\n",
       "      <td>9</td>\n",
       "      <td>0</td>\n",
       "      <td>1</td>\n",
       "      <td>0</td>\n",
       "      <td>1</td>\n",
       "      <td>0.0</td>\n",
       "      <td>0.0</td>\n",
       "      <td>3595.8940</td>\n",
       "    </tr>\n",
       "    <tr>\n",
       "      <th>NSW3</th>\n",
       "      <td>1</td>\n",
       "      <td>30</td>\n",
       "      <td>12</td>\n",
       "      <td>1</td>\n",
       "      <td>0</td>\n",
       "      <td>0</td>\n",
       "      <td>0</td>\n",
       "      <td>0.0</td>\n",
       "      <td>0.0</td>\n",
       "      <td>24909.4500</td>\n",
       "    </tr>\n",
       "    <tr>\n",
       "      <th>NSW4</th>\n",
       "      <td>1</td>\n",
       "      <td>27</td>\n",
       "      <td>11</td>\n",
       "      <td>1</td>\n",
       "      <td>0</td>\n",
       "      <td>0</td>\n",
       "      <td>1</td>\n",
       "      <td>0.0</td>\n",
       "      <td>0.0</td>\n",
       "      <td>7506.1460</td>\n",
       "    </tr>\n",
       "    <tr>\n",
       "      <th>NSW5</th>\n",
       "      <td>1</td>\n",
       "      <td>33</td>\n",
       "      <td>8</td>\n",
       "      <td>1</td>\n",
       "      <td>0</td>\n",
       "      <td>0</td>\n",
       "      <td>1</td>\n",
       "      <td>0.0</td>\n",
       "      <td>0.0</td>\n",
       "      <td>289.7899</td>\n",
       "    </tr>\n",
       "    <tr>\n",
       "      <th>NSW6</th>\n",
       "      <td>1</td>\n",
       "      <td>22</td>\n",
       "      <td>9</td>\n",
       "      <td>1</td>\n",
       "      <td>0</td>\n",
       "      <td>0</td>\n",
       "      <td>1</td>\n",
       "      <td>0.0</td>\n",
       "      <td>0.0</td>\n",
       "      <td>4056.4940</td>\n",
       "    </tr>\n",
       "    <tr>\n",
       "      <th>NSW7</th>\n",
       "      <td>1</td>\n",
       "      <td>23</td>\n",
       "      <td>12</td>\n",
       "      <td>1</td>\n",
       "      <td>0</td>\n",
       "      <td>0</td>\n",
       "      <td>0</td>\n",
       "      <td>0.0</td>\n",
       "      <td>0.0</td>\n",
       "      <td>0.0000</td>\n",
       "    </tr>\n",
       "    <tr>\n",
       "      <th>NSW8</th>\n",
       "      <td>1</td>\n",
       "      <td>32</td>\n",
       "      <td>11</td>\n",
       "      <td>1</td>\n",
       "      <td>0</td>\n",
       "      <td>0</td>\n",
       "      <td>1</td>\n",
       "      <td>0.0</td>\n",
       "      <td>0.0</td>\n",
       "      <td>8472.1580</td>\n",
       "    </tr>\n",
       "    <tr>\n",
       "      <th>NSW9</th>\n",
       "      <td>1</td>\n",
       "      <td>22</td>\n",
       "      <td>16</td>\n",
       "      <td>1</td>\n",
       "      <td>0</td>\n",
       "      <td>0</td>\n",
       "      <td>0</td>\n",
       "      <td>0.0</td>\n",
       "      <td>0.0</td>\n",
       "      <td>2164.0220</td>\n",
       "    </tr>\n",
       "    <tr>\n",
       "      <th>NSW10</th>\n",
       "      <td>1</td>\n",
       "      <td>33</td>\n",
       "      <td>12</td>\n",
       "      <td>0</td>\n",
       "      <td>0</td>\n",
       "      <td>1</td>\n",
       "      <td>0</td>\n",
       "      <td>0.0</td>\n",
       "      <td>0.0</td>\n",
       "      <td>12418.0700</td>\n",
       "    </tr>\n",
       "  </tbody>\n",
       "</table>\n",
       "</div>"
      ],
      "text/plain": [
       "       treat  age  educ  black  hispan  married  nodegree  re74  re75  \\\n",
       "id                                                                      \n",
       "NSW1       1   37    11      1       0        1         1   0.0   0.0   \n",
       "NSW2       1   22     9      0       1        0         1   0.0   0.0   \n",
       "NSW3       1   30    12      1       0        0         0   0.0   0.0   \n",
       "NSW4       1   27    11      1       0        0         1   0.0   0.0   \n",
       "NSW5       1   33     8      1       0        0         1   0.0   0.0   \n",
       "NSW6       1   22     9      1       0        0         1   0.0   0.0   \n",
       "NSW7       1   23    12      1       0        0         0   0.0   0.0   \n",
       "NSW8       1   32    11      1       0        0         1   0.0   0.0   \n",
       "NSW9       1   22    16      1       0        0         0   0.0   0.0   \n",
       "NSW10      1   33    12      0       0        1         0   0.0   0.0   \n",
       "\n",
       "             re78  \n",
       "id                 \n",
       "NSW1    9930.0460  \n",
       "NSW2    3595.8940  \n",
       "NSW3   24909.4500  \n",
       "NSW4    7506.1460  \n",
       "NSW5     289.7899  \n",
       "NSW6    4056.4940  \n",
       "NSW7       0.0000  \n",
       "NSW8    8472.1580  \n",
       "NSW9    2164.0220  \n",
       "NSW10  12418.0700  "
      ]
     },
     "execution_count": 46,
     "metadata": {},
     "output_type": "execute_result"
    }
   ],
   "source": [
    "df.head(10)"
   ]
  },
  {
   "cell_type": "markdown",
   "metadata": {},
   "source": [
    "#### 1. A naive analysis\n",
    "\n",
    "Compare the distribution of the outcome variable (`re78`) between the two groups, using plots and numbers.\n",
    "To summarize and compare the distributions, you may use the techniques we discussed in lectures 4 (\"Read the stats carefully\") and 6 (\"Data visualization\").\n",
    "\n",
    "What might a naive \"researcher\" conclude from this superficial analysis?\n"
   ]
  },
  {
   "cell_type": "code",
   "execution_count": 47,
   "metadata": {},
   "outputs": [],
   "source": [
    "def plot_histogram(x0, y0, x1, y1, title, figsize=(20,10)):\n",
    "    \"\"\"\n",
    "    This functions plots a histogram adding the values on top of the bins.\n",
    "\n",
    "    x: values of the attribute that is being counted\n",
    "    y: counts of the x values\n",
    "    title: title to give to the histogram\n",
    "    abscissa: absissa to be displayed (what is being counted)\n",
    "    \"\"\"\n",
    "    fig, ax = plt.subplots(nrows=1, ncols=2, figsize=(20,10))\n",
    "    width = 0.5 # the width of the bars\n",
    "    ind0 = np.arange(len(y0))\n",
    "    ind1 = np.arange(len(y1))\n",
    "    \n",
    "    ax[0].bar(ind0, y0, width, color=\"red\")\n",
    "    ax[0].set_xticks(ind0)\n",
    "    ax[0].set_xticklabels(x0, minor=False)\n",
    "    \n",
    "    ax[1].bar(ind1, y1, width, color=\"red\")\n",
    "    ax[1].set_xticks(ind1)\n",
    "    ax[1].set_xticklabels(x1, minor=False)\n",
    "    \n",
    "    plt.ylabel('Count')\n",
    "\n",
    "    for i, v in enumerate(y0):\n",
    "        ax[0].text(i-width/6, v+ 1, str(v), color='red')\n",
    "    for i, v in enumerate(y1):\n",
    "        ax[1].text(i-width/6, v+ 1, str(v), color='red')\n",
    "        \n",
    "    ax[0].set_title('Treated group', fontsize=15)\n",
    "    ax[1].set_title('Control group', fontsize=15)\n",
    "    fig.suptitle(title, fontsize=20)\n",
    "    plt.tight_layout()\n",
    "    fig.subplots_adjust(top=0.9)\n",
    "    plt.show()"
   ]
  },
  {
   "cell_type": "code",
   "execution_count": 48,
   "metadata": {},
   "outputs": [
    {
     "name": "stdout",
     "output_type": "stream",
     "text": [
      "Treated group : 185 individuals and average earnings in 1978 : 6349\n",
      "Control group : 429 individuals and average earnings in 1978 : 6984\n"
     ]
    }
   ],
   "source": [
    "print('Treated group : {} individuals and average earnings in 1978 : {}'.format(len(df.loc[df.treat == 1]), int(df.loc[df.treat == 1, 're78'].mean())))\n",
    "print('Control group : {} individuals and average earnings in 1978 : {}'.format(len(df.loc[df.treat == 0]), int(df.loc[df.treat == 0, 're78'].mean())))"
   ]
  },
  {
   "cell_type": "code",
   "execution_count": 49,
   "metadata": {
    "scrolled": false
   },
   "outputs": [
    {
     "data": {
      "image/png": "[encoded data removed]",
      "text/plain": [
       "<matplotlib.figure.Figure at 0x117733908>"
      ]
     },
     "metadata": {},
     "output_type": "display_data"
    }
   ],
   "source": [
    "fig, ax = plt.subplots(nrows=1, ncols=1, figsize=(7,5))\n",
    "ax.boxplot([df.loc[df.treat == 1, 're78'].values, df.loc[df.treat == 0, 're78'].values])\n",
    "ax.set_title('Revenues in 1978 for the two groups')\n",
    "ax.set_xticklabels(['Treated population', 'Control population'])\n",
    "plt.show()"
   ]
  },
  {
   "cell_type": "markdown",
   "metadata": {},
   "source": [
    "Let's plot the histograms of the distribution of revenues rounded to the closest thousand."
   ]
  },
  {
   "cell_type": "code",
   "execution_count": 50,
   "metadata": {},
   "outputs": [],
   "source": [
    "treated_x = df.loc[df.treat == 1, 're78'].values.round(-3)\n",
    "control_x = df.loc[df.treat == 0, 're78'].values.round(-3)"
   ]
  },
  {
   "cell_type": "code",
   "execution_count": 51,
   "metadata": {},
   "outputs": [
    {
     "data": {
      "image/png": "[encoded data removed]",
      "text/plain": [
       "<matplotlib.figure.Figure at 0x1177331d0>"
      ]
     },
     "metadata": {},
     "output_type": "display_data"
    }
   ],
   "source": [
    "x_treated, y_treated = np.unique(treated_x, return_counts=True)\n",
    "x_treated = (x_treated/1000).astype(int)\n",
    "\n",
    "\n",
    "x_control, y_control = np.unique(control_x, return_counts=True)\n",
    "x_control = (x_control/1000).astype(int)\n",
    "\n",
    "plot_histogram(x_treated, y_treated, x_control, y_control, title='Revenue in 78 (x1000)')"
   ]
  },
  {
   "cell_type": "markdown",
   "metadata": {},
   "source": [
    "The two previous histograms are difficult to interpret and don't seem to give a lot of insight on the data.\n",
    "\n",
    "The two boxplots however tell us that, excepting the outliers, it seems that the distribution of outcomes for the treated population is still under the one of the control population. A 'naive' researcher might conclude that the effect of the training program seems limited."
   ]
  },
  {
   "cell_type": "markdown",
   "metadata": {},
   "source": [
    "#### 2. A closer look at the data\n",
    "\n",
    "You're not naive, of course (and even if you are, you've learned certain things in ADA), so you aren't content with a superficial analysis such as the above.\n",
    "You're aware of the dangers of observational studies, so you take a closer look at the data before jumping to conclusions.\n",
    "\n",
    "For each feature in the dataset, compare its distribution in the treated group with its distribution in the control group, using plots and numbers.\n",
    "As above, you may use the techniques we discussed in class for summarizing and comparing the distributions.\n",
    "\n",
    "What do you observe?\n",
    "Describe what your observations mean for the conclusions drawn by the naive \"researcher\" from his superficial analysis."
   ]
  },
  {
   "cell_type": "code",
   "execution_count": 52,
   "metadata": {},
   "outputs": [
    {
     "name": "stdout",
     "output_type": "stream",
     "text": [
      "Treated group average earnings in 1974 : 2095\n",
      "Control group average earnings in 1974 : 5619\n",
      "\n",
      "Treated group average earnings in 1975 : 1532\n",
      "Control group average earnings in 1975 : 2466\n",
      "\n",
      "Treated group average earnings in 1978 : 6349\n",
      "Control group average earnings in 1978 : 6984\n"
     ]
    }
   ],
   "source": [
    "print('Treated group average earnings in 1974 : {}'.format(int(df.loc[df.treat == 1, 're74'].mean())))\n",
    "print('Control group average earnings in 1974 : {}'.format(int(df.loc[df.treat == 0, 're74'].mean())))\n",
    "print('')\n",
    "print('Treated group average earnings in 1975 : {}'.format(int(df.loc[df.treat == 1, 're75'].mean())))\n",
    "print('Control group average earnings in 1975 : {}'.format(int(df.loc[df.treat == 0, 're75'].mean())))\n",
    "print('')\n",
    "print('Treated group average earnings in 1978 : {}'.format(int(df.loc[df.treat == 1, 're78'].mean())))\n",
    "print('Control group average earnings in 1978 : {}'.format(int(df.loc[df.treat == 0, 're78'].mean())))"
   ]
  },
  {
   "cell_type": "code",
   "execution_count": 53,
   "metadata": {},
   "outputs": [
    {
     "data": {
      "image/png": "[encoded data removed]",
      "text/plain": [
       "<matplotlib.figure.Figure at 0x117733630>"
      ]
     },
     "metadata": {},
     "output_type": "display_data"
    }
   ],
   "source": [
    "fig, ax = plt.subplots(nrows=1, ncols=2, figsize=(12,4))\n",
    "ax[0].boxplot([df.loc[df.treat == 1, 're74'].values, df.loc[df.treat == 0, 're74'].values])\n",
    "ax[0].set_title('Revenues in 1974 for the two groups')\n",
    "ax[0].set_xticklabels(['Treated population', 'Control population'])\n",
    "\n",
    "ax[1].boxplot([df.loc[df.treat == 1, 're75'].values, df.loc[df.treat == 0, 're75'].values])\n",
    "ax[1].set_title('Revenues in 1975 for the two groups')\n",
    "ax[1].set_xticklabels(['Treated population', 'Control population'])\n",
    "plt.show()"
   ]
  },
  {
   "cell_type": "markdown",
   "metadata": {},
   "source": [
    "#### 3. A propensity score model\n",
    "\n",
    "Use logistic regression to estimate propensity scores for all points in the dataset.\n",
    "You may use `sklearn` to fit the logistic regression model and apply it to each data point to obtain propensity scores:\n",
    "\n",
    "```python\n",
    "from sklearn import linear_model\n",
    "logistic = linear_model.LogisticRegression()\n",
    "```\n",
    "\n",
    "Recall that the propensity score of a data point represents its probability of receiving the treatment, based on its pre-treatment features (in this case, age, education, pre-treatment income, etc.).\n",
    "To brush up on propensity scores, you may read chapter 3.3 of the above-cited book by Rosenbaum or [this article](https://drive.google.com/file/d/0B4jctQY-uqhzTlpBaTBJRTJFVFE/view).\n",
    "\n",
    "Note: you do not need a train/test split here. Train and apply the model on the entire dataset. If you're wondering why this is the right thing to do in this situation, recall that the propensity score model is not used in order to make predictions about unseen data. Its sole purpose is to balance the dataset across treatment groups.\n",
    "(See p. 74 of Rosenbaum's book for an explanation why slight overfitting is even good for propensity scores.\n",
    "If you want even more information, read [this article](https://drive.google.com/file/d/0B4jctQY-uqhzTlpBaTBJRTJFVFE/view).)"
   ]
  },
  {
   "cell_type": "code",
   "execution_count": 109,
   "metadata": {},
   "outputs": [],
   "source": [
    "from sklearn import linear_model\n",
    "from sklearn import metrics\n",
    "logistic = linear_model.LogisticRegression()"
   ]
  },
  {
   "cell_type": "code",
   "execution_count": 110,
   "metadata": {},
   "outputs": [
    {
     "name": "stdout",
     "output_type": "stream",
     "text": [
      "Shape of X: (614, 8)\n",
      "Shape of Y: (614,)\n"
     ]
    }
   ],
   "source": [
    "# training data\n",
    "X = np.asarray(df.drop(['treat','re78'], axis=1).values)\n",
    "Y = np.asarray(df['treat'].values)\n",
    "print(\"Shape of X: \" + str(np.shape(X)))\n",
    "print(\"Shape of Y: \" + str(np.shape(Y)))"
   ]
  },
  {
   "cell_type": "code",
   "execution_count": 111,
   "metadata": {},
   "outputs": [
    {
     "data": {
      "text/plain": [
       "LogisticRegression(C=1.0, class_weight=None, dual=False, fit_intercept=True,\n",
       "          intercept_scaling=1, max_iter=100, multi_class='ovr', n_jobs=1,\n",
       "          penalty='l2', random_state=None, solver='liblinear', tol=0.0001,\n",
       "          verbose=0, warm_start=False)"
      ]
     },
     "execution_count": 111,
     "metadata": {},
     "output_type": "execute_result"
    }
   ],
   "source": [
    "logistic.fit(X, Y)"
   ]
  },
  {
   "cell_type": "code",
   "execution_count": 112,
   "metadata": {},
   "outputs": [],
   "source": [
    "pred = logistic.predict(X) "
   ]
  },
  {
   "cell_type": "markdown",
   "metadata": {},
   "source": [
    "Next, we want to print some accuracy measures (remember, we only train and evaluate the model on the traning). We chose to show the following measures, based on the confusino matrix:\n",
    "\n",
    "| Confusion matrix |          |              |       |\n",
    "|:----------------:|:--------:|:------------:|:-----:|\n",
    "|                  | Relevant | Non-relevant | Total |\n",
    "|     Retrieved    |    TP    |      FP      |   Pp  |\n",
    "|   Not retrieved  |    FN    |      TN      |   Np  |\n",
    "|       Total      |     P    |       N      |   n   |\n",
    "\n",
    "**Producer accuracy (Recall)** measures how large a fraction of the expected results is actually found_\n",
    "$R=\\frac{TP}{TP+FN}$\n",
    "\n",
    "**User accuracy (Precision)** measures how many of the results returned are actually relevant.\n",
    "$P=\\frac{TP}{TP+FP}$\n",
    "\n",
    "**F-Score** as a a weighted harmonic measure between the precision and recall:\n",
    "$F1=\\frac{2PR}{P+R}$\n",
    "\n",
    "**Overall Accuracy** measures how many of the labels have been correctly classified.\n",
    "$OA=\\frac{\\sum_in_{ii}}{n}$\n",
    "\n",
    "**Intersection over Union** (a.k.a. Jaccard Score), which is very widely spread in binary classification:\n",
    "$IoU_{i}=\\frac{n_{ii}}{n_{i.}+n_{.i}-n_{ii}}=\\frac{\\text{TP}}{\\text{Pp}+\\text{P}-\\text{TP}}$\n",
    "\n",
    "\n",
    "|  |  | True labels y |  |  |  | PA |\n",
    "|:------------------:|:--------:|:----------------------:|:----------------------:|:--------:|:----------------------:|:------------------------------------:|\n",
    "| Predicted labels y |  | 1 | 2 | $\\dots$ | r |  |\n",
    "|  | 1 | $n_{11}$ | $n_{12}$ | $\\dots$ | $n_{1r}$ | $n_{11}/n_{1\\bullet}$ |\n",
    "|  | 2 | $n_{21}$ | $n_{22}$ | $\\dots$ | $n_{2r}$ | $n_{22}/n_{2\\bullet}$ |\n",
    "|  | $\\vdots$ | $\\vdots$ | $\\vdots$ | $\\ddots$ | $\\vdots$ | $\\vdots$ |\n",
    "|  | r | $n_{r1}$ | $n_{r2}$ | $\\dots$ | $n_{rr}$ | $n_{rr}/n_{r\\bullet}$ |\n",
    "| UA |  | $n_{11}/n_{\\bullet 1}$ | $n_{22}/n_{\\bullet 2}$ | $\\dots$ | $n_{rr}/n_{\\bullet r}$ | OA$=\\sum_in_{ii}/n_{\\bullet\\bullet}$ |"
   ]
  },
  {
   "cell_type": "code",
   "execution_count": 115,
   "metadata": {},
   "outputs": [
    {
     "name": "stdout",
     "output_type": "stream",
     "text": [
      "Overall accuracy: 0.81\n",
      "Recall: 0.72\n",
      "Precision: 0.67\n",
      "F-Score: 0.69\n"
     ]
    }
   ],
   "source": [
    "def print_metrics(pred,Y):\n",
    "    \"\"\"print some accuracy measures after training\"\"\"\n",
    "    # get predictions of logistic regression\n",
    "    \n",
    "    # get overall accuracy\n",
    "    pred_prob = logistic.predict_proba(X)\n",
    "    print(\"Overall accuracy: \" + str(np.round(metrics.accuracy_score(Y,pred),2)))\n",
    "    print(\"Recall: \" + str(np.round(metrics.recall_score(Y,pred),2)))\n",
    "    print(\"Precision: \" + str(np.round(metrics.precision_score(Y,pred),2)))\n",
    "    print(\"F-Score: \" + str(np.round(metrics.f1_score(Y,pred),2)))\n",
    "\n",
    "print_metrics(pred,Y)"
   ]
  },
  {
   "cell_type": "markdown",
   "metadata": {},
   "source": [
    "#### 4. Balancing the dataset via matching\n",
    "\n",
    "Use the propensity scores to match each data point from the treated group with exactly one data point from the control group, while ensuring that each data point from the control group is matched with at most one data point from the treated group.\n",
    "(Hint: you may explore the `networkx` package in Python for predefined matching functions.)\n",
    "\n",
    "Your matching should maximize the similarity between matched subjects, as captured by their propensity scores.\n",
    "In other words, the sum (over all matched pairs) of absolute propensity-score differences between the two matched subjects should be minimized.\n",
    "\n",
    "After matching, you have as many treated as you have control subjects.\n",
    "Compare the outcomes (`re78`) between the two groups (treated and control).\n",
    "\n",
    "Also, compare again the feature-value distributions between the two groups, as you've done in part 2 above, but now only for the matched subjects.\n",
    "What do you observe?\n",
    "Are you closer to being able to draw valid conclusions now than you were before?"
   ]
  },
  {
   "cell_type": "code",
   "execution_count": null,
   "metadata": {},
   "outputs": [],
   "source": []
  },
  {
   "cell_type": "markdown",
   "metadata": {},
   "source": [
    "#### 5. Balancing the groups further\n",
    "\n",
    "Based on your comparison of feature-value distributions from part 4, are you fully satisfied with your matching?\n",
    "Would you say your dataset is sufficiently balanced?\n",
    "If not, in what ways could the \"balanced\" dataset you have obtained still not allow you to draw valid conclusions?\n",
    "\n",
    "Improve your matching by explicitly making sure that you match only subjects that have the same value for the problematic feature.\n",
    "Argue with numbers and plots that the two groups (treated and control) are now better balanced than after part 4."
   ]
  },
  {
   "cell_type": "code",
   "execution_count": null,
   "metadata": {},
   "outputs": [],
   "source": []
  },
  {
   "cell_type": "markdown",
   "metadata": {},
   "source": [
    "#### 6. A less naive analysis\n",
    "\n",
    "Compare the outcomes (`re78`) between treated and control subjects, as you've done in part 1, but now only for the matched dataset you've obtained from part 5.\n",
    "What do you conclude about the effectiveness of the job training program?"
   ]
  },
  {
   "cell_type": "code",
   "execution_count": null,
   "metadata": {},
   "outputs": [],
   "source": []
  },
  {
   "cell_type": "markdown",
   "metadata": {},
   "source": [
    "## Question 2: Applied ML\n",
    "\n",
    "We are going to build a classifier of news to directly assign them to 20 news categories. Note that the pipeline that you will build in this exercise could be of great help during your project if you plan to work with text!\n",
    "\n",
    "1. Load the 20newsgroup dataset. It is, again, a classic dataset that can directly be loaded using sklearn ([link](http://scikit-learn.org/stable/datasets/twenty_newsgroups.html)).  \n",
    "[TF-IDF](https://en.wikipedia.org/wiki/Tf%E2%80%93idf), short for term frequency–inverse document frequency, is of great help when if comes to compute textual features. Indeed, it gives more importance to terms that are more specific to the considered articles (TF) but reduces the importance of terms that are very frequent in the entire corpus (IDF). Compute TF-IDF features for every article using [TfidfVectorizer](http://scikit-learn.org/stable/modules/generated/sklearn.feature_extraction.text.TfidfVectorizer.html). Then, split your dataset into a training, a testing and a validation set (10% for validation and 10% for testing). Each observation should be paired with its corresponding label (the article category).\n",
    "\n",
    "2. Train a random forest on your training set. Try to fine-tune the parameters of your predictor on your validation set using a simple grid search on the number of estimator \"n_estimators\" and the max depth of the trees \"max_depth\". Then, display a confusion matrix of your classification pipeline. Lastly, once you assessed your model, inspect the `feature_importances_` attribute of your random forest and discuss the obtained results."
   ]
  },
  {
   "cell_type": "code",
   "execution_count": 11,
   "metadata": {},
   "outputs": [],
   "source": [
    "from sklearn.feature_extraction.text import TfidfVectorizer\n",
    "from sklearn.datasets import fetch_20newsgroups\n",
    "from sklearn.model_selection import train_test_split\n",
    "from sklearn.model_selection import GridSearchCV\n",
    "from sklearn.ensemble import RandomForestClassifier\n",
    "from sklearn.metrics import confusion_matrix"
   ]
  },
  {
   "cell_type": "code",
   "execution_count": 12,
   "metadata": {},
   "outputs": [],
   "source": [
    "def plot_confusion_matrix(mat):\n",
    "    fig, ax = plt.subplots(figsize=(10,10))\n",
    "    sns.heatmap(mat, cmap=sns.diverging_palette(220, 10, as_cmap=True), square=True, ax=ax)\n",
    "    plt.show()"
   ]
  },
  {
   "cell_type": "markdown",
   "metadata": {},
   "source": [
    "#### Import the data"
   ]
  },
  {
   "cell_type": "code",
   "execution_count": 13,
   "metadata": {},
   "outputs": [],
   "source": [
    "newsgroups_train = fetch_20newsgroups(subset='train')"
   ]
  },
  {
   "cell_type": "markdown",
   "metadata": {},
   "source": [
    "#### Compute the df-idf matrix"
   ]
  },
  {
   "cell_type": "code",
   "execution_count": 14,
   "metadata": {},
   "outputs": [],
   "source": [
    "# declare the vectorizer\n",
    "vectorizer = TfidfVectorizer(stop_words='english', lowercase=True)\n",
    "# compute the td-idf features\n",
    "tfidf = vectorizer.fit_transform(newsgroups_train['data'])\n",
    "# get the correspondance between features and words\n",
    "feature_names = vectorizer.get_feature_names()"
   ]
  },
  {
   "cell_type": "markdown",
   "metadata": {},
   "source": [
    "#### Split data set in train, test and validation tests (80%, 10%, 10%) "
   ]
  },
  {
   "cell_type": "code",
   "execution_count": 15,
   "metadata": {},
   "outputs": [],
   "source": [
    "# split in train (80%) and tmp (20%)\n",
    "X_train, X_tmp, y_train, y_tmp = train_test_split(tfidf, newsgroups_train['target'], test_size=0.2, random_state=42)\n",
    "# split tmp in test and validation (50% - 50%) ~ (10% - 10%)\n",
    "X_val, X_test, y_val, y_test = train_test_split(X_tmp, y_tmp, test_size=0.5, random_state=42)"
   ]
  },
  {
   "cell_type": "code",
   "execution_count": 16,
   "metadata": {},
   "outputs": [
    {
     "data": {
      "text/plain": [
       "((9051, 129796), (1132, 129796), (1131, 129796))"
      ]
     },
     "execution_count": 16,
     "metadata": {},
     "output_type": "execute_result"
    }
   ],
   "source": [
    "X_train.shape, X_test.shape, X_val.shape"
   ]
  },
  {
   "cell_type": "markdown",
   "metadata": {},
   "source": [
    "#### Train the random forest\n",
    "\n",
    "First we use the default parameters."
   ]
  },
  {
   "cell_type": "code",
   "execution_count": 17,
   "metadata": {},
   "outputs": [
    {
     "data": {
      "text/plain": [
       "RandomForestClassifier(bootstrap=True, class_weight=None, criterion='gini',\n",
       "            max_depth=None, max_features='auto', max_leaf_nodes=None,\n",
       "            min_impurity_decrease=0.0, min_impurity_split=None,\n",
       "            min_samples_leaf=1, min_samples_split=2,\n",
       "            min_weight_fraction_leaf=0.0, n_estimators=10, n_jobs=1,\n",
       "            oob_score=False, random_state=None, verbose=0,\n",
       "            warm_start=False)"
      ]
     },
     "execution_count": 17,
     "metadata": {},
     "output_type": "execute_result"
    }
   ],
   "source": [
    "clf = RandomForestClassifier()\n",
    "clf.fit(X_train, y_train)"
   ]
  },
  {
   "cell_type": "markdown",
   "metadata": {},
   "source": [
    "#### Predict on test and visualize confusion matrix"
   ]
  },
  {
   "cell_type": "code",
   "execution_count": 18,
   "metadata": {},
   "outputs": [
    {
     "data": {
      "image/png": "[encoded data removed]",
      "text/plain": [
       "<matplotlib.figure.Figure at 0x7efc7a564710>"
      ]
     },
     "metadata": {},
     "output_type": "display_data"
    }
   ],
   "source": [
    "y_predict = clf.predict(X_test)\n",
    "plot_confusion_matrix(np.asarray(confusion_matrix(y_test, y_predict)))"
   ]
  },
  {
   "cell_type": "markdown",
   "metadata": {},
   "source": [
    "#### Grid search to find the best parameters"
   ]
  },
  {
   "cell_type": "code",
   "execution_count": 19,
   "metadata": {},
   "outputs": [],
   "source": [
    "parameters = {'n_estimators':[10, 30, 50, 100, 200], 'max_depth':[10, 20, 50, 100, 200]}\n",
    "grid_search = GridSearchCV(clf, parameters)"
   ]
  },
  {
   "cell_type": "code",
   "execution_count": 20,
   "metadata": {},
   "outputs": [
    {
     "data": {
      "text/plain": [
       "{'max_depth': 100, 'n_estimators': 200}"
      ]
     },
     "execution_count": 20,
     "metadata": {},
     "output_type": "execute_result"
    }
   ],
   "source": [
    "grid_search.fit(X_val, y_val)\n",
    "grid_search.best_params_"
   ]
  },
  {
   "cell_type": "markdown",
   "metadata": {},
   "source": [
    "#### Train and test of the classifier with these parameters"
   ]
  },
  {
   "cell_type": "code",
   "execution_count": 24,
   "metadata": {},
   "outputs": [
    {
     "data": {
      "image/png": "[encoded data removed]",
      "text/plain": [
       "<matplotlib.figure.Figure at 0x7efc7a5647b8>"
      ]
     },
     "metadata": {},
     "output_type": "display_data"
    }
   ],
   "source": [
    "clf = RandomForestClassifier(n_estimators=200, max_depth=50)\n",
    "clf.fit(X_train, y_train)\n",
    "y_predict = clf.predict(X_test)\n",
    "\n",
    "plot_confusion_matrix(np.asarray(confusion_matrix(y_test, y_predict)))"
   ]
  },
  {
   "cell_type": "markdown",
   "metadata": {},
   "source": [
    "This matrix shows that the prediction is far more accurate using the tuned hyperparameters found by grid search.\n",
    "Blue is darker outside of the diagonal (less errors of classification)."
   ]
  },
  {
   "cell_type": "markdown",
   "metadata": {},
   "source": [
    "#### Feature importance\n",
    "\n",
    "Now let's look at the `feature_importances_` of the classifier and see the correspondance with terms in the text.\n",
    "\n",
    "We'll look at the 20 more important features and the corresponding terms."
   ]
  },
  {
   "cell_type": "code",
   "execution_count": 22,
   "metadata": {},
   "outputs": [],
   "source": [
    "ind = list(np.argsort(clf.feature_importances_)[-20:])"
   ]
  },
  {
   "cell_type": "code",
   "execution_count": 23,
   "metadata": {
    "scrolled": true
   },
   "outputs": [
    {
     "data": {
      "text/plain": [
       "('crypto',\n",
       " 'orbit',\n",
       " 'chip',\n",
       " 'gun',\n",
       " 'team',\n",
       " 'jesus',\n",
       " 'israeli',\n",
       " 'nhl',\n",
       " 'hockey',\n",
       " 'key',\n",
       " 'israel',\n",
       " 'god',\n",
       " 'space',\n",
       " 'encryption',\n",
       " 'car',\n",
       " 'bike',\n",
       " 'clipper',\n",
       " 'windows',\n",
       " 'dod',\n",
       " 'sale')"
      ]
     },
     "execution_count": 23,
     "metadata": {},
     "output_type": "execute_result"
    }
   ],
   "source": [
    "itemgetter(*ind)(feature_names)"
   ]
  },
  {
   "cell_type": "markdown",
   "metadata": {},
   "source": [
    "TODO:\n",
    "- discuss the results\n",
    "- improve classifications by doing data cleaning (tokenization ?)\n",
    "- compute score of classification"
   ]
  }
 ],
 "metadata": {
  "kernelspec": {
   "display_name": "Python 3",
   "language": "python",
   "name": "python3"
  },
  "language_info": {
   "codemirror_mode": {
    "name": "ipython",
    "version": 3
   },
   "file_extension": ".py",
   "mimetype": "text/x-python",
   "name": "python",
   "nbconvert_exporter": "python",
   "pygments_lexer": "ipython3",
   "version": "3.6.1"
  }
 },
 "nbformat": 4,
 "nbformat_minor": 2
}
