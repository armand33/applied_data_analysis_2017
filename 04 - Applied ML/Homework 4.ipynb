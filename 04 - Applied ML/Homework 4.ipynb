{
 "cells": [
  {
   "cell_type": "markdown",
   "metadata": {},
   "source": [
    "# Homework 3"
   ]
  },
  {
   "cell_type": "markdown",
   "metadata": {},
   "source": [
    "## Question 1: Propensity score matching\n",
    "\n",
    "In this exercise, you will apply [propensity score matching](http://www.stewartschultz.com/statistics/books/Design%20of%20observational%20studies.pdf), which we discussed in lecture 5 (\"Observational studies\"), in order to draw conclusions from an observational study.\n",
    "\n",
    "We will work with a by-now classic dataset from Robert LaLonde's study \"[Evaluating the Econometric Evaluations of Training Programs](http://people.hbs.edu/nashraf/LaLonde_1986.pdf)\" (1986).\n",
    "The study investigated the effect of a job training program (\"National Supported Work Demonstration\") on the real earnings of an individual, a couple of years after completion of the program.\n",
    "Your task is to determine the effectiveness of the \"treatment\" represented by the job training program.\n",
    "\n",
    "#### Dataset description\n",
    "\n",
    "- `treat`: 1 if the subject participated in the job training program, 0 otherwise\n",
    "- `age`: the subject's age\n",
    "- `educ`: years of education\n",
    "- `race`: categorical variable with three possible values: Black, Hispanic, or White\n",
    "- `married`: 1 if the subject was married at the time of the training program, 0 otherwise\n",
    "- `nodegree`: 1 if the subject has earned no school degree, 0 otherwise\n",
    "- `re74`: real earnings in 1974 (pre-treatment)\n",
    "- `re75`: real earnings in 1975 (pre-treatment)\n",
    "- `re78`: real earnings in 1978 (outcome)\n",
    "\n",
    "If you want to brush up your knowledge on propensity scores and observational studies, we highly recommend Rosenbaum's excellent book on the [\"Design of Observational Studies\"](http://www.stewartschultz.com/statistics/books/Design%20of%20observational%20studies.pdf). Even just reading the first chapter (18 pages) will help you a lot."
   ]
  },
  {
   "cell_type": "code",
   "execution_count": 115,
   "metadata": {},
   "outputs": [],
   "source": [
    "import pandas as pd\n",
    "import matplotlib.pyplot as plt\n",
    "import numpy as np\n",
    "import seaborn as sns\n",
    "from matplotlib.pyplot import cm\n",
    "from operator import itemgetter\n",
    "#sns.set(style=\"darkgrid\") # global figure style\n",
    "%matplotlib inline "
   ]
  },
  {
   "cell_type": "code",
   "execution_count": 116,
   "metadata": {},
   "outputs": [],
   "source": [
    "df = pd.read_csv('lalonde.csv').set_index('id')"
   ]
  },
  {
   "cell_type": "markdown",
   "metadata": {},
   "source": [
    "#### 1. A naive analysis\n",
    "\n",
    "_Compare the distribution of the outcome variable (`re78`) between the two groups, using plots and numbers.\n",
    "To summarize and compare the distributions, you may use the techniques we discussed in lectures 4 (\"Read the stats carefully\") and 6 (\"Data visualization\")._\n",
    "\n",
    "_What might a naive \"researcher\" conclude from this superficial analysis?_\n"
   ]
  },
  {
   "cell_type": "markdown",
   "metadata": {},
   "source": [
    "By simply taking the means in the outcome year, a naive \"researcher\" might conclude that the study had an adverse effect because the treated group has a lower mean salaries than the non-treated control group:"
   ]
  },
  {
   "cell_type": "code",
   "execution_count": 121,
   "metadata": {},
   "outputs": [
    {
     "name": "stdout",
     "output_type": "stream",
     "text": [
      "Treated group : 185 individuals and mean earnings in 1978 : 6349\n",
      "Control group : 429 individuals and mean earnings in 1978 : 6984\n"
     ]
    }
   ],
   "source": [
    "print('Treated group : {} individuals and mean earnings in 1978 : {}'.format(len(df.loc[df.treat == 1]), int(df.loc[df.treat == 1, 're78'].mean())))\n",
    "print('Control group : {} individuals and mean earnings in 1978 : {}'.format(len(df.loc[df.treat == 0]), int(df.loc[df.treat == 0, 're78'].mean())))"
   ]
  },
  {
   "cell_type": "markdown",
   "metadata": {},
   "source": [
    "We now also want to show the means and standard deviations of the salary of treated and non-treated people before in all years:"
   ]
  },
  {
   "cell_type": "code",
   "execution_count": 122,
   "metadata": {
    "scrolled": true
   },
   "outputs": [
    {
     "data": {
      "image/png": "[encoded data removed]",
      "text/plain": [
       "<matplotlib.figure.Figure at 0x120397550>"
      ]
     },
     "metadata": {},
     "output_type": "display_data"
    }
   ],
   "source": [
    "fig, axes = plt.subplots(1,3,sharey=True)\n",
    "fig.set_size_inches(15,5)\n",
    "cols = ['re74','re75','re78']\n",
    "years = ['1974','1975','1978']\n",
    "for i in range(3): # 0 = treated (axis 0), 1 = non-treated (axis 1)\n",
    "    axes[i].boxplot([df.loc[df.treat==0,cols[i]].values,df.loc[df.treat==1,cols[i]].values])\n",
    "    axes[i].set_xticklabels(['Control population', 'Treated population'])\n",
    "    axes[i].set_title('Salary in ' + str(years[i]) + ' for both population groups')\n",
    "    axes[i].set_ylabel('Salary') # TODO annual?"
   ]
  },
  {
   "cell_type": "markdown",
   "metadata": {},
   "source": [
    "Again, the same conclusion (lower salaries after treatment) seems plausible. However the group with lower salaries already had lower salaries in the years before treatment. So maybe the mean difference in salary between those groups has changed between the years?"
   ]
  },
  {
   "cell_type": "markdown",
   "metadata": {},
   "source": [
    "First, we can show the mean of all variables for treated and non-treated people:"
   ]
  },
  {
   "cell_type": "code",
   "execution_count": 123,
   "metadata": {
    "scrolled": false
   },
   "outputs": [
    {
     "data": {
      "text/html": [
       "<div>\n",
       "<style scoped>\n",
       "    .dataframe tbody tr th:only-of-type {\n",
       "        vertical-align: middle;\n",
       "    }\n",
       "\n",
       "    .dataframe tbody tr th {\n",
       "        vertical-align: top;\n",
       "    }\n",
       "\n",
       "    .dataframe thead th {\n",
       "        text-align: right;\n",
       "    }\n",
       "</style>\n",
       "<table border=\"1\" class=\"dataframe\">\n",
       "  <thead>\n",
       "    <tr style=\"text-align: right;\">\n",
       "      <th></th>\n",
       "      <th>age</th>\n",
       "      <th>educ</th>\n",
       "      <th>black</th>\n",
       "      <th>hispan</th>\n",
       "      <th>married</th>\n",
       "      <th>nodegree</th>\n",
       "      <th>re74</th>\n",
       "      <th>re75</th>\n",
       "      <th>re78</th>\n",
       "    </tr>\n",
       "    <tr>\n",
       "      <th>treat</th>\n",
       "      <th></th>\n",
       "      <th></th>\n",
       "      <th></th>\n",
       "      <th></th>\n",
       "      <th></th>\n",
       "      <th></th>\n",
       "      <th></th>\n",
       "      <th></th>\n",
       "      <th></th>\n",
       "    </tr>\n",
       "  </thead>\n",
       "  <tbody>\n",
       "    <tr>\n",
       "      <th>0</th>\n",
       "      <td>28.03</td>\n",
       "      <td>10.24</td>\n",
       "      <td>0.20</td>\n",
       "      <td>0.14</td>\n",
       "      <td>0.51</td>\n",
       "      <td>0.60</td>\n",
       "      <td>5619.24</td>\n",
       "      <td>2466.48</td>\n",
       "      <td>6984.17</td>\n",
       "    </tr>\n",
       "    <tr>\n",
       "      <th>1</th>\n",
       "      <td>25.82</td>\n",
       "      <td>10.35</td>\n",
       "      <td>0.84</td>\n",
       "      <td>0.06</td>\n",
       "      <td>0.19</td>\n",
       "      <td>0.71</td>\n",
       "      <td>2095.57</td>\n",
       "      <td>1532.06</td>\n",
       "      <td>6349.14</td>\n",
       "    </tr>\n",
       "  </tbody>\n",
       "</table>\n",
       "</div>"
      ],
      "text/plain": [
       "         age   educ  black  hispan  married  nodegree     re74     re75  \\\n",
       "treat                                                                     \n",
       "0      28.03  10.24   0.20    0.14     0.51      0.60  5619.24  2466.48   \n",
       "1      25.82  10.35   0.84    0.06     0.19      0.71  2095.57  1532.06   \n",
       "\n",
       "          re78  \n",
       "treat           \n",
       "0      6984.17  \n",
       "1      6349.14  "
      ]
     },
     "execution_count": 123,
     "metadata": {},
     "output_type": "execute_result"
    }
   ],
   "source": [
    "df_mean_group = df.groupby('treat').mean().round(2)\n",
    "df_mean_group"
   ]
  },
  {
   "cell_type": "code",
   "execution_count": 124,
   "metadata": {},
   "outputs": [
    {
     "name": "stdout",
     "output_type": "stream",
     "text": [
      "Difference between groups in 1974: 3523.67\n",
      "Difference between groups in 1975: 934.42\n",
      "Difference between groups in 1978: 635.03\n"
     ]
    }
   ],
   "source": [
    "diff_t_nt_74 = df_mean_group.loc[0].re74 - df_mean_group.loc[1].re74\n",
    "diff_t_nt_75 = df_mean_group.loc[0].re75 - df_mean_group.loc[1].re75\n",
    "diff_t_nt_78 = df_mean_group.loc[0].re78 - df_mean_group.loc[1].re78\n",
    "print(\"Difference between groups in 1974: \" + str(np.round(diff_t_nt_74,2)))\n",
    "print(\"Difference between groups in 1975: \" + str(np.round(diff_t_nt_75,2)))\n",
    "print(\"Difference between groups in 1978: \" + str(np.round(diff_t_nt_78,2)))"
   ]
  },
  {
   "cell_type": "markdown",
   "metadata": {},
   "source": [
    "Indeed, the difference between the groups got smaller from 1974 to 1978, although salaries got higher on avarage for both groups!"
   ]
  },
  {
   "cell_type": "markdown",
   "metadata": {},
   "source": [
    "Let's plot the histograms of the distribution of revenues rounded to the closest thousand."
   ]
  },
  {
   "cell_type": "code",
   "execution_count": 125,
   "metadata": {},
   "outputs": [],
   "source": [
    "treated_x = df.loc[df.treat == 1, 're78'].values.round(-3)\n",
    "control_x = df.loc[df.treat == 0, 're78'].values.round(-3)\n",
    "\n",
    "x_treated, y_treated = np.unique(treated_x, return_counts=True)\n",
    "x_treated = (x_treated/1000).astype(int)\n",
    "\n",
    "x_control, y_control = np.unique(control_x, return_counts=True)\n",
    "x_control = (x_control/1000).astype(int)"
   ]
  },
  {
   "cell_type": "code",
   "execution_count": 185,
   "metadata": {
    "scrolled": true
   },
   "outputs": [],
   "source": [
    "def plot_histogram(df, columns, treated, title, legend, figsize=(20,10), counts = False):\n",
    "    \"\"\"\n",
    "    This functions plots a histogram adding the values on top of the bins.\n",
    "\n",
    "    x: values of the attribute that is being counted\n",
    "    y: counts of the x values\n",
    "    title: title to give to the histogram\n",
    "    abscissa: absissa to be displayed (what is being counted)\n",
    "    \"\"\"    \n",
    "    color = cm.RdGy(np.linspace(0, 1, 4))\n",
    "    fig, ax = plt.subplots(nrows=1, ncols=1, figsize=figsize)\n",
    "    width = figsize[0]/100*(len(columns)+len(treated))/2 # the width of the bars\n",
    "    offset = figsize[0]/50 # distance between two bars\n",
    "\n",
    "    i = 0\n",
    "    for t in treated:\n",
    "        for c in columns:\n",
    "            \n",
    "            \n",
    "            if counts == True:\n",
    "                x, y = np.unique(df.loc[df.treat == t, c],return_counts = True)\n",
    "                y = y/ len(df[df.treat == t])\n",
    "                \n",
    "                ind = np.arange(len(y))\n",
    "                #ind = ['true','false']\n",
    "            else:\n",
    "                x_treated = df.loc[df.treat == t, c].values.round(-3)\n",
    "                x_treated, y = np.unique(x_treated, return_counts=True)\n",
    "                y = y/len(df.loc[df.treat == t, c])\n",
    "                x = (x_treated/1000).astype(int)\n",
    "                ind = np.arange(len(y))\n",
    "            ax.bar(ind + offset*i, y, width, color=color[i])\n",
    "            ax.set_xticks(ind)\n",
    "            ax.set_xticklabels(x, minor=False)\n",
    "\n",
    "\n",
    "            #for j, v in enumerate(y):\n",
    "            #    ax.text(j-width/6, v + 1, str(v), color=color[i])\n",
    "            i = i + 1\n",
    "        \n",
    "    fig.suptitle(title, fontsize=15)\n",
    "    plt.grid()\n",
    "    plt.xlabel('Revenue')\n",
    "    plt.ylabel('Percentage of population')\n",
    "    plt.legend(legend)\n",
    "    fig.subplots_adjust(top=0.9)\n",
    "    plt.show()\n",
    "    \n"
   ]
  },
  {
   "cell_type": "code",
   "execution_count": 187,
   "metadata": {},
   "outputs": [
    {
     "data": {
      "image/png": "[encoded data removed]",
      "text/plain": [
       "<matplotlib.figure.Figure at 0x120016278>"
      ]
     },
     "metadata": {},
     "output_type": "display_data"
    }
   ],
   "source": [
    "plot_histogram(df, ['black'], [0,1], legend = ['black', 'not black'], title='Revenue of non-treated group (x1000)',\n",
    "               figsize=(15,4), counts=True)"
   ]
  },
  {
   "cell_type": "code",
   "execution_count": null,
   "metadata": {},
   "outputs": [],
   "source": [
    "plot_histogram(df, ['re75','re78'], [1], legend = ['1975','1978'], title='Revenue of treated group (x1000)', figsize=(15,4))"
   ]
  },
  {
   "cell_type": "code",
   "execution_count": 10,
   "metadata": {},
   "outputs": [
    {
     "data": {
      "image/png": "[encoded data removed]",
      "text/plain": [
       "<matplotlib.figure.Figure at 0x115d26860>"
      ]
     },
     "metadata": {},
     "output_type": "display_data"
    }
   ],
   "source": [
    "plot_histogram(df, ['re78'], [0,1], legend = ['non-treated','treated'], title='Revenue in 1978 (x1000)', figsize=(15,4))"
   ]
  },
  {
   "cell_type": "markdown",
   "metadata": {},
   "source": [
    "The histograms above are difficult to interpret and don't seem to give a lot of insight on the data.\n",
    "\n",
    "The two boxplots however tell us that, excepting the outliers, it seems that the distribution of outcomes for the treated population is still under the one of the control population. A 'naive' researcher might conclude that the effect of the training program seems limited."
   ]
  },
  {
   "cell_type": "markdown",
   "metadata": {},
   "source": [
    "#### 2. A closer look at the data\n",
    "\n",
    "You're not naive, of course (and even if you are, you've learned certain things in ADA), so you aren't content with a superficial analysis such as the above.\n",
    "You're aware of the dangers of observational studies, so you take a closer look at the data before jumping to conclusions.\n",
    "\n",
    "For each feature in the dataset, compare its distribution in the treated group with its distribution in the control group, using plots and numbers.\n",
    "As above, you may use the techniques we discussed in class for summarizing and comparing the distributions.\n",
    "\n",
    "What do you observe?\n",
    "Describe what your observations mean for the conclusions drawn by the naive \"researcher\" from his superficial analysis."
   ]
  },
  {
   "cell_type": "code",
   "execution_count": 11,
   "metadata": {},
   "outputs": [
    {
     "name": "stdout",
     "output_type": "stream",
     "text": [
      "Treated group average earnings in 1974 : 2095\n",
      "Control group average earnings in 1974 : 5619\n",
      "\n",
      "Treated group average earnings in 1975 : 1532\n",
      "Control group average earnings in 1975 : 2466\n",
      "\n",
      "Treated group average earnings in 1978 : 6349\n",
      "Control group average earnings in 1978 : 6984\n"
     ]
    }
   ],
   "source": [
    "print('Treated group average earnings in 1974 : {}'.format(int(df.loc[df.treat == 1, 're74'].mean())))\n",
    "print('Control group average earnings in 1974 : {}'.format(int(df.loc[df.treat == 0, 're74'].mean())))\n",
    "print('')\n",
    "print('Treated group average earnings in 1975 : {}'.format(int(df.loc[df.treat == 1, 're75'].mean())))\n",
    "print('Control group average earnings in 1975 : {}'.format(int(df.loc[df.treat == 0, 're75'].mean())))\n",
    "print('')\n",
    "print('Treated group average earnings in 1978 : {}'.format(int(df.loc[df.treat == 1, 're78'].mean())))\n",
    "print('Control group average earnings in 1978 : {}'.format(int(df.loc[df.treat == 0, 're78'].mean())))"
   ]
  },
  {
   "cell_type": "code",
   "execution_count": 12,
   "metadata": {},
   "outputs": [],
   "source": [
    "def get_corr_matrix(df, mask_diag=True, f_size=(6,5)):\n",
    "    \n",
    "    f, ax = plt.subplots(figsize=f_size)\n",
    "    corr = df.corr()\n",
    "\n",
    "    # Generate a mask for the upper triangle\n",
    "    mask = np.zeros_like(corr, dtype=np.bool)\n",
    "    if mask_diag:\n",
    "        mask[np.triu_indices_from(mask)] = True\n",
    "\n",
    "    sns.heatmap(corr, mask=mask, cmap=sns.diverging_palette(220, 10, as_cmap=True),\n",
    "                square=True, ax=ax, annot=True)\n",
    "    plt.show()"
   ]
  },
  {
   "cell_type": "code",
   "execution_count": 13,
   "metadata": {
    "scrolled": true
   },
   "outputs": [
    {
     "data": {
      "image/png": "[encoded data removed]",
      "text/plain": [
       "<matplotlib.figure.Figure at 0x11585c128>"
      ]
     },
     "metadata": {},
     "output_type": "display_data"
    }
   ],
   "source": [
    "get_corr_matrix(df)"
   ]
  },
  {
   "cell_type": "markdown",
   "metadata": {},
   "source": [
    "The correlation matrix confirms the assumption that black people have a positive correlation with treated people, and unmarried people are slightly correlated with the treatment too. The same goes for the salary.\n",
    "\n"
   ]
  },
  {
   "cell_type": "markdown",
   "metadata": {},
   "source": [
    "#### 3. A propensity score model\n",
    "\n",
    "Use logistic regression to estimate propensity scores for all points in the dataset.\n",
    "You may use `sklearn` to fit the logistic regression model and apply it to each data point to obtain propensity scores:\n",
    "\n",
    "```python\n",
    "from sklearn import linear_model\n",
    "logistic = linear_model.LogisticRegression()\n",
    "```\n",
    "\n",
    "Recall that the propensity score of a data point represents its probability of receiving the treatment, based on its pre-treatment features (in this case, age, education, pre-treatment income, etc.).\n",
    "To brush up on propensity scores, you may read chapter 3.3 of the above-cited book by Rosenbaum or [this article](https://drive.google.com/file/d/0B4jctQY-uqhzTlpBaTBJRTJFVFE/view).\n",
    "\n",
    "Note: you do not need a train/test split here. Train and apply the model on the entire dataset. If you're wondering why this is the right thing to do in this situation, recall that the propensity score model is not used in order to make predictions about unseen data. Its sole purpose is to balance the dataset across treatment groups.\n",
    "(See p. 74 of Rosenbaum's book for an explanation why slight overfitting is even good for propensity scores.\n",
    "If you want even more information, read [this article](https://drive.google.com/file/d/0B4jctQY-uqhzTlpBaTBJRTJFVFE/view).)"
   ]
  },
  {
   "cell_type": "markdown",
   "metadata": {},
   "source": [
    "Following people seem to have been favoured for treatment\n",
    "- Black people (84% proportion treated vs 20% proportion non-treated);\n",
    "- Unmarried people (19% vs 60%);\n",
    "- People with lower incomes in 1974 and 1975.\n",
    "More rigourous statistics need to be produced to confirm these assumptions."
   ]
  },
  {
   "cell_type": "markdown",
   "metadata": {},
   "source": [
    "Next, we want to print some accuracy measures (remember, we only train and evaluate the model on the traning). We chose to show the following measures, based on the confusion matrix:\n",
    "\n",
    "| Confusion matrix |          |              |       |\n",
    "|:----------------:|:--------:|:------------:|:-----:|\n",
    "|                  | Relevant | Non-relevant | Total |\n",
    "|     Retrieved    |    TP    |      FP      |   Pp  |\n",
    "|   Not retrieved  |    FN    |      TN      |   Np  |\n",
    "|       Total      |     P    |       N      |   n   |\n",
    "\n",
    "\n",
    "**Overall Accuracy** measures how many of the labels have been correctly classified.\n",
    "$OA=\\frac{TP + TN}{TP + FP + TN + FN}$\n",
    "\n",
    "**Producer accuracy (Recall)** measures how large a fraction of the expected results is actually found_\n",
    "$R=\\frac{TP}{TP+FN}$\n",
    "\n",
    "**User accuracy (Precision)** measures how many of the results returned are actually relevant.\n",
    "$P=\\frac{TP}{TP+FP}$\n",
    "\n",
    "**F-Score** as a a weighted harmonic measure between the precision and recall:\n",
    "$F1=\\frac{2PR}{P+R}$"
   ]
  },
  {
   "cell_type": "code",
   "execution_count": 14,
   "metadata": {},
   "outputs": [],
   "source": [
    "from sklearn import linear_model\n",
    "from sklearn import metrics\n",
    "logistic = linear_model.LogisticRegression()"
   ]
  },
  {
   "cell_type": "code",
   "execution_count": 27,
   "metadata": {},
   "outputs": [],
   "source": [
    "# training data\n",
    "def propensity_score(metrics = False, mean_prop = False):\n",
    "    \"\"\"Get propensity to be treated\"\"\"\n",
    "    X = np.asarray(df.drop(['treat','re78'], axis=1).values)\n",
    "    Y = np.asarray(df['treat'].values)\n",
    "    logistic.fit(X, Y)\n",
    "    pred = logistic.predict(X) \n",
    "    if metrics:\n",
    "        print_metrics(pred,Y)\n",
    "    pred_prob = logistic.predict_proba(X)\n",
    "    if mean_prop:\n",
    "        mean_propensity(pred_prob)\n",
    "    return pred_prob[:,1]\n",
    "\n",
    "def print_metrics(pred,Y):\n",
    "    \"\"\"print some accuracy measures after training\"\"\"\n",
    "    # get predictions seaof logistic regression\n",
    "    \n",
    "    # get overall accuracy\n",
    "    pred_prob = logistic.predict_proba(X)\n",
    "    print(\"Overall accuracy: \" + str(np.round(metrics.accuracy_score(Y,pred),2)))\n",
    "    print(\"Recall: \" + str(np.round(metrics.recall_score(Y,pred),2)))\n",
    "    print(\"Precision: \" + str(np.round(metrics.precision_score(Y,pred),2)))\n",
    "    print(\"F-Score: \" + str(np.round(metrics.f1_score(Y,pred),2)))\n",
    "    #print(\"AUC: \" + str(np.round(metrics.auc(Y,pred),2)))\n",
    "    return\n",
    "\n",
    "def mean_propensity(pred_prob):\n",
    "    \"\"\"Show mean probability to be treated after fittig by logistic regression\n",
    "    Print table showing the number of subjects in both group (control: 429, 185)\n",
    "    and the probability for treatment according to logistic regression.\"\"\"\n",
    "    \n",
    "    pass"
   ]
  },
  {
   "cell_type": "code",
   "execution_count": 28,
   "metadata": {},
   "outputs": [],
   "source": [
    "pred_prob = propensity_score(mean_prop = True)"
   ]
  },
  {
   "cell_type": "code",
   "execution_count": 30,
   "metadata": {},
   "outputs": [],
   "source": [
    "# insert probabilities to corresponding points in dataframe\n",
    "df['p_treat'] = pred_prob"
   ]
  },
  {
   "cell_type": "code",
   "execution_count": 45,
   "metadata": {},
   "outputs": [
    {
     "data": {
      "text/plain": [
       "<matplotlib.axes._subplots.AxesSubplot at 0x11c087240>"
      ]
     },
     "execution_count": 45,
     "metadata": {},
     "output_type": "execute_result"
    },
    {
     "data": {
      "image/png": "[encoded data removed]",
      "text/plain": [
       "<matplotlib.figure.Figure at 0x116e9fd68>"
      ]
     },
     "metadata": {},
     "output_type": "display_data"
    }
   ],
   "source": [
    "sns.boxplot(x='treat', y='p_treat', data=df)"
   ]
  },
  {
   "cell_type": "markdown",
   "metadata": {},
   "source": [
    "#### 4. Balancing the dataset via matching\n",
    "\n",
    "Use the propensity scores to match each data point from the treated group with exactly one data point from the control group, while ensuring that each data point from the control group is matched with at most one data point from the treated group.\n",
    "(Hint: you may explore the `networkx` package in Python for predefined matching functions.)\n",
    "\n",
    "Your matching should maximize the similarity between matched subjects, as captured by their propensity scores.\n",
    "In other words, the sum (over all matched pairs) of absolute propensity-score differences between the two matched subjects should be minimized.\n",
    "\n",
    "After matching, you have as many treated as you have control subjects.\n",
    "Compare the outcomes (`re78`) between the two groups (treated and control).\n",
    "\n",
    "Also, compare again the feature-value distributions between the two groups, as you've done in part 2 above, but now only for the matched subjects.\n",
    "What do you observe?\n",
    "Are you closer to being able to draw valid conclusions now than you were before?"
   ]
  },
  {
   "cell_type": "markdown",
   "metadata": {},
   "source": [
    "We will create a bipartite graph whose left nodes contain the indexes of people having been treated and as a right nodes contain indexes of people who have not been treated. We will connect all left and right nodes by the weight, which we calculate as the absolute difference between their propensities to be treated. Since `networkx` offers no way to minimize the weights, we will simply take the negative difference and then maximize the weights."
   ]
  },
  {
   "cell_type": "code",
   "execution_count": 98,
   "metadata": {},
   "outputs": [],
   "source": [
    "nodes_control = df.index[df['treat']==0]\n",
    "nodes_treated = df.index[df['treat']==1]"
   ]
  },
  {
   "cell_type": "code",
   "execution_count": 99,
   "metadata": {},
   "outputs": [
    {
     "data": {
      "text/plain": [
       "Index(['PSID1', 'PSID2', 'PSID3', 'PSID4', 'PSID5', 'PSID6', 'PSID7', 'PSID8',\n",
       "       'PSID9', 'PSID10',\n",
       "       ...\n",
       "       'PSID420', 'PSID421', 'PSID422', 'PSID423', 'PSID424', 'PSID425',\n",
       "       'PSID426', 'PSID427', 'PSID428', 'PSID429'],\n",
       "      dtype='object', name='id', length=429)"
      ]
     },
     "execution_count": 99,
     "metadata": {},
     "output_type": "execute_result"
    }
   ],
   "source": [
    "nodes_control"
   ]
  },
  {
   "cell_type": "code",
   "execution_count": 100,
   "metadata": {},
   "outputs": [],
   "source": [
    "Y = df['treat']"
   ]
  },
  {
   "cell_type": "code",
   "execution_count": 101,
   "metadata": {},
   "outputs": [
    {
     "name": "stdout",
     "output_type": "stream",
     "text": [
      "True\n",
      "True\n"
     ]
    }
   ],
   "source": [
    "import networkx as nx\n",
    "from networkx.algorithms import bipartite\n",
    "\n",
    "B = nx.Graph()\n",
    "\n",
    "# add nodes\n",
    "B.add_nodes_from(nodes_treated,bipartite = 0)\n",
    "B.add_nodes_from(nodes_control,bipartite = 1)\n",
    "\n",
    "# add edges and weights\n",
    "for ind_treated, node_treated in enumerate(nodes_treated):\n",
    "    for ind_control, node_control in enumerate(nodes_control):\n",
    "        propensity_diff = -abs(pred_prob[Y==1][ind_treated] - pred_prob[Y==0][ind_control]) # Add minus sign?\n",
    "        B.add_edge(node_treated, node_control, weight = propensity_diff)\n",
    "\n",
    "print(nx.is_connected(B))\n",
    "print(nx.is_bipartite(B))"
   ]
  },
  {
   "cell_type": "code",
   "execution_count": 60,
   "metadata": {},
   "outputs": [
    {
     "name": "stdout",
     "output_type": "stream",
     "text": [
      "Number of nodes: 614\n",
      "Number of edges: 79365\n"
     ]
    }
   ],
   "source": [
    "print('Number of nodes: {}'.format(len(B.nodes())))\n",
    "print('Number of edges: {}'.format(len(B.edges())))"
   ]
  },
  {
   "cell_type": "markdown",
   "metadata": {},
   "source": [
    "Notice: the total number of nodes in the graph corresponds to the total rows in the DataFrame."
   ]
  },
  {
   "cell_type": "code",
   "execution_count": 112,
   "metadata": {},
   "outputs": [],
   "source": [
    "mate = nx.max_weight_matching(B,True)"
   ]
  },
  {
   "cell_type": "code",
   "execution_count": 111,
   "metadata": {},
   "outputs": [],
   "source": [
    "# test\n",
    "t = nx.bipartite.maximum_matching(B)"
   ]
  },
  {
   "cell_type": "code",
   "execution_count": 68,
   "metadata": {},
   "outputs": [],
   "source": [
    "connected\n",
    "group1 = df.loc[connected.keys()]\n",
    "group2 = df.loc[connected.values()]"
   ]
  },
  {
   "cell_type": "code",
   "execution_count": 88,
   "metadata": {},
   "outputs": [
    {
     "name": "stdout",
     "output_type": "stream",
     "text": [
      "370\n",
      "370\n"
     ]
    }
   ],
   "source": [
    "print(len(np.unique(list(connected.keys()))))\n",
    "print(len(np.unique(list(connected.values()))))"
   ]
  },
  {
   "cell_type": "code",
   "execution_count": 89,
   "metadata": {},
   "outputs": [
    {
     "name": "stdout",
     "output_type": "stream",
     "text": [
      "370\n",
      "370\n"
     ]
    }
   ],
   "source": [
    "print(len(np.unique(list(t.keys()))))\n",
    "print(len(np.unique(list(t.values()))))"
   ]
  },
  {
   "cell_type": "code",
   "execution_count": 97,
   "metadata": {},
   "outputs": [
    {
     "data": {
      "text/plain": [
       "{'NSW1': 'PSID100',\n",
       " 'NSW10': 'PSID103',\n",
       " 'NSW100': 'PSID51',\n",
       " 'NSW101': 'PSID173',\n",
       " 'NSW102': 'PSID75',\n",
       " 'NSW103': 'PSID78',\n",
       " 'NSW104': 'PSID4',\n",
       " 'NSW105': 'PSID84',\n",
       " 'NSW106': 'PSID174',\n",
       " 'NSW107': 'PSID170',\n",
       " 'NSW108': 'PSID36',\n",
       " 'NSW109': 'PSID50',\n",
       " 'NSW11': 'PSID60',\n",
       " 'NSW110': 'PSID37',\n",
       " 'NSW111': 'PSID74',\n",
       " 'NSW112': 'PSID128',\n",
       " 'NSW113': 'PSID158',\n",
       " 'NSW114': 'PSID124',\n",
       " 'NSW115': 'PSID76',\n",
       " 'NSW116': 'PSID72',\n",
       " 'NSW117': 'PSID71',\n",
       " 'NSW118': 'PSID171',\n",
       " 'NSW119': 'PSID143',\n",
       " 'NSW12': 'PSID105',\n",
       " 'NSW120': 'PSID5',\n",
       " 'NSW121': 'PSID91',\n",
       " 'NSW122': 'PSID172',\n",
       " 'NSW123': 'PSID68',\n",
       " 'NSW124': 'PSID116',\n",
       " 'NSW125': 'PSID184',\n",
       " 'NSW126': 'PSID113',\n",
       " 'NSW127': 'PSID65',\n",
       " 'NSW128': 'PSID126',\n",
       " 'NSW129': 'PSID162',\n",
       " 'NSW13': 'PSID121',\n",
       " 'NSW130': 'PSID81',\n",
       " 'NSW131': 'PSID8',\n",
       " 'NSW132': 'PSID127',\n",
       " 'NSW133': 'PSID133',\n",
       " 'NSW134': 'PSID123',\n",
       " 'NSW135': 'PSID183',\n",
       " 'NSW136': 'PSID102',\n",
       " 'NSW137': 'PSID104',\n",
       " 'NSW138': 'PSID150',\n",
       " 'NSW139': 'PSID138',\n",
       " 'NSW14': 'PSID119',\n",
       " 'NSW140': 'PSID108',\n",
       " 'NSW141': 'PSID179',\n",
       " 'NSW142': 'PSID13',\n",
       " 'NSW143': 'PSID167',\n",
       " 'NSW144': 'PSID24',\n",
       " 'NSW145': 'PSID139',\n",
       " 'NSW146': 'PSID106',\n",
       " 'NSW147': 'PSID180',\n",
       " 'NSW148': 'PSID52',\n",
       " 'NSW149': 'PSID63',\n",
       " 'NSW15': 'PSID12',\n",
       " 'NSW150': 'PSID7',\n",
       " 'NSW151': 'PSID92',\n",
       " 'NSW152': 'PSID35',\n",
       " 'NSW153': 'PSID134',\n",
       " 'NSW154': 'PSID69',\n",
       " 'NSW155': 'PSID144',\n",
       " 'NSW156': 'PSID66',\n",
       " 'NSW157': 'PSID112',\n",
       " 'NSW158': 'PSID18',\n",
       " 'NSW159': 'PSID161',\n",
       " 'NSW16': 'PSID131',\n",
       " 'NSW160': 'PSID178',\n",
       " 'NSW161': 'PSID41',\n",
       " 'NSW162': 'PSID38',\n",
       " 'NSW163': 'PSID45',\n",
       " 'NSW164': 'PSID80',\n",
       " 'NSW165': 'PSID61',\n",
       " 'NSW166': 'PSID95',\n",
       " 'NSW167': 'PSID166',\n",
       " 'NSW168': 'PSID53',\n",
       " 'NSW169': 'PSID181',\n",
       " 'NSW17': 'PSID3',\n",
       " 'NSW170': 'PSID185',\n",
       " 'NSW171': 'PSID141',\n",
       " 'NSW172': 'PSID114',\n",
       " 'NSW173': 'PSID107',\n",
       " 'NSW174': 'PSID145',\n",
       " 'NSW175': 'PSID156',\n",
       " 'NSW176': 'PSID111',\n",
       " 'NSW177': 'PSID46',\n",
       " 'NSW178': 'PSID101',\n",
       " 'NSW179': 'PSID120',\n",
       " 'NSW18': 'PSID79',\n",
       " 'NSW180': 'PSID130',\n",
       " 'NSW181': 'PSID115',\n",
       " 'NSW182': 'PSID23',\n",
       " 'NSW183': 'PSID149',\n",
       " 'NSW184': 'PSID28',\n",
       " 'NSW185': 'PSID164',\n",
       " 'NSW19': 'PSID49',\n",
       " 'NSW2': 'PSID59',\n",
       " 'NSW20': 'PSID160',\n",
       " 'NSW21': 'PSID29',\n",
       " 'NSW22': 'PSID57',\n",
       " 'NSW23': 'PSID21',\n",
       " 'NSW24': 'PSID110',\n",
       " 'NSW25': 'PSID136',\n",
       " 'NSW26': 'PSID34',\n",
       " 'NSW27': 'PSID30',\n",
       " 'NSW28': 'PSID182',\n",
       " 'NSW29': 'PSID16',\n",
       " 'NSW3': 'PSID125',\n",
       " 'NSW30': 'PSID117',\n",
       " 'NSW31': 'PSID9',\n",
       " 'NSW32': 'PSID137',\n",
       " 'NSW33': 'PSID175',\n",
       " 'NSW34': 'PSID70',\n",
       " 'NSW35': 'PSID39',\n",
       " 'NSW36': 'PSID25',\n",
       " 'NSW37': 'PSID132',\n",
       " 'NSW38': 'PSID6',\n",
       " 'NSW39': 'PSID140',\n",
       " 'NSW4': 'PSID97',\n",
       " 'NSW40': 'PSID26',\n",
       " 'NSW41': 'PSID47',\n",
       " 'NSW42': 'PSID10',\n",
       " 'NSW43': 'PSID163',\n",
       " 'NSW44': 'PSID58',\n",
       " 'NSW45': 'PSID85',\n",
       " 'NSW46': 'PSID148',\n",
       " 'NSW47': 'PSID11',\n",
       " 'NSW48': 'PSID20',\n",
       " 'NSW49': 'PSID87',\n",
       " 'NSW5': 'PSID88',\n",
       " 'NSW50': 'PSID33',\n",
       " 'NSW51': 'PSID82',\n",
       " 'NSW52': 'PSID93',\n",
       " 'NSW53': 'PSID31',\n",
       " 'NSW54': 'PSID94',\n",
       " 'NSW55': 'PSID42',\n",
       " 'NSW56': 'PSID90',\n",
       " 'NSW57': 'PSID129',\n",
       " 'NSW58': 'PSID122',\n",
       " 'NSW59': 'PSID118',\n",
       " 'NSW6': 'PSID62',\n",
       " 'NSW60': 'PSID99',\n",
       " 'NSW61': 'PSID1',\n",
       " 'NSW62': 'PSID176',\n",
       " 'NSW63': 'PSID44',\n",
       " 'NSW64': 'PSID2',\n",
       " 'NSW65': 'PSID73',\n",
       " 'NSW66': 'PSID159',\n",
       " 'NSW67': 'PSID14',\n",
       " 'NSW68': 'PSID142',\n",
       " 'NSW69': 'PSID54',\n",
       " 'NSW7': 'PSID146',\n",
       " 'NSW70': 'PSID109',\n",
       " 'NSW71': 'PSID98',\n",
       " 'NSW72': 'PSID168',\n",
       " 'NSW73': 'PSID153',\n",
       " 'NSW74': 'PSID165',\n",
       " 'NSW75': 'PSID43',\n",
       " 'NSW76': 'PSID157',\n",
       " 'NSW77': 'PSID169',\n",
       " 'NSW78': 'PSID154',\n",
       " 'NSW79': 'PSID147',\n",
       " 'NSW8': 'PSID83',\n",
       " 'NSW80': 'PSID56',\n",
       " 'NSW81': 'PSID152',\n",
       " 'NSW82': 'PSID15',\n",
       " 'NSW83': 'PSID89',\n",
       " 'NSW84': 'PSID86',\n",
       " 'NSW85': 'PSID48',\n",
       " 'NSW86': 'PSID155',\n",
       " 'NSW87': 'PSID177',\n",
       " 'NSW88': 'PSID22',\n",
       " 'NSW89': 'PSID27',\n",
       " 'NSW9': 'PSID55',\n",
       " 'NSW90': 'PSID17',\n",
       " 'NSW91': 'PSID151',\n",
       " 'NSW92': 'PSID135',\n",
       " 'NSW93': 'PSID40',\n",
       " 'NSW94': 'PSID64',\n",
       " 'NSW95': 'PSID32',\n",
       " 'NSW96': 'PSID96',\n",
       " 'NSW97': 'PSID77',\n",
       " 'NSW98': 'PSID19',\n",
       " 'NSW99': 'PSID67',\n",
       " 'PSID1': 'NSW61',\n",
       " 'PSID10': 'NSW42',\n",
       " 'PSID100': 'NSW1',\n",
       " 'PSID101': 'NSW178',\n",
       " 'PSID102': 'NSW136',\n",
       " 'PSID103': 'NSW10',\n",
       " 'PSID104': 'NSW137',\n",
       " 'PSID105': 'NSW12',\n",
       " 'PSID106': 'NSW146',\n",
       " 'PSID107': 'NSW173',\n",
       " 'PSID108': 'NSW140',\n",
       " 'PSID109': 'NSW70',\n",
       " 'PSID11': 'NSW47',\n",
       " 'PSID110': 'NSW24',\n",
       " 'PSID111': 'NSW176',\n",
       " 'PSID112': 'NSW157',\n",
       " 'PSID113': 'NSW126',\n",
       " 'PSID114': 'NSW172',\n",
       " 'PSID115': 'NSW181',\n",
       " 'PSID116': 'NSW124',\n",
       " 'PSID117': 'NSW30',\n",
       " 'PSID118': 'NSW59',\n",
       " 'PSID119': 'NSW14',\n",
       " 'PSID12': 'NSW15',\n",
       " 'PSID120': 'NSW179',\n",
       " 'PSID121': 'NSW13',\n",
       " 'PSID122': 'NSW58',\n",
       " 'PSID123': 'NSW134',\n",
       " 'PSID124': 'NSW114',\n",
       " 'PSID125': 'NSW3',\n",
       " 'PSID126': 'NSW128',\n",
       " 'PSID127': 'NSW132',\n",
       " 'PSID128': 'NSW112',\n",
       " 'PSID129': 'NSW57',\n",
       " 'PSID13': 'NSW142',\n",
       " 'PSID130': 'NSW180',\n",
       " 'PSID131': 'NSW16',\n",
       " 'PSID132': 'NSW37',\n",
       " 'PSID133': 'NSW133',\n",
       " 'PSID134': 'NSW153',\n",
       " 'PSID135': 'NSW92',\n",
       " 'PSID136': 'NSW25',\n",
       " 'PSID137': 'NSW32',\n",
       " 'PSID138': 'NSW139',\n",
       " 'PSID139': 'NSW145',\n",
       " 'PSID14': 'NSW67',\n",
       " 'PSID140': 'NSW39',\n",
       " 'PSID141': 'NSW171',\n",
       " 'PSID142': 'NSW68',\n",
       " 'PSID143': 'NSW119',\n",
       " 'PSID144': 'NSW155',\n",
       " 'PSID145': 'NSW174',\n",
       " 'PSID146': 'NSW7',\n",
       " 'PSID147': 'NSW79',\n",
       " 'PSID148': 'NSW46',\n",
       " 'PSID149': 'NSW183',\n",
       " 'PSID15': 'NSW82',\n",
       " 'PSID150': 'NSW138',\n",
       " 'PSID151': 'NSW91',\n",
       " 'PSID152': 'NSW81',\n",
       " 'PSID153': 'NSW73',\n",
       " 'PSID154': 'NSW78',\n",
       " 'PSID155': 'NSW86',\n",
       " 'PSID156': 'NSW175',\n",
       " 'PSID157': 'NSW76',\n",
       " 'PSID158': 'NSW113',\n",
       " 'PSID159': 'NSW66',\n",
       " 'PSID16': 'NSW29',\n",
       " 'PSID160': 'NSW20',\n",
       " 'PSID161': 'NSW159',\n",
       " 'PSID162': 'NSW129',\n",
       " 'PSID163': 'NSW43',\n",
       " 'PSID164': 'NSW185',\n",
       " 'PSID165': 'NSW74',\n",
       " 'PSID166': 'NSW167',\n",
       " 'PSID167': 'NSW143',\n",
       " 'PSID168': 'NSW72',\n",
       " 'PSID169': 'NSW77',\n",
       " 'PSID17': 'NSW90',\n",
       " 'PSID170': 'NSW107',\n",
       " 'PSID171': 'NSW118',\n",
       " 'PSID172': 'NSW122',\n",
       " 'PSID173': 'NSW101',\n",
       " 'PSID174': 'NSW106',\n",
       " 'PSID175': 'NSW33',\n",
       " 'PSID176': 'NSW62',\n",
       " 'PSID177': 'NSW87',\n",
       " 'PSID178': 'NSW160',\n",
       " 'PSID179': 'NSW141',\n",
       " 'PSID18': 'NSW158',\n",
       " 'PSID180': 'NSW147',\n",
       " 'PSID181': 'NSW169',\n",
       " 'PSID182': 'NSW28',\n",
       " 'PSID183': 'NSW135',\n",
       " 'PSID184': 'NSW125',\n",
       " 'PSID185': 'NSW170',\n",
       " 'PSID19': 'NSW98',\n",
       " 'PSID2': 'NSW64',\n",
       " 'PSID20': 'NSW48',\n",
       " 'PSID21': 'NSW23',\n",
       " 'PSID22': 'NSW88',\n",
       " 'PSID23': 'NSW182',\n",
       " 'PSID24': 'NSW144',\n",
       " 'PSID25': 'NSW36',\n",
       " 'PSID26': 'NSW40',\n",
       " 'PSID27': 'NSW89',\n",
       " 'PSID28': 'NSW184',\n",
       " 'PSID29': 'NSW21',\n",
       " 'PSID3': 'NSW17',\n",
       " 'PSID30': 'NSW27',\n",
       " 'PSID31': 'NSW53',\n",
       " 'PSID32': 'NSW95',\n",
       " 'PSID33': 'NSW50',\n",
       " 'PSID34': 'NSW26',\n",
       " 'PSID35': 'NSW152',\n",
       " 'PSID36': 'NSW108',\n",
       " 'PSID37': 'NSW110',\n",
       " 'PSID38': 'NSW162',\n",
       " 'PSID39': 'NSW35',\n",
       " 'PSID4': 'NSW104',\n",
       " 'PSID40': 'NSW93',\n",
       " 'PSID41': 'NSW161',\n",
       " 'PSID42': 'NSW55',\n",
       " 'PSID43': 'NSW75',\n",
       " 'PSID44': 'NSW63',\n",
       " 'PSID45': 'NSW163',\n",
       " 'PSID46': 'NSW177',\n",
       " 'PSID47': 'NSW41',\n",
       " 'PSID48': 'NSW85',\n",
       " 'PSID49': 'NSW19',\n",
       " 'PSID5': 'NSW120',\n",
       " 'PSID50': 'NSW109',\n",
       " 'PSID51': 'NSW100',\n",
       " 'PSID52': 'NSW148',\n",
       " 'PSID53': 'NSW168',\n",
       " 'PSID54': 'NSW69',\n",
       " 'PSID55': 'NSW9',\n",
       " 'PSID56': 'NSW80',\n",
       " 'PSID57': 'NSW22',\n",
       " 'PSID58': 'NSW44',\n",
       " 'PSID59': 'NSW2',\n",
       " 'PSID6': 'NSW38',\n",
       " 'PSID60': 'NSW11',\n",
       " 'PSID61': 'NSW165',\n",
       " 'PSID62': 'NSW6',\n",
       " 'PSID63': 'NSW149',\n",
       " 'PSID64': 'NSW94',\n",
       " 'PSID65': 'NSW127',\n",
       " 'PSID66': 'NSW156',\n",
       " 'PSID67': 'NSW99',\n",
       " 'PSID68': 'NSW123',\n",
       " 'PSID69': 'NSW154',\n",
       " 'PSID7': 'NSW150',\n",
       " 'PSID70': 'NSW34',\n",
       " 'PSID71': 'NSW117',\n",
       " 'PSID72': 'NSW116',\n",
       " 'PSID73': 'NSW65',\n",
       " 'PSID74': 'NSW111',\n",
       " 'PSID75': 'NSW102',\n",
       " 'PSID76': 'NSW115',\n",
       " 'PSID77': 'NSW97',\n",
       " 'PSID78': 'NSW103',\n",
       " 'PSID79': 'NSW18',\n",
       " 'PSID8': 'NSW131',\n",
       " 'PSID80': 'NSW164',\n",
       " 'PSID81': 'NSW130',\n",
       " 'PSID82': 'NSW51',\n",
       " 'PSID83': 'NSW8',\n",
       " 'PSID84': 'NSW105',\n",
       " 'PSID85': 'NSW45',\n",
       " 'PSID86': 'NSW84',\n",
       " 'PSID87': 'NSW49',\n",
       " 'PSID88': 'NSW5',\n",
       " 'PSID89': 'NSW83',\n",
       " 'PSID9': 'NSW31',\n",
       " 'PSID90': 'NSW56',\n",
       " 'PSID91': 'NSW121',\n",
       " 'PSID92': 'NSW151',\n",
       " 'PSID93': 'NSW52',\n",
       " 'PSID94': 'NSW54',\n",
       " 'PSID95': 'NSW166',\n",
       " 'PSID96': 'NSW96',\n",
       " 'PSID97': 'NSW4',\n",
       " 'PSID98': 'NSW71',\n",
       " 'PSID99': 'NSW60'}"
      ]
     },
     "execution_count": 97,
     "metadata": {},
     "output_type": "execute_result"
    }
   ],
   "source": [
    "t"
   ]
  },
  {
   "cell_type": "code",
   "execution_count": 86,
   "metadata": {},
   "outputs": [
    {
     "data": {
      "text/html": [
       "<div>\n",
       "<style scoped>\n",
       "    .dataframe tbody tr th:only-of-type {\n",
       "        vertical-align: middle;\n",
       "    }\n",
       "\n",
       "    .dataframe tbody tr th {\n",
       "        vertical-align: top;\n",
       "    }\n",
       "\n",
       "    .dataframe thead th {\n",
       "        text-align: right;\n",
       "    }\n",
       "</style>\n",
       "<table border=\"1\" class=\"dataframe\">\n",
       "  <thead>\n",
       "    <tr style=\"text-align: right;\">\n",
       "      <th></th>\n",
       "      <th>treat</th>\n",
       "      <th>age</th>\n",
       "      <th>educ</th>\n",
       "      <th>black</th>\n",
       "      <th>hispan</th>\n",
       "      <th>married</th>\n",
       "      <th>nodegree</th>\n",
       "      <th>re74</th>\n",
       "      <th>re75</th>\n",
       "      <th>re78</th>\n",
       "      <th>p_treat</th>\n",
       "      <th>match_treat</th>\n",
       "    </tr>\n",
       "    <tr>\n",
       "      <th>id</th>\n",
       "      <th></th>\n",
       "      <th></th>\n",
       "      <th></th>\n",
       "      <th></th>\n",
       "      <th></th>\n",
       "      <th></th>\n",
       "      <th></th>\n",
       "      <th></th>\n",
       "      <th></th>\n",
       "      <th></th>\n",
       "      <th></th>\n",
       "      <th></th>\n",
       "    </tr>\n",
       "  </thead>\n",
       "  <tbody>\n",
       "  </tbody>\n",
       "</table>\n",
       "</div>"
      ],
      "text/plain": [
       "Empty DataFrame\n",
       "Columns: [treat, age, educ, black, hispan, married, nodegree, re74, re75, re78, p_treat, match_treat]\n",
       "Index: []"
      ]
     },
     "execution_count": 86,
     "metadata": {},
     "output_type": "execute_result"
    }
   ],
   "source": [
    "# TODO show propensity to be treated for both groups\n",
    "df['match_treat'] = -1\n",
    "df.loc[connected.keys(),'match_treat']=0\n",
    "df.loc[connected.values(),'match_treat']=1\n",
    "#df[df['match_treat']==0]\n",
    "df"
   ]
  },
  {
   "cell_type": "markdown",
   "metadata": {},
   "source": [
    "#### 5. Balancing the groups further\n",
    "\n",
    "Based on your comparison of feature-value distributions from part 4, are you fully satisfied with your matching?\n",
    "Would you say your dataset is sufficiently balanced?\n",
    "If not, in what ways could the \"balanced\" dataset you have obtained still not allow you to draw valid conclusions?\n",
    "\n",
    "Improve your matching by explicitly making sure that you match only subjects that have the same value for the problematic feature.\n",
    "Argue with numbers and plots that the two groups (treated and control) are now better balanced than after part 4."
   ]
  },
  {
   "cell_type": "code",
   "execution_count": null,
   "metadata": {},
   "outputs": [],
   "source": []
  },
  {
   "cell_type": "markdown",
   "metadata": {},
   "source": [
    "#### 6. A less naive analysis\n",
    "\n",
    "Compare the outcomes (`re78`) between treated and control subjects, as you've done in part 1, but now only for the matched dataset you've obtained from part 5.\n",
    "What do you conclude about the effectiveness of the job training program?"
   ]
  },
  {
   "cell_type": "code",
   "execution_count": null,
   "metadata": {},
   "outputs": [],
   "source": []
  },
  {
   "cell_type": "markdown",
   "metadata": {},
   "source": [
    "## Question 2: Applied ML\n",
    "\n",
    "We are going to build a classifier of news to directly assign them to 20 news categories. Note that the pipeline that you will build in this exercise could be of great help during your project if you plan to work with text!\n",
    "\n",
    "1. Load the 20newsgroup dataset. It is, again, a classic dataset that can directly be loaded using sklearn ([link](http://scikit-learn.org/stable/datasets/twenty_newsgroups.html)).  \n",
    "[TF-IDF](https://en.wikipedia.org/wiki/Tf%E2%80%93idf), short for term frequency–inverse document frequency, is of great help when if comes to compute textual features. Indeed, it gives more importance to terms that are more specific to the considered articles (TF) but reduces the importance of terms that are very frequent in the entire corpus (IDF). Compute TF-IDF features for every article using [TfidfVectorizer](http://scikit-learn.org/stable/modules/generated/sklearn.feature_extraction.text.TfidfVectorizer.html). Then, split your dataset into a training, a testing and a validation set (10% for validation and 10% for testing). Each observation should be paired with its corresponding label (the article category).\n",
    "\n",
    "2. Train a random forest on your training set. Try to fine-tune the parameters of your predictor on your validation set using a simple grid search on the number of estimator \"n_estimators\" and the max depth of the trees \"max_depth\". Then, display a confusion matrix of your classification pipeline. Lastly, once you assessed your model, inspect the `feature_importances_` attribute of your random forest and discuss the obtained results."
   ]
  },
  {
   "cell_type": "code",
   "execution_count": 11,
   "metadata": {},
   "outputs": [],
   "source": [
    "from sklearn.feature_extraction.text import TfidfVectorizer\n",
    "from sklearn.datasets import fetch_20newsgroups\n",
    "from sklearn.model_selection import train_test_split\n",
    "from sklearn.model_selection import GridSearchCV\n",
    "from sklearn.ensemble import RandomForestClassifier\n",
    "from sklearn.metrics import confusion_matrix"
   ]
  },
  {
   "cell_type": "code",
   "execution_count": 12,
   "metadata": {},
   "outputs": [],
   "source": [
    "def plot_confusion_matrix(mat):\n",
    "    fig, ax = plt.subplots(figsize=(10,10))\n",
    "    sns.heatmap(mat, cmap=sns.diverging_palette(220, 10, as_cmap=True), square=True, ax=ax)\n",
    "    plt.show()"
   ]
  },
  {
   "cell_type": "markdown",
   "metadata": {},
   "source": [
    "#### Import the data"
   ]
  },
  {
   "cell_type": "code",
   "execution_count": 13,
   "metadata": {},
   "outputs": [],
   "source": [
    "newsgroups_train = fetch_20newsgroups(subset='train')"
   ]
  },
  {
   "cell_type": "markdown",
   "metadata": {},
   "source": [
    "#### Compute the df-idf matrix"
   ]
  },
  {
   "cell_type": "code",
   "execution_count": 14,
   "metadata": {},
   "outputs": [],
   "source": [
    "# declare the vectorizer\n",
    "vectorizer = TfidfVectorizer(stop_words='english', lowercase=True)\n",
    "# compute the td-idf features\n",
    "tfidf = vectorizer.fit_transform(newsgroups_train['data'])\n",
    "# get the correspondance between features and words\n",
    "feature_names = vectorizer.get_feature_names()"
   ]
  },
  {
   "cell_type": "markdown",
   "metadata": {},
   "source": [
    "#### Split data set in train, test and validation tests (80%, 10%, 10%) "
   ]
  },
  {
   "cell_type": "code",
   "execution_count": 15,
   "metadata": {},
   "outputs": [],
   "source": [
    "# split in train (80%) and tmp (20%)\n",
    "X_train, X_tmp, y_train, y_tmp = train_test_split(tfidf, newsgroups_train['target'], test_size=0.2, random_state=42)\n",
    "# split tmp in test and validation (50% - 50%) ~ (10% - 10%)\n",
    "X_val, X_test, y_val, y_test = train_test_split(X_tmp, y_tmp, test_size=0.5, random_state=42)"
   ]
  },
  {
   "cell_type": "code",
   "execution_count": 16,
   "metadata": {},
   "outputs": [
    {
     "data": {
      "text/plain": [
       "((9051, 129796), (1132, 129796), (1131, 129796))"
      ]
     },
     "execution_count": 16,
     "metadata": {},
     "output_type": "execute_result"
    }
   ],
   "source": [
    "X_train.shape, X_test.shape, X_val.shape"
   ]
  },
  {
   "cell_type": "markdown",
   "metadata": {},
   "source": [
    "#### Train the random forest\n",
    "\n",
    "First we use the default parameters."
   ]
  },
  {
   "cell_type": "code",
   "execution_count": 17,
   "metadata": {},
   "outputs": [
    {
     "data": {
      "text/plain": [
       "RandomForestClassifier(bootstrap=True, class_weight=None, criterion='gini',\n",
       "            max_depth=None, max_features='auto', max_leaf_nodes=None,\n",
       "            min_impurity_decrease=0.0, min_impurity_split=None,\n",
       "            min_samples_leaf=1, min_samples_split=2,\n",
       "            min_weight_fraction_leaf=0.0, n_estimators=10, n_jobs=1,\n",
       "            oob_score=False, random_state=None, verbose=0,\n",
       "            warm_start=False)"
      ]
     },
     "execution_count": 17,
     "metadata": {},
     "output_type": "execute_result"
    }
   ],
   "source": [
    "clf = RandomForestClassifier()\n",
    "clf.fit(X_train, y_train)"
   ]
  },
  {
   "cell_type": "markdown",
   "metadata": {},
   "source": [
    "#### Predict on test and visualize confusion matrix"
   ]
  },
  {
   "cell_type": "code",
   "execution_count": 18,
   "metadata": {},
   "outputs": [
    {
     "data": {
      "image/png": "[encoded data removed]",
      "text/plain": [
       "<matplotlib.figure.Figure at 0x7efc7a564710>"
      ]
     },
     "metadata": {},
     "output_type": "display_data"
    }
   ],
   "source": [
    "y_predict = clf.predict(X_test)\n",
    "plot_confusion_matrix(np.asarray(confusion_matrix(y_test, y_predict)))"
   ]
  },
  {
   "cell_type": "markdown",
   "metadata": {},
   "source": [
    "#### Grid search to find the best parameters"
   ]
  },
  {
   "cell_type": "code",
   "execution_count": 19,
   "metadata": {},
   "outputs": [],
   "source": [
    "parameters = {'n_estimators':[10, 30, 50, 100, 200], 'max_depth':[10, 20, 50, 100, 200]}\n",
    "grid_search = GridSearchCV(clf, parameters)"
   ]
  },
  {
   "cell_type": "code",
   "execution_count": 20,
   "metadata": {},
   "outputs": [
    {
     "data": {
      "text/plain": [
       "{'max_depth': 100, 'n_estimators': 200}"
      ]
     },
     "execution_count": 20,
     "metadata": {},
     "output_type": "execute_result"
    }
   ],
   "source": [
    "grid_search.fit(X_val, y_val)\n",
    "grid_search.best_params_"
   ]
  },
  {
   "cell_type": "markdown",
   "metadata": {},
   "source": [
    "#### Train and test of the classifier with these parameters"
   ]
  },
  {
   "cell_type": "code",
   "execution_count": 24,
   "metadata": {},
   "outputs": [
    {
     "data": {
      "image/png": "[encoded data removed]",
      "text/plain": [
       "<matplotlib.figure.Figure at 0x7efc7a5647b8>"
      ]
     },
     "metadata": {},
     "output_type": "display_data"
    }
   ],
   "source": [
    "clf = RandomForestClassifier(n_estimators=200, max_depth=50)\n",
    "clf.fit(X_train, y_train)\n",
    "y_predict = clf.predict(X_test)\n",
    "\n",
    "plot_confusion_matrix(np.asarray(confusion_matrix(y_test, y_predict)))"
   ]
  },
  {
   "cell_type": "markdown",
   "metadata": {},
   "source": [
    "This matrix shows that the prediction is far more accurate using the tuned hyperparameters found by grid search.\n",
    "Blue is darker outside of the diagonal (less errors of classification)."
   ]
  },
  {
   "cell_type": "markdown",
   "metadata": {},
   "source": [
    "#### Feature importance\n",
    "\n",
    "Now let's look at the `feature_importances_` of the classifier and see the correspondance with terms in the text.\n",
    "\n",
    "We'll look at the 20 more important features and the corresponding terms."
   ]
  },
  {
   "cell_type": "code",
   "execution_count": 22,
   "metadata": {},
   "outputs": [],
   "source": [
    "ind = list(np.argsort(clf.feature_importances_)[-20:])"
   ]
  },
  {
   "cell_type": "code",
   "execution_count": 23,
   "metadata": {
    "scrolled": true
   },
   "outputs": [
    {
     "data": {
      "text/plain": [
       "('crypto',\n",
       " 'orbit',\n",
       " 'chip',\n",
       " 'gun',\n",
       " 'team',\n",
       " 'jesus',\n",
       " 'israeli',\n",
       " 'nhl',\n",
       " 'hockey',\n",
       " 'key',\n",
       " 'israel',\n",
       " 'god',\n",
       " 'space',\n",
       " 'encryption',\n",
       " 'car',\n",
       " 'bike',\n",
       " 'clipper',\n",
       " 'windows',\n",
       " 'dod',\n",
       " 'sale')"
      ]
     },
     "execution_count": 23,
     "metadata": {},
     "output_type": "execute_result"
    }
   ],
   "source": [
    "itemgetter(*ind)(feature_names)"
   ]
  },
  {
   "cell_type": "markdown",
   "metadata": {},
   "source": [
    "TODO:\n",
    "- discuss the results\n",
    "- improve classifications by doing data cleaning (tokenization ?)\n",
    "- compute score of classification"
   ]
  }
 ],
 "metadata": {
  "kernelspec": {
   "display_name": "Python 3",
   "language": "python",
   "name": "python3"
  },
  "language_info": {
   "codemirror_mode": {
    "name": "ipython",
    "version": 3
   },
   "file_extension": ".py",
   "mimetype": "text/x-python",
   "name": "python",
   "nbconvert_exporter": "python",
   "pygments_lexer": "ipython3",
   "version": "3.6.1"
  }
 },
 "nbformat": 4,
 "nbformat_minor": 2
}
