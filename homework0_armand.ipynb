{
 "cells": [
  {
   "cell_type": "markdown",
   "metadata": {},
   "source": [
    "# Pandas version of the homework"
   ]
  },
  {
   "cell_type": "code",
   "execution_count": 67,
   "metadata": {
    "collapsed": true
   },
   "outputs": [],
   "source": [
    "import pandas as pd"
   ]
  },
  {
   "cell_type": "code",
   "execution_count": 68,
   "metadata": {},
   "outputs": [],
   "source": [
    "data = pd.read_csv('guns-data-master/full_data.csv')"
   ]
  },
  {
   "cell_type": "code",
   "execution_count": 69,
   "metadata": {},
   "outputs": [
    {
     "name": "stdout",
     "output_type": "stream",
     "text": [
      "33563 people fatally shot in 2012\n",
      "33636 people fatally shot in 2013\n",
      "33599 people fatally shot in 2014\n"
     ]
    }
   ],
   "source": [
    "years = list(data.drop_duplicates('year')['year'].values)\n",
    "for y in years:\n",
    "    n = len(data.loc[data.year == y])\n",
    "    print(str(n)+' people fatally shot in ' + str(y))\n"
   ]
  },
  {
   "cell_type": "code",
   "execution_count": 70,
   "metadata": {},
   "outputs": [
    {
     "name": "stdout",
     "output_type": "stream",
     "text": [
      "Share of suicides : 0.6267485465981468\n"
     ]
    }
   ],
   "source": [
    "print ('Share of suicides : ' + str(len(data.loc[data.intent == \"Suicide\"])/len(data)))"
   ]
  },
  {
   "cell_type": "code",
   "execution_count": 71,
   "metadata": {},
   "outputs": [
    {
     "name": "stdout",
     "output_type": "stream",
     "text": [
      "Share of men in the suicides : 0.8624614166996438\n"
     ]
    }
   ],
   "source": [
    "print('Share of men in the suicides : '+str(len(data.loc[data.intent == 'Suicide'].loc[data.sex == 'M'])/len(data.loc[data.intent == 'Suicide'])))"
   ]
  },
  {
   "cell_type": "code",
   "execution_count": 72,
   "metadata": {},
   "outputs": [
    {
     "name": "stdout",
     "output_type": "stream",
     "text": [
      "Share of men older than 45 in all suicides : 0.5332805698456669\n"
     ]
    }
   ],
   "source": [
    "print('Share of men older than 45 in all suicides : ' + str(len(data.loc[data.intent == 'Suicide'].loc[data.sex == 'M'].loc[data.age >= 45])/len(data.loc[data.intent == 'Suicide'])))"
   ]
  },
  {
   "cell_type": "code",
   "execution_count": 73,
   "metadata": {},
   "outputs": [
    {
     "name": "stdout",
     "output_type": "stream",
     "text": [
      "Share of homicides in all gun deaths : 0.34897517807893014\n",
      "12093 homicides in 2012\n",
      "11674 homicides in 2013\n",
      "11409 homicides in 2014\n"
     ]
    }
   ],
   "source": [
    "print('Share of homicides in all gun deaths : '+str(len(data.loc[data.intent == 'Homicide'])/len(data)))\n",
    "for y in years:\n",
    "    print(str(len(data.loc[data.intent == 'Homicide'].loc[data.year == y]))+' homicides in '+str(y))"
   ]
  },
  {
   "cell_type": "code",
   "execution_count": 74,
   "metadata": {},
   "outputs": [
    {
     "name": "stdout",
     "output_type": "stream",
     "text": [
      "Share of men younger than 31 in all homicides : 0.5005401410052308\n"
     ]
    }
   ],
   "source": [
    "young_men_homicide = data.loc[data.intent == 'Homicide'].loc[data.sex == 'M'].loc[data.age <= 31]\n",
    "print('Share of men younger than 31 in all homicides : ' + str(len(young_men_homicide) / len(data.loc[data.intent == 'Homicide'])))"
   ]
  },
  {
   "cell_type": "code",
   "execution_count": 75,
   "metadata": {},
   "outputs": [
    {
     "name": "stdout",
     "output_type": "stream",
     "text": [
      "Share of black people in those young death by homicides: 0.6621230192537059\n"
     ]
    }
   ],
   "source": [
    "print('Share of black people in those young death by homicides: ' + str(len(young_men_homicide.loc[data.race == 'Black'])/len(young_men_homicide)))\n",
    "      "
   ]
  },
  {
   "cell_type": "code",
   "execution_count": 76,
   "metadata": {},
   "outputs": [
    {
     "name": "stdout",
     "output_type": "stream",
     "text": [
      "1843 female death in homicides in 2012\n",
      "1784 female death in homicides in 2013\n",
      "1746 female death in homicides in 2014\n"
     ]
    }
   ],
   "source": [
    "for y in years:\n",
    "    print(str(len(data.loc[data.intent == 'Homicide'].loc[data.year == y].loc[data.sex == 'F']))+' female death in homicides in '+str(y))"
   ]
  },
  {
   "cell_type": "code",
   "execution_count": 77,
   "metadata": {},
   "outputs": [
    {
     "name": "stdout",
     "output_type": "stream",
     "text": [
      "804 accidents or undetermined in 2012\n",
      "786 accidents or undetermined in 2013\n",
      "856 accidents or undetermined in 2014\n"
     ]
    }
   ],
   "source": [
    "for y in years:\n",
    "    print(str(len(data.loc[data.intent == 'Accidental'].loc[data.year == y])+len(data.loc[data.intent == 'Undetermined'].loc[data.year == y]))+' accidents or undetermined in '+str(y))"
   ]
  },
  {
   "cell_type": "code",
   "execution_count": null,
   "metadata": {
    "collapsed": true
   },
   "outputs": [],
   "source": []
  }
 ],
 "metadata": {
  "kernelspec": {
   "display_name": "Python 3",
   "language": "python",
   "name": "python3"
  },
  "language_info": {
   "codemirror_mode": {
    "name": "ipython",
    "version": 3
   },
   "file_extension": ".py",
   "mimetype": "text/x-python",
   "name": "python",
   "nbconvert_exporter": "python",
   "pygments_lexer": "ipython3",
   "version": "3.6.2"
  }
 },
 "nbformat": 4,
 "nbformat_minor": 2
}
