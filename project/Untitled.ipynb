{
 "cells": [
  {
   "cell_type": "code",
   "execution_count": 1,
   "metadata": {},
   "outputs": [],
   "source": [
    "import pandas as pd "
   ]
  },
  {
   "cell_type": "code",
   "execution_count": 2,
   "metadata": {
    "scrolled": true
   },
   "outputs": [
    {
     "data": {
      "text/plain": [
       "Index(['id', 'year', 'active_year', 'type_of_violence', 'conflict_new_id',\n",
       "       'conflict_name', 'dyad_new_id', 'dyad_name', 'side_a_new_id', 'gwnoa',\n",
       "       'side_a', 'side_b_new_id', 'gwnob', 'side_b', 'number_of_sources',\n",
       "       'source_article', 'source_office', 'source_date', 'source_headline',\n",
       "       'source_original', 'where_prec', 'where_coordinates', 'adm_1', 'adm_2',\n",
       "       'latitude', 'longitude', 'geom_wkt', 'priogrid_gid', 'country',\n",
       "       'country_id', 'region', 'event_clarity', 'date_prec', 'date_start',\n",
       "       'date_end', 'deaths_a', 'deaths_b', 'deaths_civilians',\n",
       "       'deaths_unknown', 'best', 'low', 'high'],\n",
       "      dtype='object')"
      ]
     },
     "execution_count": 2,
     "metadata": {},
     "output_type": "execute_result"
    }
   ],
   "source": [
    "df = pd.read_csv('ged171.csv')\n",
    "df.columns"
   ]
  },
  {
   "cell_type": "code",
   "execution_count": 14,
   "metadata": {},
   "outputs": [
    {
     "data": {
      "text/plain": [
       "id                                                                   4\n",
       "year                                                              2010\n",
       "active_year                                                          1\n",
       "type_of_violence                                                     1\n",
       "conflict_new_id                                                    230\n",
       "conflict_name                           Yemen (North Yemen):Government\n",
       "dyad_new_id                                                        459\n",
       "dyad_name                     Government of Yemen (North Yemen) - AQAP\n",
       "side_a_new_id                                                      123\n",
       "gwnoa                                                              678\n",
       "side_a                               Government of Yemen (North Yemen)\n",
       "side_b_new_id                                                      881\n",
       "gwnob                                                              NaN\n",
       "side_b                                                            AQAP\n",
       "number_of_sources                                                   -1\n",
       "source_article       BBC Monitoring Middle East, 2010-10-01, Yemen ...\n",
       "source_office                                                      NaN\n",
       "source_date                                                        NaN\n",
       "source_headline                                                    NaN\n",
       "source_original                                   Ministry of Interior\n",
       "where_prec                                                           1\n",
       "where_coordinates                                          Şan‘ā’ city\n",
       "adm_1                                    Amānat al ‘Āşimah governorate\n",
       "adm_2                                                              NaN\n",
       "latitude                                                       15.3547\n",
       "longitude                                                      44.2067\n",
       "geom_wkt                                   POINT (44.206667 15.354722)\n",
       "priogrid_gid                                                    151649\n",
       "country                                            Yemen (North Yemen)\n",
       "country_id                                                         678\n",
       "region                                                     Middle East\n",
       "event_clarity                                                        1\n",
       "date_prec                                                            1\n",
       "date_start                                                  2010-09-25\n",
       "date_end                                                    2010-09-25\n",
       "deaths_a                                                             2\n",
       "deaths_b                                                             0\n",
       "deaths_civilians                                                     0\n",
       "deaths_unknown                                                       0\n",
       "best                                                                 2\n",
       "low                                                                  2\n",
       "high                                                                 2\n",
       "Name: 0, dtype: object"
      ]
     },
     "execution_count": 14,
     "metadata": {},
     "output_type": "execute_result"
    }
   ],
   "source": [
    "df.loc[0]"
   ]
  },
  {
   "cell_type": "markdown",
   "metadata": {},
   "source": [
    "\n",
    "## State based conflicts in Africa"
   ]
  },
  {
   "cell_type": "code",
   "execution_count": 4,
   "metadata": {},
   "outputs": [
    {
     "data": {
      "text/plain": [
       "0        Middle East\n",
       "603           Africa\n",
       "2595          Europe\n",
       "7612            Asia\n",
       "37886       Americas\n",
       "Name: region, dtype: object"
      ]
     },
     "execution_count": 4,
     "metadata": {},
     "output_type": "execute_result"
    }
   ],
   "source": [
    "df.drop_duplicates('region')['region']"
   ]
  },
  {
   "cell_type": "code",
   "execution_count": 9,
   "metadata": {},
   "outputs": [],
   "source": [
    "conflicts = tmp.drop_duplicates('conflict_new_id')"
   ]
  },
  {
   "cell_type": "code",
   "execution_count": 7,
   "metadata": {},
   "outputs": [],
   "source": [
    "dfa = df.loc[df.region == 'Middle East']\n"
   ]
  },
  {
   "cell_type": "code",
   "execution_count": 10,
   "metadata": {},
   "outputs": [
    {
     "data": {
      "text/plain": [
       "{'AQAP',\n",
       " 'Chechen Republic of Ichkeria',\n",
       " 'Democratic Republic of Yemen',\n",
       " 'Forces of Michel Aoun',\n",
       " 'Forces of the Caucasus Emirate',\n",
       " 'Government of Australia, Government of United Kingdom, Government of United States of America',\n",
       " 'Government of Iran',\n",
       " 'Government of Iraq',\n",
       " 'Government of Israel',\n",
       " 'Government of Jordan',\n",
       " 'Government of Kuwait',\n",
       " 'Government of Lebanon',\n",
       " 'Government of Russia (Soviet Union)',\n",
       " 'Government of Syria',\n",
       " 'Government of Turkey',\n",
       " 'Government of United States of America',\n",
       " 'Government of Yemen (North Yemen)',\n",
       " 'Hamas',\n",
       " 'Hezbollah',\n",
       " 'IS',\n",
       " 'KDPI',\n",
       " 'MKP',\n",
       " 'PJAK',\n",
       " 'PKK',\n",
       " 'PUK',\n",
       " 'Syrian insurgents',\n",
       " 'al-Qaida '}"
      ]
     },
     "execution_count": 10,
     "metadata": {},
     "output_type": "execute_result"
    }
   ],
   "source": [
    "c"
   ]
  },
  {
   "cell_type": "code",
   "execution_count": 8,
   "metadata": {},
   "outputs": [
    {
     "name": "stdout",
     "output_type": "stream",
     "text": [
      "21 state conflicts in Africa since 1989 involving 27 actors (12 were governments).\n"
     ]
    }
   ],
   "source": [
    "tmp = dfa.loc[dfa.type_of_violence == 1]\n",
    "a = set(tmp.drop_duplicates('conflict_new_id').drop_duplicates('side_a')['side_a'])\n",
    "b = set(tmp.drop_duplicates('conflict_new_id').drop_duplicates('side_b')['side_b'])\n",
    "c = a.union(b)\n",
    "govs = []\n",
    "for i in c:\n",
    "    if i[0:10] == 'Government':\n",
    "        govs.append(i)\n",
    "print('{} state conflicts in Africa since 1989 involving {} actors ({} were governments).'.format((len(tmp.drop_duplicates('conflict_new_id'))), len(c), len(govs)))\n",
    "\n",
    "\n"
   ]
  },
  {
   "cell_type": "code",
   "execution_count": 11,
   "metadata": {},
   "outputs": [
    {
     "name": "stdout",
     "output_type": "stream",
     "text": [
      "al-Qaida  418\n"
     ]
    }
   ],
   "source": [
    "for i in conflicts.index:\n",
    "    if conflicts.loc[i, 'side_a'] == 'Government of United States of America':\n",
    "        print(conflicts.loc[i, 'side_b'], conflicts.loc[i, 'conflict_new_id'])"
   ]
  },
  {
   "cell_type": "code",
   "execution_count": 12,
   "metadata": {},
   "outputs": [
    {
     "name": "stdout",
     "output_type": "stream",
     "text": [
      "US only conflict in Africa has been against al-Quaida and has cost the lives of 12 civilians, 17 unknowns and 68 members of al-Quaida.\n"
     ]
    }
   ],
   "source": [
    "s_civil = 0\n",
    "s_uk = 0\n",
    "s_aq = 0\n",
    "for i in tmp.loc[tmp.conflict_new_id == 418].index:\n",
    "    s_civil += tmp.loc[tmp.conflict_new_id == 418].loc[i, 'deaths_civilians']\n",
    "    s_uk += tmp.loc[tmp.conflict_new_id == 418].loc[i, 'deaths_unknown']\n",
    "    s_aq += tmp.loc[tmp.conflict_new_id == 418].loc[i, 'deaths_b']\n",
    "\n",
    "print('US only conflict in Africa has been against al-Quaida and has cost the lives of {} civilians, {} unknowns and {} members of al-Quaida.'.format(s_civil, s_uk, s_aq))\n",
    "\n",
    "\n"
   ]
  },
  {
   "cell_type": "code",
   "execution_count": 15,
   "metadata": {},
   "outputs": [
    {
     "data": {
      "text/plain": [
       "97"
      ]
     },
     "execution_count": 15,
     "metadata": {},
     "output_type": "execute_result"
    }
   ],
   "source": [
    "12+17+68"
   ]
  },
  {
   "cell_type": "code",
   "execution_count": 17,
   "metadata": {},
   "outputs": [
    {
     "data": {
      "text/html": [
       "<div>\n",
       "<style>\n",
       "    .dataframe thead tr:only-child th {\n",
       "        text-align: right;\n",
       "    }\n",
       "\n",
       "    .dataframe thead th {\n",
       "        text-align: left;\n",
       "    }\n",
       "\n",
       "    .dataframe tbody tr th {\n",
       "        vertical-align: top;\n",
       "    }\n",
       "</style>\n",
       "<table border=\"1\" class=\"dataframe\">\n",
       "  <thead>\n",
       "    <tr style=\"text-align: right;\">\n",
       "      <th></th>\n",
       "      <th>id</th>\n",
       "      <th>year</th>\n",
       "      <th>active_year</th>\n",
       "      <th>type_of_violence</th>\n",
       "      <th>conflict_new_id</th>\n",
       "      <th>conflict_name</th>\n",
       "      <th>dyad_new_id</th>\n",
       "      <th>dyad_name</th>\n",
       "      <th>side_a_new_id</th>\n",
       "      <th>gwnoa</th>\n",
       "      <th>...</th>\n",
       "      <th>date_prec</th>\n",
       "      <th>date_start</th>\n",
       "      <th>date_end</th>\n",
       "      <th>deaths_a</th>\n",
       "      <th>deaths_b</th>\n",
       "      <th>deaths_civilians</th>\n",
       "      <th>deaths_unknown</th>\n",
       "      <th>best</th>\n",
       "      <th>low</th>\n",
       "      <th>high</th>\n",
       "    </tr>\n",
       "  </thead>\n",
       "  <tbody>\n",
       "    <tr>\n",
       "      <th>603</th>\n",
       "      <td>1489</td>\n",
       "      <td>1998</td>\n",
       "      <td>1</td>\n",
       "      <td>1</td>\n",
       "      <td>386</td>\n",
       "      <td>Algeria:Government</td>\n",
       "      <td>829</td>\n",
       "      <td>Government of Algeria - GIA</td>\n",
       "      <td>109</td>\n",
       "      <td>615.0</td>\n",
       "      <td>...</td>\n",
       "      <td>1</td>\n",
       "      <td>1998-03-06</td>\n",
       "      <td>1998-03-06</td>\n",
       "      <td>0</td>\n",
       "      <td>1</td>\n",
       "      <td>0</td>\n",
       "      <td>0</td>\n",
       "      <td>1</td>\n",
       "      <td>1</td>\n",
       "      <td>1</td>\n",
       "    </tr>\n",
       "    <tr>\n",
       "      <th>604</th>\n",
       "      <td>1490</td>\n",
       "      <td>1996</td>\n",
       "      <td>1</td>\n",
       "      <td>1</td>\n",
       "      <td>386</td>\n",
       "      <td>Algeria:Government</td>\n",
       "      <td>829</td>\n",
       "      <td>Government of Algeria - GIA</td>\n",
       "      <td>109</td>\n",
       "      <td>615.0</td>\n",
       "      <td>...</td>\n",
       "      <td>1</td>\n",
       "      <td>1996-01-21</td>\n",
       "      <td>1996-01-21</td>\n",
       "      <td>0</td>\n",
       "      <td>8</td>\n",
       "      <td>0</td>\n",
       "      <td>0</td>\n",
       "      <td>8</td>\n",
       "      <td>8</td>\n",
       "      <td>8</td>\n",
       "    </tr>\n",
       "    <tr>\n",
       "      <th>605</th>\n",
       "      <td>1491</td>\n",
       "      <td>2000</td>\n",
       "      <td>1</td>\n",
       "      <td>1</td>\n",
       "      <td>386</td>\n",
       "      <td>Algeria:Government</td>\n",
       "      <td>830</td>\n",
       "      <td>Government of Algeria - GSPC</td>\n",
       "      <td>109</td>\n",
       "      <td>615.0</td>\n",
       "      <td>...</td>\n",
       "      <td>1</td>\n",
       "      <td>2000-09-12</td>\n",
       "      <td>2000-09-12</td>\n",
       "      <td>0</td>\n",
       "      <td>1</td>\n",
       "      <td>0</td>\n",
       "      <td>0</td>\n",
       "      <td>1</td>\n",
       "      <td>1</td>\n",
       "      <td>1</td>\n",
       "    </tr>\n",
       "    <tr>\n",
       "      <th>606</th>\n",
       "      <td>1492</td>\n",
       "      <td>1994</td>\n",
       "      <td>1</td>\n",
       "      <td>1</td>\n",
       "      <td>386</td>\n",
       "      <td>Algeria:Government</td>\n",
       "      <td>828</td>\n",
       "      <td>Government of Algeria - AIS</td>\n",
       "      <td>109</td>\n",
       "      <td>615.0</td>\n",
       "      <td>...</td>\n",
       "      <td>2</td>\n",
       "      <td>1994-10-23</td>\n",
       "      <td>1994-10-25</td>\n",
       "      <td>0</td>\n",
       "      <td>2</td>\n",
       "      <td>0</td>\n",
       "      <td>0</td>\n",
       "      <td>2</td>\n",
       "      <td>2</td>\n",
       "      <td>2</td>\n",
       "    </tr>\n",
       "    <tr>\n",
       "      <th>607</th>\n",
       "      <td>1493</td>\n",
       "      <td>1997</td>\n",
       "      <td>1</td>\n",
       "      <td>1</td>\n",
       "      <td>386</td>\n",
       "      <td>Algeria:Government</td>\n",
       "      <td>829</td>\n",
       "      <td>Government of Algeria - GIA</td>\n",
       "      <td>109</td>\n",
       "      <td>615.0</td>\n",
       "      <td>...</td>\n",
       "      <td>1</td>\n",
       "      <td>1997-05-31</td>\n",
       "      <td>1997-05-31</td>\n",
       "      <td>0</td>\n",
       "      <td>1</td>\n",
       "      <td>0</td>\n",
       "      <td>0</td>\n",
       "      <td>1</td>\n",
       "      <td>1</td>\n",
       "      <td>1</td>\n",
       "    </tr>\n",
       "  </tbody>\n",
       "</table>\n",
       "<p>5 rows × 42 columns</p>\n",
       "</div>"
      ],
      "text/plain": [
       "       id  year  active_year  type_of_violence  conflict_new_id  \\\n",
       "603  1489  1998            1                 1              386   \n",
       "604  1490  1996            1                 1              386   \n",
       "605  1491  2000            1                 1              386   \n",
       "606  1492  1994            1                 1              386   \n",
       "607  1493  1997            1                 1              386   \n",
       "\n",
       "          conflict_name  dyad_new_id                     dyad_name  \\\n",
       "603  Algeria:Government          829   Government of Algeria - GIA   \n",
       "604  Algeria:Government          829   Government of Algeria - GIA   \n",
       "605  Algeria:Government          830  Government of Algeria - GSPC   \n",
       "606  Algeria:Government          828   Government of Algeria - AIS   \n",
       "607  Algeria:Government          829   Government of Algeria - GIA   \n",
       "\n",
       "     side_a_new_id  gwnoa ...  date_prec  date_start    date_end deaths_a  \\\n",
       "603            109  615.0 ...          1  1998-03-06  1998-03-06        0   \n",
       "604            109  615.0 ...          1  1996-01-21  1996-01-21        0   \n",
       "605            109  615.0 ...          1  2000-09-12  2000-09-12        0   \n",
       "606            109  615.0 ...          2  1994-10-23  1994-10-25        0   \n",
       "607            109  615.0 ...          1  1997-05-31  1997-05-31        0   \n",
       "\n",
       "     deaths_b deaths_civilians deaths_unknown best low high  \n",
       "603         1                0              0    1   1    1  \n",
       "604         8                0              0    8   8    8  \n",
       "605         1                0              0    1   1    1  \n",
       "606         2                0              0    2   2    2  \n",
       "607         1                0              0    1   1    1  \n",
       "\n",
       "[5 rows x 42 columns]"
      ]
     },
     "execution_count": 17,
     "metadata": {},
     "output_type": "execute_result"
    }
   ],
   "source": [
    "tmp.head()"
   ]
  },
  {
   "cell_type": "code",
   "execution_count": 13,
   "metadata": {},
   "outputs": [
    {
     "data": {
      "text/plain": [
       "603    1\n",
       "612    3\n",
       "701    2\n",
       "Name: type_of_violence, dtype: int64"
      ]
     },
     "execution_count": 13,
     "metadata": {},
     "output_type": "execute_result"
    }
   ],
   "source": [
    "dfa.drop_duplicates('type_of_violence')['type_of_violence']"
   ]
  },
  {
   "cell_type": "code",
   "execution_count": 8,
   "metadata": {},
   "outputs": [
    {
     "data": {
      "text/plain": [
       "0        Middle East\n",
       "603           Africa\n",
       "2595          Europe\n",
       "7612            Asia\n",
       "37886       Americas\n",
       "Name: region, dtype: object"
      ]
     },
     "execution_count": 8,
     "metadata": {},
     "output_type": "execute_result"
    }
   ],
   "source": [
    "df.drop_duplicates('region')['region']"
   ]
  },
  {
   "cell_type": "code",
   "execution_count": 53,
   "metadata": {},
   "outputs": [
    {
     "data": {
      "text/html": [
       "<div>\n",
       "<style>\n",
       "    .dataframe thead tr:only-child th {\n",
       "        text-align: right;\n",
       "    }\n",
       "\n",
       "    .dataframe thead th {\n",
       "        text-align: left;\n",
       "    }\n",
       "\n",
       "    .dataframe tbody tr th {\n",
       "        vertical-align: top;\n",
       "    }\n",
       "</style>\n",
       "<table border=\"1\" class=\"dataframe\">\n",
       "  <thead>\n",
       "    <tr style=\"text-align: right;\">\n",
       "      <th></th>\n",
       "      <th>id</th>\n",
       "      <th>year</th>\n",
       "      <th>active_year</th>\n",
       "      <th>type_of_violence</th>\n",
       "      <th>conflict_new_id</th>\n",
       "      <th>conflict_name</th>\n",
       "      <th>dyad_new_id</th>\n",
       "      <th>dyad_name</th>\n",
       "      <th>side_a_new_id</th>\n",
       "      <th>gwnoa</th>\n",
       "      <th>...</th>\n",
       "      <th>date_prec</th>\n",
       "      <th>date_start</th>\n",
       "      <th>date_end</th>\n",
       "      <th>deaths_a</th>\n",
       "      <th>deaths_b</th>\n",
       "      <th>deaths_civilians</th>\n",
       "      <th>deaths_unknown</th>\n",
       "      <th>best</th>\n",
       "      <th>low</th>\n",
       "      <th>high</th>\n",
       "    </tr>\n",
       "  </thead>\n",
       "  <tbody>\n",
       "    <tr>\n",
       "      <th>0</th>\n",
       "      <td>4</td>\n",
       "      <td>2010</td>\n",
       "      <td>1</td>\n",
       "      <td>1</td>\n",
       "      <td>230</td>\n",
       "      <td>Yemen (North Yemen):Government</td>\n",
       "      <td>459</td>\n",
       "      <td>Government of Yemen (North Yemen) - AQAP</td>\n",
       "      <td>123</td>\n",
       "      <td>678.0</td>\n",
       "      <td>...</td>\n",
       "      <td>1</td>\n",
       "      <td>2010-09-25</td>\n",
       "      <td>2010-09-25</td>\n",
       "      <td>2</td>\n",
       "      <td>0</td>\n",
       "      <td>0</td>\n",
       "      <td>0</td>\n",
       "      <td>2</td>\n",
       "      <td>2</td>\n",
       "      <td>2</td>\n",
       "    </tr>\n",
       "    <tr>\n",
       "      <th>1</th>\n",
       "      <td>5</td>\n",
       "      <td>2011</td>\n",
       "      <td>1</td>\n",
       "      <td>3</td>\n",
       "      <td>715</td>\n",
       "      <td>Government of Yemen (North Yemen) - Civilians</td>\n",
       "      <td>1182</td>\n",
       "      <td>Government of Yemen (North Yemen) - Civilians</td>\n",
       "      <td>123</td>\n",
       "      <td>678.0</td>\n",
       "      <td>...</td>\n",
       "      <td>1</td>\n",
       "      <td>2011-02-19</td>\n",
       "      <td>2011-02-19</td>\n",
       "      <td>0</td>\n",
       "      <td>0</td>\n",
       "      <td>0</td>\n",
       "      <td>0</td>\n",
       "      <td>0</td>\n",
       "      <td>0</td>\n",
       "      <td>2</td>\n",
       "    </tr>\n",
       "    <tr>\n",
       "      <th>2</th>\n",
       "      <td>6</td>\n",
       "      <td>2011</td>\n",
       "      <td>1</td>\n",
       "      <td>1</td>\n",
       "      <td>230</td>\n",
       "      <td>Yemen (North Yemen):Government</td>\n",
       "      <td>459</td>\n",
       "      <td>Government of Yemen (North Yemen) - AQAP</td>\n",
       "      <td>123</td>\n",
       "      <td>678.0</td>\n",
       "      <td>...</td>\n",
       "      <td>1</td>\n",
       "      <td>2011-04-16</td>\n",
       "      <td>2011-04-16</td>\n",
       "      <td>0</td>\n",
       "      <td>0</td>\n",
       "      <td>0</td>\n",
       "      <td>0</td>\n",
       "      <td>0</td>\n",
       "      <td>0</td>\n",
       "      <td>1</td>\n",
       "    </tr>\n",
       "    <tr>\n",
       "      <th>3</th>\n",
       "      <td>7</td>\n",
       "      <td>2012</td>\n",
       "      <td>1</td>\n",
       "      <td>1</td>\n",
       "      <td>230</td>\n",
       "      <td>Yemen (North Yemen):Government</td>\n",
       "      <td>459</td>\n",
       "      <td>Government of Yemen (North Yemen) - AQAP</td>\n",
       "      <td>123</td>\n",
       "      <td>678.0</td>\n",
       "      <td>...</td>\n",
       "      <td>1</td>\n",
       "      <td>2012-06-04</td>\n",
       "      <td>2012-06-04</td>\n",
       "      <td>4</td>\n",
       "      <td>1</td>\n",
       "      <td>0</td>\n",
       "      <td>0</td>\n",
       "      <td>5</td>\n",
       "      <td>5</td>\n",
       "      <td>5</td>\n",
       "    </tr>\n",
       "    <tr>\n",
       "      <th>4</th>\n",
       "      <td>10</td>\n",
       "      <td>2012</td>\n",
       "      <td>1</td>\n",
       "      <td>1</td>\n",
       "      <td>230</td>\n",
       "      <td>Yemen (North Yemen):Government</td>\n",
       "      <td>459</td>\n",
       "      <td>Government of Yemen (North Yemen) - AQAP</td>\n",
       "      <td>123</td>\n",
       "      <td>678.0</td>\n",
       "      <td>...</td>\n",
       "      <td>1</td>\n",
       "      <td>2012-12-09</td>\n",
       "      <td>2012-12-09</td>\n",
       "      <td>0</td>\n",
       "      <td>4</td>\n",
       "      <td>1</td>\n",
       "      <td>0</td>\n",
       "      <td>5</td>\n",
       "      <td>5</td>\n",
       "      <td>5</td>\n",
       "    </tr>\n",
       "  </tbody>\n",
       "</table>\n",
       "<p>5 rows × 42 columns</p>\n",
       "</div>"
      ],
      "text/plain": [
       "   id  year  active_year  type_of_violence  conflict_new_id  \\\n",
       "0   4  2010            1                 1              230   \n",
       "1   5  2011            1                 3              715   \n",
       "2   6  2011            1                 1              230   \n",
       "3   7  2012            1                 1              230   \n",
       "4  10  2012            1                 1              230   \n",
       "\n",
       "                                   conflict_name  dyad_new_id  \\\n",
       "0                 Yemen (North Yemen):Government          459   \n",
       "1  Government of Yemen (North Yemen) - Civilians         1182   \n",
       "2                 Yemen (North Yemen):Government          459   \n",
       "3                 Yemen (North Yemen):Government          459   \n",
       "4                 Yemen (North Yemen):Government          459   \n",
       "\n",
       "                                       dyad_name  side_a_new_id  gwnoa ...   \\\n",
       "0       Government of Yemen (North Yemen) - AQAP            123  678.0 ...    \n",
       "1  Government of Yemen (North Yemen) - Civilians            123  678.0 ...    \n",
       "2       Government of Yemen (North Yemen) - AQAP            123  678.0 ...    \n",
       "3       Government of Yemen (North Yemen) - AQAP            123  678.0 ...    \n",
       "4       Government of Yemen (North Yemen) - AQAP            123  678.0 ...    \n",
       "\n",
       "  date_prec  date_start    date_end deaths_a  deaths_b deaths_civilians  \\\n",
       "0         1  2010-09-25  2010-09-25        2         0                0   \n",
       "1         1  2011-02-19  2011-02-19        0         0                0   \n",
       "2         1  2011-04-16  2011-04-16        0         0                0   \n",
       "3         1  2012-06-04  2012-06-04        4         1                0   \n",
       "4         1  2012-12-09  2012-12-09        0         4                1   \n",
       "\n",
       "  deaths_unknown best low high  \n",
       "0              0    2   2    2  \n",
       "1              0    0   0    2  \n",
       "2              0    0   0    1  \n",
       "3              0    5   5    5  \n",
       "4              0    5   5    5  \n",
       "\n",
       "[5 rows x 42 columns]"
      ]
     },
     "execution_count": 53,
     "metadata": {},
     "output_type": "execute_result"
    }
   ],
   "source": [
    "df.head()"
   ]
  },
  {
   "cell_type": "code",
   "execution_count": null,
   "metadata": {},
   "outputs": [],
   "source": []
  }
 ],
 "metadata": {
  "kernelspec": {
   "display_name": "Python 3",
   "language": "python",
   "name": "python3"
  },
  "language_info": {
   "codemirror_mode": {
    "name": "ipython",
    "version": 3
   },
   "file_extension": ".py",
   "mimetype": "text/x-python",
   "name": "python",
   "nbconvert_exporter": "python",
   "pygments_lexer": "ipython3",
   "version": "3.5.3"
  }
 },
 "nbformat": 4,
 "nbformat_minor": 2
}
